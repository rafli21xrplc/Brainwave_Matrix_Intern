{
 "metadata": {
  "kernelspec": {
   "language": "python",
   "display_name": "Python 3",
   "name": "python3"
  },
  "language_info": {
   "name": "python",
   "version": "3.10.12",
   "mimetype": "text/x-python",
   "codemirror_mode": {
    "name": "ipython",
    "version": 3
   },
   "pygments_lexer": "ipython3",
   "nbconvert_exporter": "python",
   "file_extension": ".py"
  },
  "kaggle": {
   "accelerator": "none",
   "dataSources": [
    {
     "sourceId": 23498,
     "sourceType": "datasetVersion",
     "datasetId": 310
    }
   ],
   "dockerImageVersionId": 30822,
   "isInternetEnabled": true,
   "language": "python",
   "sourceType": "notebook",
   "isGpuEnabled": false
  }
 },
 "nbformat_minor": 4,
 "nbformat": 4,
 "cells": [
  {
   "metadata": {},
   "cell_type": "markdown",
   "source": "Import All Library"
  },
  {
   "metadata": {},
   "cell_type": "markdown",
   "source": [
    "I can't upload datasets because my size over large if upload to github.\n",
    "\n",
    "so this my datasets can dawnload in kaggle: https://www.kaggle.com/datasets/mlg-ulb/creditcardfraud"
   ]
  },
  {
   "cell_type": "code",
   "source": [
    "import pandas as pd\n",
    "import plotly.graph_objs as go\n",
    "from plotly.offline import  iplot\n",
    "import plotly.figure_factory as ff\n",
    "import matplotlib.pyplot as plt\n",
    "import joblib\n",
    "from sklearn.linear_model import LogisticRegression\n",
    "from sklearn.tree import DecisionTreeClassifier\n",
    "from sklearn.metrics import accuracy_score, f1_score, precision_score, recall_score\n",
    "from sklearn.model_selection import train_test_split\n",
    "from imblearn.over_sampling import SMOTE\n",
    "import seaborn as sns"
   ],
   "metadata": {
    "trusted": true,
    "execution": {
     "iopub.status.busy": "2024-12-25T14:57:10.963059Z",
     "iopub.execute_input": "2024-12-25T14:57:10.963428Z",
     "iopub.status.idle": "2024-12-25T14:57:10.969513Z",
     "shell.execute_reply.started": "2024-12-25T14:57:10.963393Z",
     "shell.execute_reply": "2024-12-25T14:57:10.968286Z"
    },
    "ExecuteTime": {
     "end_time": "2024-12-26T01:38:21.562544Z",
     "start_time": "2024-12-26T01:38:21.545181Z"
    }
   },
   "outputs": [],
   "execution_count": 63
  },
  {
   "metadata": {},
   "cell_type": "markdown",
   "source": "Exploratory Data Analysis"
  },
  {
   "cell_type": "code",
   "source": "dt = pd.read_csv('./DATASETS/creditcard.csv')",
   "metadata": {
    "trusted": true,
    "execution": {
     "iopub.status.busy": "2024-12-25T14:57:11.362896Z",
     "iopub.execute_input": "2024-12-25T14:57:11.363274Z",
     "iopub.status.idle": "2024-12-25T14:57:14.514508Z",
     "shell.execute_reply.started": "2024-12-25T14:57:11.363246Z",
     "shell.execute_reply": "2024-12-25T14:57:14.513162Z"
    },
    "ExecuteTime": {
     "end_time": "2024-12-26T01:38:26.047745Z",
     "start_time": "2024-12-26T01:38:23.165744Z"
    }
   },
   "outputs": [],
   "execution_count": 64
  },
  {
   "cell_type": "code",
   "source": "dt.head()",
   "metadata": {
    "trusted": true,
    "execution": {
     "iopub.status.busy": "2024-12-25T14:57:14.515878Z",
     "iopub.execute_input": "2024-12-25T14:57:14.516261Z",
     "iopub.status.idle": "2024-12-25T14:57:14.544996Z",
     "shell.execute_reply.started": "2024-12-25T14:57:14.516219Z",
     "shell.execute_reply": "2024-12-25T14:57:14.543858Z"
    },
    "ExecuteTime": {
     "end_time": "2024-12-26T01:38:26.166669Z",
     "start_time": "2024-12-26T01:38:26.117684Z"
    }
   },
   "outputs": [
    {
     "data": {
      "text/plain": [
       "   Time        V1        V2        V3        V4        V5        V6        V7  \\\n",
       "0   0.0 -1.359807 -0.072781  2.536347  1.378155 -0.338321  0.462388  0.239599   \n",
       "1   0.0  1.191857  0.266151  0.166480  0.448154  0.060018 -0.082361 -0.078803   \n",
       "2   1.0 -1.358354 -1.340163  1.773209  0.379780 -0.503198  1.800499  0.791461   \n",
       "3   1.0 -0.966272 -0.185226  1.792993 -0.863291 -0.010309  1.247203  0.237609   \n",
       "4   2.0 -1.158233  0.877737  1.548718  0.403034 -0.407193  0.095921  0.592941   \n",
       "\n",
       "         V8        V9       V10       V11       V12       V13       V14  \\\n",
       "0  0.098698  0.363787  0.090794 -0.551600 -0.617801 -0.991390 -0.311169   \n",
       "1  0.085102 -0.255425 -0.166974  1.612727  1.065235  0.489095 -0.143772   \n",
       "2  0.247676 -1.514654  0.207643  0.624501  0.066084  0.717293 -0.165946   \n",
       "3  0.377436 -1.387024 -0.054952 -0.226487  0.178228  0.507757 -0.287924   \n",
       "4 -0.270533  0.817739  0.753074 -0.822843  0.538196  1.345852 -1.119670   \n",
       "\n",
       "        V15       V16       V17       V18       V19       V20       V21  \\\n",
       "0  1.468177 -0.470401  0.207971  0.025791  0.403993  0.251412 -0.018307   \n",
       "1  0.635558  0.463917 -0.114805 -0.183361 -0.145783 -0.069083 -0.225775   \n",
       "2  2.345865 -2.890083  1.109969 -0.121359 -2.261857  0.524980  0.247998   \n",
       "3 -0.631418 -1.059647 -0.684093  1.965775 -1.232622 -0.208038 -0.108300   \n",
       "4  0.175121 -0.451449 -0.237033 -0.038195  0.803487  0.408542 -0.009431   \n",
       "\n",
       "        V22       V23       V24       V25       V26       V27       V28  \\\n",
       "0  0.277838 -0.110474  0.066928  0.128539 -0.189115  0.133558 -0.021053   \n",
       "1 -0.638672  0.101288 -0.339846  0.167170  0.125895 -0.008983  0.014724   \n",
       "2  0.771679  0.909412 -0.689281 -0.327642 -0.139097 -0.055353 -0.059752   \n",
       "3  0.005274 -0.190321 -1.175575  0.647376 -0.221929  0.062723  0.061458   \n",
       "4  0.798278 -0.137458  0.141267 -0.206010  0.502292  0.219422  0.215153   \n",
       "\n",
       "   Amount  Class  \n",
       "0  149.62      0  \n",
       "1    2.69      0  \n",
       "2  378.66      0  \n",
       "3  123.50      0  \n",
       "4   69.99      0  "
      ],
      "text/html": [
       "<div>\n",
       "<style scoped>\n",
       "    .dataframe tbody tr th:only-of-type {\n",
       "        vertical-align: middle;\n",
       "    }\n",
       "\n",
       "    .dataframe tbody tr th {\n",
       "        vertical-align: top;\n",
       "    }\n",
       "\n",
       "    .dataframe thead th {\n",
       "        text-align: right;\n",
       "    }\n",
       "</style>\n",
       "<table border=\"1\" class=\"dataframe\">\n",
       "  <thead>\n",
       "    <tr style=\"text-align: right;\">\n",
       "      <th></th>\n",
       "      <th>Time</th>\n",
       "      <th>V1</th>\n",
       "      <th>V2</th>\n",
       "      <th>V3</th>\n",
       "      <th>V4</th>\n",
       "      <th>V5</th>\n",
       "      <th>V6</th>\n",
       "      <th>V7</th>\n",
       "      <th>V8</th>\n",
       "      <th>V9</th>\n",
       "      <th>V10</th>\n",
       "      <th>V11</th>\n",
       "      <th>V12</th>\n",
       "      <th>V13</th>\n",
       "      <th>V14</th>\n",
       "      <th>V15</th>\n",
       "      <th>V16</th>\n",
       "      <th>V17</th>\n",
       "      <th>V18</th>\n",
       "      <th>V19</th>\n",
       "      <th>V20</th>\n",
       "      <th>V21</th>\n",
       "      <th>V22</th>\n",
       "      <th>V23</th>\n",
       "      <th>V24</th>\n",
       "      <th>V25</th>\n",
       "      <th>V26</th>\n",
       "      <th>V27</th>\n",
       "      <th>V28</th>\n",
       "      <th>Amount</th>\n",
       "      <th>Class</th>\n",
       "    </tr>\n",
       "  </thead>\n",
       "  <tbody>\n",
       "    <tr>\n",
       "      <th>0</th>\n",
       "      <td>0.0</td>\n",
       "      <td>-1.359807</td>\n",
       "      <td>-0.072781</td>\n",
       "      <td>2.536347</td>\n",
       "      <td>1.378155</td>\n",
       "      <td>-0.338321</td>\n",
       "      <td>0.462388</td>\n",
       "      <td>0.239599</td>\n",
       "      <td>0.098698</td>\n",
       "      <td>0.363787</td>\n",
       "      <td>0.090794</td>\n",
       "      <td>-0.551600</td>\n",
       "      <td>-0.617801</td>\n",
       "      <td>-0.991390</td>\n",
       "      <td>-0.311169</td>\n",
       "      <td>1.468177</td>\n",
       "      <td>-0.470401</td>\n",
       "      <td>0.207971</td>\n",
       "      <td>0.025791</td>\n",
       "      <td>0.403993</td>\n",
       "      <td>0.251412</td>\n",
       "      <td>-0.018307</td>\n",
       "      <td>0.277838</td>\n",
       "      <td>-0.110474</td>\n",
       "      <td>0.066928</td>\n",
       "      <td>0.128539</td>\n",
       "      <td>-0.189115</td>\n",
       "      <td>0.133558</td>\n",
       "      <td>-0.021053</td>\n",
       "      <td>149.62</td>\n",
       "      <td>0</td>\n",
       "    </tr>\n",
       "    <tr>\n",
       "      <th>1</th>\n",
       "      <td>0.0</td>\n",
       "      <td>1.191857</td>\n",
       "      <td>0.266151</td>\n",
       "      <td>0.166480</td>\n",
       "      <td>0.448154</td>\n",
       "      <td>0.060018</td>\n",
       "      <td>-0.082361</td>\n",
       "      <td>-0.078803</td>\n",
       "      <td>0.085102</td>\n",
       "      <td>-0.255425</td>\n",
       "      <td>-0.166974</td>\n",
       "      <td>1.612727</td>\n",
       "      <td>1.065235</td>\n",
       "      <td>0.489095</td>\n",
       "      <td>-0.143772</td>\n",
       "      <td>0.635558</td>\n",
       "      <td>0.463917</td>\n",
       "      <td>-0.114805</td>\n",
       "      <td>-0.183361</td>\n",
       "      <td>-0.145783</td>\n",
       "      <td>-0.069083</td>\n",
       "      <td>-0.225775</td>\n",
       "      <td>-0.638672</td>\n",
       "      <td>0.101288</td>\n",
       "      <td>-0.339846</td>\n",
       "      <td>0.167170</td>\n",
       "      <td>0.125895</td>\n",
       "      <td>-0.008983</td>\n",
       "      <td>0.014724</td>\n",
       "      <td>2.69</td>\n",
       "      <td>0</td>\n",
       "    </tr>\n",
       "    <tr>\n",
       "      <th>2</th>\n",
       "      <td>1.0</td>\n",
       "      <td>-1.358354</td>\n",
       "      <td>-1.340163</td>\n",
       "      <td>1.773209</td>\n",
       "      <td>0.379780</td>\n",
       "      <td>-0.503198</td>\n",
       "      <td>1.800499</td>\n",
       "      <td>0.791461</td>\n",
       "      <td>0.247676</td>\n",
       "      <td>-1.514654</td>\n",
       "      <td>0.207643</td>\n",
       "      <td>0.624501</td>\n",
       "      <td>0.066084</td>\n",
       "      <td>0.717293</td>\n",
       "      <td>-0.165946</td>\n",
       "      <td>2.345865</td>\n",
       "      <td>-2.890083</td>\n",
       "      <td>1.109969</td>\n",
       "      <td>-0.121359</td>\n",
       "      <td>-2.261857</td>\n",
       "      <td>0.524980</td>\n",
       "      <td>0.247998</td>\n",
       "      <td>0.771679</td>\n",
       "      <td>0.909412</td>\n",
       "      <td>-0.689281</td>\n",
       "      <td>-0.327642</td>\n",
       "      <td>-0.139097</td>\n",
       "      <td>-0.055353</td>\n",
       "      <td>-0.059752</td>\n",
       "      <td>378.66</td>\n",
       "      <td>0</td>\n",
       "    </tr>\n",
       "    <tr>\n",
       "      <th>3</th>\n",
       "      <td>1.0</td>\n",
       "      <td>-0.966272</td>\n",
       "      <td>-0.185226</td>\n",
       "      <td>1.792993</td>\n",
       "      <td>-0.863291</td>\n",
       "      <td>-0.010309</td>\n",
       "      <td>1.247203</td>\n",
       "      <td>0.237609</td>\n",
       "      <td>0.377436</td>\n",
       "      <td>-1.387024</td>\n",
       "      <td>-0.054952</td>\n",
       "      <td>-0.226487</td>\n",
       "      <td>0.178228</td>\n",
       "      <td>0.507757</td>\n",
       "      <td>-0.287924</td>\n",
       "      <td>-0.631418</td>\n",
       "      <td>-1.059647</td>\n",
       "      <td>-0.684093</td>\n",
       "      <td>1.965775</td>\n",
       "      <td>-1.232622</td>\n",
       "      <td>-0.208038</td>\n",
       "      <td>-0.108300</td>\n",
       "      <td>0.005274</td>\n",
       "      <td>-0.190321</td>\n",
       "      <td>-1.175575</td>\n",
       "      <td>0.647376</td>\n",
       "      <td>-0.221929</td>\n",
       "      <td>0.062723</td>\n",
       "      <td>0.061458</td>\n",
       "      <td>123.50</td>\n",
       "      <td>0</td>\n",
       "    </tr>\n",
       "    <tr>\n",
       "      <th>4</th>\n",
       "      <td>2.0</td>\n",
       "      <td>-1.158233</td>\n",
       "      <td>0.877737</td>\n",
       "      <td>1.548718</td>\n",
       "      <td>0.403034</td>\n",
       "      <td>-0.407193</td>\n",
       "      <td>0.095921</td>\n",
       "      <td>0.592941</td>\n",
       "      <td>-0.270533</td>\n",
       "      <td>0.817739</td>\n",
       "      <td>0.753074</td>\n",
       "      <td>-0.822843</td>\n",
       "      <td>0.538196</td>\n",
       "      <td>1.345852</td>\n",
       "      <td>-1.119670</td>\n",
       "      <td>0.175121</td>\n",
       "      <td>-0.451449</td>\n",
       "      <td>-0.237033</td>\n",
       "      <td>-0.038195</td>\n",
       "      <td>0.803487</td>\n",
       "      <td>0.408542</td>\n",
       "      <td>-0.009431</td>\n",
       "      <td>0.798278</td>\n",
       "      <td>-0.137458</td>\n",
       "      <td>0.141267</td>\n",
       "      <td>-0.206010</td>\n",
       "      <td>0.502292</td>\n",
       "      <td>0.219422</td>\n",
       "      <td>0.215153</td>\n",
       "      <td>69.99</td>\n",
       "      <td>0</td>\n",
       "    </tr>\n",
       "  </tbody>\n",
       "</table>\n",
       "</div>"
      ]
     },
     "execution_count": 65,
     "metadata": {},
     "output_type": "execute_result"
    }
   ],
   "execution_count": 65
  },
  {
   "cell_type": "code",
   "source": "pd.options.display.max_columns = None",
   "metadata": {
    "trusted": true,
    "execution": {
     "iopub.status.busy": "2024-12-25T14:57:15.057281Z",
     "iopub.execute_input": "2024-12-25T14:57:15.057650Z",
     "iopub.status.idle": "2024-12-25T14:57:15.062131Z",
     "shell.execute_reply.started": "2024-12-25T14:57:15.057613Z",
     "shell.execute_reply": "2024-12-25T14:57:15.060817Z"
    },
    "ExecuteTime": {
     "end_time": "2024-12-26T01:38:27.189357Z",
     "start_time": "2024-12-26T01:38:27.183327Z"
    }
   },
   "outputs": [],
   "execution_count": 66
  },
  {
   "cell_type": "code",
   "source": "dt.head()",
   "metadata": {
    "trusted": true,
    "execution": {
     "iopub.status.busy": "2024-12-25T14:57:15.292150Z",
     "iopub.execute_input": "2024-12-25T14:57:15.292481Z",
     "iopub.status.idle": "2024-12-25T14:57:15.320196Z",
     "shell.execute_reply.started": "2024-12-25T14:57:15.292454Z",
     "shell.execute_reply": "2024-12-25T14:57:15.319169Z"
    },
    "ExecuteTime": {
     "end_time": "2024-12-26T01:38:27.761228Z",
     "start_time": "2024-12-26T01:38:27.678821Z"
    }
   },
   "outputs": [
    {
     "data": {
      "text/plain": [
       "   Time        V1        V2        V3        V4        V5        V6        V7  \\\n",
       "0   0.0 -1.359807 -0.072781  2.536347  1.378155 -0.338321  0.462388  0.239599   \n",
       "1   0.0  1.191857  0.266151  0.166480  0.448154  0.060018 -0.082361 -0.078803   \n",
       "2   1.0 -1.358354 -1.340163  1.773209  0.379780 -0.503198  1.800499  0.791461   \n",
       "3   1.0 -0.966272 -0.185226  1.792993 -0.863291 -0.010309  1.247203  0.237609   \n",
       "4   2.0 -1.158233  0.877737  1.548718  0.403034 -0.407193  0.095921  0.592941   \n",
       "\n",
       "         V8        V9       V10       V11       V12       V13       V14  \\\n",
       "0  0.098698  0.363787  0.090794 -0.551600 -0.617801 -0.991390 -0.311169   \n",
       "1  0.085102 -0.255425 -0.166974  1.612727  1.065235  0.489095 -0.143772   \n",
       "2  0.247676 -1.514654  0.207643  0.624501  0.066084  0.717293 -0.165946   \n",
       "3  0.377436 -1.387024 -0.054952 -0.226487  0.178228  0.507757 -0.287924   \n",
       "4 -0.270533  0.817739  0.753074 -0.822843  0.538196  1.345852 -1.119670   \n",
       "\n",
       "        V15       V16       V17       V18       V19       V20       V21  \\\n",
       "0  1.468177 -0.470401  0.207971  0.025791  0.403993  0.251412 -0.018307   \n",
       "1  0.635558  0.463917 -0.114805 -0.183361 -0.145783 -0.069083 -0.225775   \n",
       "2  2.345865 -2.890083  1.109969 -0.121359 -2.261857  0.524980  0.247998   \n",
       "3 -0.631418 -1.059647 -0.684093  1.965775 -1.232622 -0.208038 -0.108300   \n",
       "4  0.175121 -0.451449 -0.237033 -0.038195  0.803487  0.408542 -0.009431   \n",
       "\n",
       "        V22       V23       V24       V25       V26       V27       V28  \\\n",
       "0  0.277838 -0.110474  0.066928  0.128539 -0.189115  0.133558 -0.021053   \n",
       "1 -0.638672  0.101288 -0.339846  0.167170  0.125895 -0.008983  0.014724   \n",
       "2  0.771679  0.909412 -0.689281 -0.327642 -0.139097 -0.055353 -0.059752   \n",
       "3  0.005274 -0.190321 -1.175575  0.647376 -0.221929  0.062723  0.061458   \n",
       "4  0.798278 -0.137458  0.141267 -0.206010  0.502292  0.219422  0.215153   \n",
       "\n",
       "   Amount  Class  \n",
       "0  149.62      0  \n",
       "1    2.69      0  \n",
       "2  378.66      0  \n",
       "3  123.50      0  \n",
       "4   69.99      0  "
      ],
      "text/html": [
       "<div>\n",
       "<style scoped>\n",
       "    .dataframe tbody tr th:only-of-type {\n",
       "        vertical-align: middle;\n",
       "    }\n",
       "\n",
       "    .dataframe tbody tr th {\n",
       "        vertical-align: top;\n",
       "    }\n",
       "\n",
       "    .dataframe thead th {\n",
       "        text-align: right;\n",
       "    }\n",
       "</style>\n",
       "<table border=\"1\" class=\"dataframe\">\n",
       "  <thead>\n",
       "    <tr style=\"text-align: right;\">\n",
       "      <th></th>\n",
       "      <th>Time</th>\n",
       "      <th>V1</th>\n",
       "      <th>V2</th>\n",
       "      <th>V3</th>\n",
       "      <th>V4</th>\n",
       "      <th>V5</th>\n",
       "      <th>V6</th>\n",
       "      <th>V7</th>\n",
       "      <th>V8</th>\n",
       "      <th>V9</th>\n",
       "      <th>V10</th>\n",
       "      <th>V11</th>\n",
       "      <th>V12</th>\n",
       "      <th>V13</th>\n",
       "      <th>V14</th>\n",
       "      <th>V15</th>\n",
       "      <th>V16</th>\n",
       "      <th>V17</th>\n",
       "      <th>V18</th>\n",
       "      <th>V19</th>\n",
       "      <th>V20</th>\n",
       "      <th>V21</th>\n",
       "      <th>V22</th>\n",
       "      <th>V23</th>\n",
       "      <th>V24</th>\n",
       "      <th>V25</th>\n",
       "      <th>V26</th>\n",
       "      <th>V27</th>\n",
       "      <th>V28</th>\n",
       "      <th>Amount</th>\n",
       "      <th>Class</th>\n",
       "    </tr>\n",
       "  </thead>\n",
       "  <tbody>\n",
       "    <tr>\n",
       "      <th>0</th>\n",
       "      <td>0.0</td>\n",
       "      <td>-1.359807</td>\n",
       "      <td>-0.072781</td>\n",
       "      <td>2.536347</td>\n",
       "      <td>1.378155</td>\n",
       "      <td>-0.338321</td>\n",
       "      <td>0.462388</td>\n",
       "      <td>0.239599</td>\n",
       "      <td>0.098698</td>\n",
       "      <td>0.363787</td>\n",
       "      <td>0.090794</td>\n",
       "      <td>-0.551600</td>\n",
       "      <td>-0.617801</td>\n",
       "      <td>-0.991390</td>\n",
       "      <td>-0.311169</td>\n",
       "      <td>1.468177</td>\n",
       "      <td>-0.470401</td>\n",
       "      <td>0.207971</td>\n",
       "      <td>0.025791</td>\n",
       "      <td>0.403993</td>\n",
       "      <td>0.251412</td>\n",
       "      <td>-0.018307</td>\n",
       "      <td>0.277838</td>\n",
       "      <td>-0.110474</td>\n",
       "      <td>0.066928</td>\n",
       "      <td>0.128539</td>\n",
       "      <td>-0.189115</td>\n",
       "      <td>0.133558</td>\n",
       "      <td>-0.021053</td>\n",
       "      <td>149.62</td>\n",
       "      <td>0</td>\n",
       "    </tr>\n",
       "    <tr>\n",
       "      <th>1</th>\n",
       "      <td>0.0</td>\n",
       "      <td>1.191857</td>\n",
       "      <td>0.266151</td>\n",
       "      <td>0.166480</td>\n",
       "      <td>0.448154</td>\n",
       "      <td>0.060018</td>\n",
       "      <td>-0.082361</td>\n",
       "      <td>-0.078803</td>\n",
       "      <td>0.085102</td>\n",
       "      <td>-0.255425</td>\n",
       "      <td>-0.166974</td>\n",
       "      <td>1.612727</td>\n",
       "      <td>1.065235</td>\n",
       "      <td>0.489095</td>\n",
       "      <td>-0.143772</td>\n",
       "      <td>0.635558</td>\n",
       "      <td>0.463917</td>\n",
       "      <td>-0.114805</td>\n",
       "      <td>-0.183361</td>\n",
       "      <td>-0.145783</td>\n",
       "      <td>-0.069083</td>\n",
       "      <td>-0.225775</td>\n",
       "      <td>-0.638672</td>\n",
       "      <td>0.101288</td>\n",
       "      <td>-0.339846</td>\n",
       "      <td>0.167170</td>\n",
       "      <td>0.125895</td>\n",
       "      <td>-0.008983</td>\n",
       "      <td>0.014724</td>\n",
       "      <td>2.69</td>\n",
       "      <td>0</td>\n",
       "    </tr>\n",
       "    <tr>\n",
       "      <th>2</th>\n",
       "      <td>1.0</td>\n",
       "      <td>-1.358354</td>\n",
       "      <td>-1.340163</td>\n",
       "      <td>1.773209</td>\n",
       "      <td>0.379780</td>\n",
       "      <td>-0.503198</td>\n",
       "      <td>1.800499</td>\n",
       "      <td>0.791461</td>\n",
       "      <td>0.247676</td>\n",
       "      <td>-1.514654</td>\n",
       "      <td>0.207643</td>\n",
       "      <td>0.624501</td>\n",
       "      <td>0.066084</td>\n",
       "      <td>0.717293</td>\n",
       "      <td>-0.165946</td>\n",
       "      <td>2.345865</td>\n",
       "      <td>-2.890083</td>\n",
       "      <td>1.109969</td>\n",
       "      <td>-0.121359</td>\n",
       "      <td>-2.261857</td>\n",
       "      <td>0.524980</td>\n",
       "      <td>0.247998</td>\n",
       "      <td>0.771679</td>\n",
       "      <td>0.909412</td>\n",
       "      <td>-0.689281</td>\n",
       "      <td>-0.327642</td>\n",
       "      <td>-0.139097</td>\n",
       "      <td>-0.055353</td>\n",
       "      <td>-0.059752</td>\n",
       "      <td>378.66</td>\n",
       "      <td>0</td>\n",
       "    </tr>\n",
       "    <tr>\n",
       "      <th>3</th>\n",
       "      <td>1.0</td>\n",
       "      <td>-0.966272</td>\n",
       "      <td>-0.185226</td>\n",
       "      <td>1.792993</td>\n",
       "      <td>-0.863291</td>\n",
       "      <td>-0.010309</td>\n",
       "      <td>1.247203</td>\n",
       "      <td>0.237609</td>\n",
       "      <td>0.377436</td>\n",
       "      <td>-1.387024</td>\n",
       "      <td>-0.054952</td>\n",
       "      <td>-0.226487</td>\n",
       "      <td>0.178228</td>\n",
       "      <td>0.507757</td>\n",
       "      <td>-0.287924</td>\n",
       "      <td>-0.631418</td>\n",
       "      <td>-1.059647</td>\n",
       "      <td>-0.684093</td>\n",
       "      <td>1.965775</td>\n",
       "      <td>-1.232622</td>\n",
       "      <td>-0.208038</td>\n",
       "      <td>-0.108300</td>\n",
       "      <td>0.005274</td>\n",
       "      <td>-0.190321</td>\n",
       "      <td>-1.175575</td>\n",
       "      <td>0.647376</td>\n",
       "      <td>-0.221929</td>\n",
       "      <td>0.062723</td>\n",
       "      <td>0.061458</td>\n",
       "      <td>123.50</td>\n",
       "      <td>0</td>\n",
       "    </tr>\n",
       "    <tr>\n",
       "      <th>4</th>\n",
       "      <td>2.0</td>\n",
       "      <td>-1.158233</td>\n",
       "      <td>0.877737</td>\n",
       "      <td>1.548718</td>\n",
       "      <td>0.403034</td>\n",
       "      <td>-0.407193</td>\n",
       "      <td>0.095921</td>\n",
       "      <td>0.592941</td>\n",
       "      <td>-0.270533</td>\n",
       "      <td>0.817739</td>\n",
       "      <td>0.753074</td>\n",
       "      <td>-0.822843</td>\n",
       "      <td>0.538196</td>\n",
       "      <td>1.345852</td>\n",
       "      <td>-1.119670</td>\n",
       "      <td>0.175121</td>\n",
       "      <td>-0.451449</td>\n",
       "      <td>-0.237033</td>\n",
       "      <td>-0.038195</td>\n",
       "      <td>0.803487</td>\n",
       "      <td>0.408542</td>\n",
       "      <td>-0.009431</td>\n",
       "      <td>0.798278</td>\n",
       "      <td>-0.137458</td>\n",
       "      <td>0.141267</td>\n",
       "      <td>-0.206010</td>\n",
       "      <td>0.502292</td>\n",
       "      <td>0.219422</td>\n",
       "      <td>0.215153</td>\n",
       "      <td>69.99</td>\n",
       "      <td>0</td>\n",
       "    </tr>\n",
       "  </tbody>\n",
       "</table>\n",
       "</div>"
      ]
     },
     "execution_count": 67,
     "metadata": {},
     "output_type": "execute_result"
    }
   ],
   "execution_count": 67
  },
  {
   "cell_type": "code",
   "source": "dt.shape",
   "metadata": {
    "trusted": true,
    "execution": {
     "iopub.status.busy": "2024-12-25T14:57:15.463044Z",
     "iopub.execute_input": "2024-12-25T14:57:15.463373Z",
     "iopub.status.idle": "2024-12-25T14:57:15.469310Z",
     "shell.execute_reply.started": "2024-12-25T14:57:15.463347Z",
     "shell.execute_reply": "2024-12-25T14:57:15.468274Z"
    },
    "ExecuteTime": {
     "end_time": "2024-12-26T01:38:28.425513Z",
     "start_time": "2024-12-26T01:38:28.416731Z"
    }
   },
   "outputs": [
    {
     "data": {
      "text/plain": [
       "(284807, 31)"
      ]
     },
     "execution_count": 68,
     "metadata": {},
     "output_type": "execute_result"
    }
   ],
   "execution_count": 68
  },
  {
   "cell_type": "code",
   "source": "dt.columns",
   "metadata": {
    "trusted": true,
    "execution": {
     "iopub.status.busy": "2024-12-25T14:57:15.653802Z",
     "iopub.execute_input": "2024-12-25T14:57:15.654181Z",
     "iopub.status.idle": "2024-12-25T14:57:15.660729Z",
     "shell.execute_reply.started": "2024-12-25T14:57:15.654147Z",
     "shell.execute_reply": "2024-12-25T14:57:15.659645Z"
    },
    "ExecuteTime": {
     "end_time": "2024-12-26T01:38:29.304682Z",
     "start_time": "2024-12-26T01:38:29.295419Z"
    }
   },
   "outputs": [
    {
     "data": {
      "text/plain": [
       "Index(['Time', 'V1', 'V2', 'V3', 'V4', 'V5', 'V6', 'V7', 'V8', 'V9', 'V10',\n",
       "       'V11', 'V12', 'V13', 'V14', 'V15', 'V16', 'V17', 'V18', 'V19', 'V20',\n",
       "       'V21', 'V22', 'V23', 'V24', 'V25', 'V26', 'V27', 'V28', 'Amount',\n",
       "       'Class'],\n",
       "      dtype='object')"
      ]
     },
     "execution_count": 69,
     "metadata": {},
     "output_type": "execute_result"
    }
   ],
   "execution_count": 69
  },
  {
   "cell_type": "code",
   "source": "dt.isnull().sum()",
   "metadata": {
    "trusted": true,
    "execution": {
     "iopub.status.busy": "2024-12-25T14:57:15.863107Z",
     "iopub.execute_input": "2024-12-25T14:57:15.863498Z",
     "iopub.status.idle": "2024-12-25T14:57:15.885358Z",
     "shell.execute_reply.started": "2024-12-25T14:57:15.863463Z",
     "shell.execute_reply": "2024-12-25T14:57:15.884406Z"
    },
    "ExecuteTime": {
     "end_time": "2024-12-26T01:38:30.786052Z",
     "start_time": "2024-12-26T01:38:30.746426Z"
    }
   },
   "outputs": [
    {
     "data": {
      "text/plain": [
       "Time      0\n",
       "V1        0\n",
       "V2        0\n",
       "V3        0\n",
       "V4        0\n",
       "V5        0\n",
       "V6        0\n",
       "V7        0\n",
       "V8        0\n",
       "V9        0\n",
       "V10       0\n",
       "V11       0\n",
       "V12       0\n",
       "V13       0\n",
       "V14       0\n",
       "V15       0\n",
       "V16       0\n",
       "V17       0\n",
       "V18       0\n",
       "V19       0\n",
       "V20       0\n",
       "V21       0\n",
       "V22       0\n",
       "V23       0\n",
       "V24       0\n",
       "V25       0\n",
       "V26       0\n",
       "V27       0\n",
       "V28       0\n",
       "Amount    0\n",
       "Class     0\n",
       "dtype: int64"
      ]
     },
     "execution_count": 70,
     "metadata": {},
     "output_type": "execute_result"
    }
   ],
   "execution_count": 70
  },
  {
   "cell_type": "code",
   "source": "dt.dtypes",
   "metadata": {
    "trusted": true,
    "execution": {
     "iopub.status.busy": "2024-12-25T14:57:18.543999Z",
     "iopub.execute_input": "2024-12-25T14:57:18.544352Z",
     "iopub.status.idle": "2024-12-25T14:57:18.552418Z",
     "shell.execute_reply.started": "2024-12-25T14:57:18.544325Z",
     "shell.execute_reply": "2024-12-25T14:57:18.551115Z"
    },
    "ExecuteTime": {
     "end_time": "2024-12-26T01:38:31.946129Z",
     "start_time": "2024-12-26T01:38:31.927894Z"
    }
   },
   "outputs": [
    {
     "data": {
      "text/plain": [
       "Time      float64\n",
       "V1        float64\n",
       "V2        float64\n",
       "V3        float64\n",
       "V4        float64\n",
       "V5        float64\n",
       "V6        float64\n",
       "V7        float64\n",
       "V8        float64\n",
       "V9        float64\n",
       "V10       float64\n",
       "V11       float64\n",
       "V12       float64\n",
       "V13       float64\n",
       "V14       float64\n",
       "V15       float64\n",
       "V16       float64\n",
       "V17       float64\n",
       "V18       float64\n",
       "V19       float64\n",
       "V20       float64\n",
       "V21       float64\n",
       "V22       float64\n",
       "V23       float64\n",
       "V24       float64\n",
       "V25       float64\n",
       "V26       float64\n",
       "V27       float64\n",
       "V28       float64\n",
       "Amount    float64\n",
       "Class       int64\n",
       "dtype: object"
      ]
     },
     "execution_count": 71,
     "metadata": {},
     "output_type": "execute_result"
    }
   ],
   "execution_count": 71
  },
  {
   "cell_type": "code",
   "source": "dt.describe()",
   "metadata": {
    "trusted": true,
    "execution": {
     "iopub.status.busy": "2024-12-25T14:57:18.748400Z",
     "iopub.execute_input": "2024-12-25T14:57:18.748824Z",
     "iopub.status.idle": "2024-12-25T14:57:19.212785Z",
     "shell.execute_reply.started": "2024-12-25T14:57:18.748787Z",
     "shell.execute_reply": "2024-12-25T14:57:19.211779Z"
    },
    "ExecuteTime": {
     "end_time": "2024-12-26T01:38:34.849728Z",
     "start_time": "2024-12-26T01:38:34.401784Z"
    }
   },
   "outputs": [
    {
     "data": {
      "text/plain": [
       "                Time            V1            V2            V3            V4  \\\n",
       "count  284807.000000  2.848070e+05  2.848070e+05  2.848070e+05  2.848070e+05   \n",
       "mean    94813.859575  1.168375e-15  3.416908e-16 -1.379537e-15  2.074095e-15   \n",
       "std     47488.145955  1.958696e+00  1.651309e+00  1.516255e+00  1.415869e+00   \n",
       "min         0.000000 -5.640751e+01 -7.271573e+01 -4.832559e+01 -5.683171e+00   \n",
       "25%     54201.500000 -9.203734e-01 -5.985499e-01 -8.903648e-01 -8.486401e-01   \n",
       "50%     84692.000000  1.810880e-02  6.548556e-02  1.798463e-01 -1.984653e-02   \n",
       "75%    139320.500000  1.315642e+00  8.037239e-01  1.027196e+00  7.433413e-01   \n",
       "max    172792.000000  2.454930e+00  2.205773e+01  9.382558e+00  1.687534e+01   \n",
       "\n",
       "                 V5            V6            V7            V8            V9  \\\n",
       "count  2.848070e+05  2.848070e+05  2.848070e+05  2.848070e+05  2.848070e+05   \n",
       "mean   9.604066e-16  1.487313e-15 -5.556467e-16  1.213481e-16 -2.406331e-15   \n",
       "std    1.380247e+00  1.332271e+00  1.237094e+00  1.194353e+00  1.098632e+00   \n",
       "min   -1.137433e+02 -2.616051e+01 -4.355724e+01 -7.321672e+01 -1.343407e+01   \n",
       "25%   -6.915971e-01 -7.682956e-01 -5.540759e-01 -2.086297e-01 -6.430976e-01   \n",
       "50%   -5.433583e-02 -2.741871e-01  4.010308e-02  2.235804e-02 -5.142873e-02   \n",
       "75%    6.119264e-01  3.985649e-01  5.704361e-01  3.273459e-01  5.971390e-01   \n",
       "max    3.480167e+01  7.330163e+01  1.205895e+02  2.000721e+01  1.559499e+01   \n",
       "\n",
       "                V10           V11           V12           V13           V14  \\\n",
       "count  2.848070e+05  2.848070e+05  2.848070e+05  2.848070e+05  2.848070e+05   \n",
       "mean   2.239053e-15  1.673327e-15 -1.247012e-15  8.190001e-16  1.207294e-15   \n",
       "std    1.088850e+00  1.020713e+00  9.992014e-01  9.952742e-01  9.585956e-01   \n",
       "min   -2.458826e+01 -4.797473e+00 -1.868371e+01 -5.791881e+00 -1.921433e+01   \n",
       "25%   -5.354257e-01 -7.624942e-01 -4.055715e-01 -6.485393e-01 -4.255740e-01   \n",
       "50%   -9.291738e-02 -3.275735e-02  1.400326e-01 -1.356806e-02  5.060132e-02   \n",
       "75%    4.539234e-01  7.395934e-01  6.182380e-01  6.625050e-01  4.931498e-01   \n",
       "max    2.374514e+01  1.201891e+01  7.848392e+00  7.126883e+00  1.052677e+01   \n",
       "\n",
       "                V15           V16           V17           V18           V19  \\\n",
       "count  2.848070e+05  2.848070e+05  2.848070e+05  2.848070e+05  2.848070e+05   \n",
       "mean   4.887456e-15  1.437716e-15 -3.772171e-16  9.564149e-16  1.039917e-15   \n",
       "std    9.153160e-01  8.762529e-01  8.493371e-01  8.381762e-01  8.140405e-01   \n",
       "min   -4.498945e+00 -1.412985e+01 -2.516280e+01 -9.498746e+00 -7.213527e+00   \n",
       "25%   -5.828843e-01 -4.680368e-01 -4.837483e-01 -4.988498e-01 -4.562989e-01   \n",
       "50%    4.807155e-02  6.641332e-02 -6.567575e-02 -3.636312e-03  3.734823e-03   \n",
       "75%    6.488208e-01  5.232963e-01  3.996750e-01  5.008067e-01  4.589494e-01   \n",
       "max    8.877742e+00  1.731511e+01  9.253526e+00  5.041069e+00  5.591971e+00   \n",
       "\n",
       "                V20           V21           V22           V23           V24  \\\n",
       "count  2.848070e+05  2.848070e+05  2.848070e+05  2.848070e+05  2.848070e+05   \n",
       "mean   6.406204e-16  1.654067e-16 -3.568593e-16  2.578648e-16  4.473266e-15   \n",
       "std    7.709250e-01  7.345240e-01  7.257016e-01  6.244603e-01  6.056471e-01   \n",
       "min   -5.449772e+01 -3.483038e+01 -1.093314e+01 -4.480774e+01 -2.836627e+00   \n",
       "25%   -2.117214e-01 -2.283949e-01 -5.423504e-01 -1.618463e-01 -3.545861e-01   \n",
       "50%   -6.248109e-02 -2.945017e-02  6.781943e-03 -1.119293e-02  4.097606e-02   \n",
       "75%    1.330408e-01  1.863772e-01  5.285536e-01  1.476421e-01  4.395266e-01   \n",
       "max    3.942090e+01  2.720284e+01  1.050309e+01  2.252841e+01  4.584549e+00   \n",
       "\n",
       "                V25           V26           V27           V28         Amount  \\\n",
       "count  2.848070e+05  2.848070e+05  2.848070e+05  2.848070e+05  284807.000000   \n",
       "mean   5.340915e-16  1.683437e-15 -3.660091e-16 -1.227390e-16      88.349619   \n",
       "std    5.212781e-01  4.822270e-01  4.036325e-01  3.300833e-01     250.120109   \n",
       "min   -1.029540e+01 -2.604551e+00 -2.256568e+01 -1.543008e+01       0.000000   \n",
       "25%   -3.171451e-01 -3.269839e-01 -7.083953e-02 -5.295979e-02       5.600000   \n",
       "50%    1.659350e-02 -5.213911e-02  1.342146e-03  1.124383e-02      22.000000   \n",
       "75%    3.507156e-01  2.409522e-01  9.104512e-02  7.827995e-02      77.165000   \n",
       "max    7.519589e+00  3.517346e+00  3.161220e+01  3.384781e+01   25691.160000   \n",
       "\n",
       "               Class  \n",
       "count  284807.000000  \n",
       "mean        0.001727  \n",
       "std         0.041527  \n",
       "min         0.000000  \n",
       "25%         0.000000  \n",
       "50%         0.000000  \n",
       "75%         0.000000  \n",
       "max         1.000000  "
      ],
      "text/html": [
       "<div>\n",
       "<style scoped>\n",
       "    .dataframe tbody tr th:only-of-type {\n",
       "        vertical-align: middle;\n",
       "    }\n",
       "\n",
       "    .dataframe tbody tr th {\n",
       "        vertical-align: top;\n",
       "    }\n",
       "\n",
       "    .dataframe thead th {\n",
       "        text-align: right;\n",
       "    }\n",
       "</style>\n",
       "<table border=\"1\" class=\"dataframe\">\n",
       "  <thead>\n",
       "    <tr style=\"text-align: right;\">\n",
       "      <th></th>\n",
       "      <th>Time</th>\n",
       "      <th>V1</th>\n",
       "      <th>V2</th>\n",
       "      <th>V3</th>\n",
       "      <th>V4</th>\n",
       "      <th>V5</th>\n",
       "      <th>V6</th>\n",
       "      <th>V7</th>\n",
       "      <th>V8</th>\n",
       "      <th>V9</th>\n",
       "      <th>V10</th>\n",
       "      <th>V11</th>\n",
       "      <th>V12</th>\n",
       "      <th>V13</th>\n",
       "      <th>V14</th>\n",
       "      <th>V15</th>\n",
       "      <th>V16</th>\n",
       "      <th>V17</th>\n",
       "      <th>V18</th>\n",
       "      <th>V19</th>\n",
       "      <th>V20</th>\n",
       "      <th>V21</th>\n",
       "      <th>V22</th>\n",
       "      <th>V23</th>\n",
       "      <th>V24</th>\n",
       "      <th>V25</th>\n",
       "      <th>V26</th>\n",
       "      <th>V27</th>\n",
       "      <th>V28</th>\n",
       "      <th>Amount</th>\n",
       "      <th>Class</th>\n",
       "    </tr>\n",
       "  </thead>\n",
       "  <tbody>\n",
       "    <tr>\n",
       "      <th>count</th>\n",
       "      <td>284807.000000</td>\n",
       "      <td>2.848070e+05</td>\n",
       "      <td>2.848070e+05</td>\n",
       "      <td>2.848070e+05</td>\n",
       "      <td>2.848070e+05</td>\n",
       "      <td>2.848070e+05</td>\n",
       "      <td>2.848070e+05</td>\n",
       "      <td>2.848070e+05</td>\n",
       "      <td>2.848070e+05</td>\n",
       "      <td>2.848070e+05</td>\n",
       "      <td>2.848070e+05</td>\n",
       "      <td>2.848070e+05</td>\n",
       "      <td>2.848070e+05</td>\n",
       "      <td>2.848070e+05</td>\n",
       "      <td>2.848070e+05</td>\n",
       "      <td>2.848070e+05</td>\n",
       "      <td>2.848070e+05</td>\n",
       "      <td>2.848070e+05</td>\n",
       "      <td>2.848070e+05</td>\n",
       "      <td>2.848070e+05</td>\n",
       "      <td>2.848070e+05</td>\n",
       "      <td>2.848070e+05</td>\n",
       "      <td>2.848070e+05</td>\n",
       "      <td>2.848070e+05</td>\n",
       "      <td>2.848070e+05</td>\n",
       "      <td>2.848070e+05</td>\n",
       "      <td>2.848070e+05</td>\n",
       "      <td>2.848070e+05</td>\n",
       "      <td>2.848070e+05</td>\n",
       "      <td>284807.000000</td>\n",
       "      <td>284807.000000</td>\n",
       "    </tr>\n",
       "    <tr>\n",
       "      <th>mean</th>\n",
       "      <td>94813.859575</td>\n",
       "      <td>1.168375e-15</td>\n",
       "      <td>3.416908e-16</td>\n",
       "      <td>-1.379537e-15</td>\n",
       "      <td>2.074095e-15</td>\n",
       "      <td>9.604066e-16</td>\n",
       "      <td>1.487313e-15</td>\n",
       "      <td>-5.556467e-16</td>\n",
       "      <td>1.213481e-16</td>\n",
       "      <td>-2.406331e-15</td>\n",
       "      <td>2.239053e-15</td>\n",
       "      <td>1.673327e-15</td>\n",
       "      <td>-1.247012e-15</td>\n",
       "      <td>8.190001e-16</td>\n",
       "      <td>1.207294e-15</td>\n",
       "      <td>4.887456e-15</td>\n",
       "      <td>1.437716e-15</td>\n",
       "      <td>-3.772171e-16</td>\n",
       "      <td>9.564149e-16</td>\n",
       "      <td>1.039917e-15</td>\n",
       "      <td>6.406204e-16</td>\n",
       "      <td>1.654067e-16</td>\n",
       "      <td>-3.568593e-16</td>\n",
       "      <td>2.578648e-16</td>\n",
       "      <td>4.473266e-15</td>\n",
       "      <td>5.340915e-16</td>\n",
       "      <td>1.683437e-15</td>\n",
       "      <td>-3.660091e-16</td>\n",
       "      <td>-1.227390e-16</td>\n",
       "      <td>88.349619</td>\n",
       "      <td>0.001727</td>\n",
       "    </tr>\n",
       "    <tr>\n",
       "      <th>std</th>\n",
       "      <td>47488.145955</td>\n",
       "      <td>1.958696e+00</td>\n",
       "      <td>1.651309e+00</td>\n",
       "      <td>1.516255e+00</td>\n",
       "      <td>1.415869e+00</td>\n",
       "      <td>1.380247e+00</td>\n",
       "      <td>1.332271e+00</td>\n",
       "      <td>1.237094e+00</td>\n",
       "      <td>1.194353e+00</td>\n",
       "      <td>1.098632e+00</td>\n",
       "      <td>1.088850e+00</td>\n",
       "      <td>1.020713e+00</td>\n",
       "      <td>9.992014e-01</td>\n",
       "      <td>9.952742e-01</td>\n",
       "      <td>9.585956e-01</td>\n",
       "      <td>9.153160e-01</td>\n",
       "      <td>8.762529e-01</td>\n",
       "      <td>8.493371e-01</td>\n",
       "      <td>8.381762e-01</td>\n",
       "      <td>8.140405e-01</td>\n",
       "      <td>7.709250e-01</td>\n",
       "      <td>7.345240e-01</td>\n",
       "      <td>7.257016e-01</td>\n",
       "      <td>6.244603e-01</td>\n",
       "      <td>6.056471e-01</td>\n",
       "      <td>5.212781e-01</td>\n",
       "      <td>4.822270e-01</td>\n",
       "      <td>4.036325e-01</td>\n",
       "      <td>3.300833e-01</td>\n",
       "      <td>250.120109</td>\n",
       "      <td>0.041527</td>\n",
       "    </tr>\n",
       "    <tr>\n",
       "      <th>min</th>\n",
       "      <td>0.000000</td>\n",
       "      <td>-5.640751e+01</td>\n",
       "      <td>-7.271573e+01</td>\n",
       "      <td>-4.832559e+01</td>\n",
       "      <td>-5.683171e+00</td>\n",
       "      <td>-1.137433e+02</td>\n",
       "      <td>-2.616051e+01</td>\n",
       "      <td>-4.355724e+01</td>\n",
       "      <td>-7.321672e+01</td>\n",
       "      <td>-1.343407e+01</td>\n",
       "      <td>-2.458826e+01</td>\n",
       "      <td>-4.797473e+00</td>\n",
       "      <td>-1.868371e+01</td>\n",
       "      <td>-5.791881e+00</td>\n",
       "      <td>-1.921433e+01</td>\n",
       "      <td>-4.498945e+00</td>\n",
       "      <td>-1.412985e+01</td>\n",
       "      <td>-2.516280e+01</td>\n",
       "      <td>-9.498746e+00</td>\n",
       "      <td>-7.213527e+00</td>\n",
       "      <td>-5.449772e+01</td>\n",
       "      <td>-3.483038e+01</td>\n",
       "      <td>-1.093314e+01</td>\n",
       "      <td>-4.480774e+01</td>\n",
       "      <td>-2.836627e+00</td>\n",
       "      <td>-1.029540e+01</td>\n",
       "      <td>-2.604551e+00</td>\n",
       "      <td>-2.256568e+01</td>\n",
       "      <td>-1.543008e+01</td>\n",
       "      <td>0.000000</td>\n",
       "      <td>0.000000</td>\n",
       "    </tr>\n",
       "    <tr>\n",
       "      <th>25%</th>\n",
       "      <td>54201.500000</td>\n",
       "      <td>-9.203734e-01</td>\n",
       "      <td>-5.985499e-01</td>\n",
       "      <td>-8.903648e-01</td>\n",
       "      <td>-8.486401e-01</td>\n",
       "      <td>-6.915971e-01</td>\n",
       "      <td>-7.682956e-01</td>\n",
       "      <td>-5.540759e-01</td>\n",
       "      <td>-2.086297e-01</td>\n",
       "      <td>-6.430976e-01</td>\n",
       "      <td>-5.354257e-01</td>\n",
       "      <td>-7.624942e-01</td>\n",
       "      <td>-4.055715e-01</td>\n",
       "      <td>-6.485393e-01</td>\n",
       "      <td>-4.255740e-01</td>\n",
       "      <td>-5.828843e-01</td>\n",
       "      <td>-4.680368e-01</td>\n",
       "      <td>-4.837483e-01</td>\n",
       "      <td>-4.988498e-01</td>\n",
       "      <td>-4.562989e-01</td>\n",
       "      <td>-2.117214e-01</td>\n",
       "      <td>-2.283949e-01</td>\n",
       "      <td>-5.423504e-01</td>\n",
       "      <td>-1.618463e-01</td>\n",
       "      <td>-3.545861e-01</td>\n",
       "      <td>-3.171451e-01</td>\n",
       "      <td>-3.269839e-01</td>\n",
       "      <td>-7.083953e-02</td>\n",
       "      <td>-5.295979e-02</td>\n",
       "      <td>5.600000</td>\n",
       "      <td>0.000000</td>\n",
       "    </tr>\n",
       "    <tr>\n",
       "      <th>50%</th>\n",
       "      <td>84692.000000</td>\n",
       "      <td>1.810880e-02</td>\n",
       "      <td>6.548556e-02</td>\n",
       "      <td>1.798463e-01</td>\n",
       "      <td>-1.984653e-02</td>\n",
       "      <td>-5.433583e-02</td>\n",
       "      <td>-2.741871e-01</td>\n",
       "      <td>4.010308e-02</td>\n",
       "      <td>2.235804e-02</td>\n",
       "      <td>-5.142873e-02</td>\n",
       "      <td>-9.291738e-02</td>\n",
       "      <td>-3.275735e-02</td>\n",
       "      <td>1.400326e-01</td>\n",
       "      <td>-1.356806e-02</td>\n",
       "      <td>5.060132e-02</td>\n",
       "      <td>4.807155e-02</td>\n",
       "      <td>6.641332e-02</td>\n",
       "      <td>-6.567575e-02</td>\n",
       "      <td>-3.636312e-03</td>\n",
       "      <td>3.734823e-03</td>\n",
       "      <td>-6.248109e-02</td>\n",
       "      <td>-2.945017e-02</td>\n",
       "      <td>6.781943e-03</td>\n",
       "      <td>-1.119293e-02</td>\n",
       "      <td>4.097606e-02</td>\n",
       "      <td>1.659350e-02</td>\n",
       "      <td>-5.213911e-02</td>\n",
       "      <td>1.342146e-03</td>\n",
       "      <td>1.124383e-02</td>\n",
       "      <td>22.000000</td>\n",
       "      <td>0.000000</td>\n",
       "    </tr>\n",
       "    <tr>\n",
       "      <th>75%</th>\n",
       "      <td>139320.500000</td>\n",
       "      <td>1.315642e+00</td>\n",
       "      <td>8.037239e-01</td>\n",
       "      <td>1.027196e+00</td>\n",
       "      <td>7.433413e-01</td>\n",
       "      <td>6.119264e-01</td>\n",
       "      <td>3.985649e-01</td>\n",
       "      <td>5.704361e-01</td>\n",
       "      <td>3.273459e-01</td>\n",
       "      <td>5.971390e-01</td>\n",
       "      <td>4.539234e-01</td>\n",
       "      <td>7.395934e-01</td>\n",
       "      <td>6.182380e-01</td>\n",
       "      <td>6.625050e-01</td>\n",
       "      <td>4.931498e-01</td>\n",
       "      <td>6.488208e-01</td>\n",
       "      <td>5.232963e-01</td>\n",
       "      <td>3.996750e-01</td>\n",
       "      <td>5.008067e-01</td>\n",
       "      <td>4.589494e-01</td>\n",
       "      <td>1.330408e-01</td>\n",
       "      <td>1.863772e-01</td>\n",
       "      <td>5.285536e-01</td>\n",
       "      <td>1.476421e-01</td>\n",
       "      <td>4.395266e-01</td>\n",
       "      <td>3.507156e-01</td>\n",
       "      <td>2.409522e-01</td>\n",
       "      <td>9.104512e-02</td>\n",
       "      <td>7.827995e-02</td>\n",
       "      <td>77.165000</td>\n",
       "      <td>0.000000</td>\n",
       "    </tr>\n",
       "    <tr>\n",
       "      <th>max</th>\n",
       "      <td>172792.000000</td>\n",
       "      <td>2.454930e+00</td>\n",
       "      <td>2.205773e+01</td>\n",
       "      <td>9.382558e+00</td>\n",
       "      <td>1.687534e+01</td>\n",
       "      <td>3.480167e+01</td>\n",
       "      <td>7.330163e+01</td>\n",
       "      <td>1.205895e+02</td>\n",
       "      <td>2.000721e+01</td>\n",
       "      <td>1.559499e+01</td>\n",
       "      <td>2.374514e+01</td>\n",
       "      <td>1.201891e+01</td>\n",
       "      <td>7.848392e+00</td>\n",
       "      <td>7.126883e+00</td>\n",
       "      <td>1.052677e+01</td>\n",
       "      <td>8.877742e+00</td>\n",
       "      <td>1.731511e+01</td>\n",
       "      <td>9.253526e+00</td>\n",
       "      <td>5.041069e+00</td>\n",
       "      <td>5.591971e+00</td>\n",
       "      <td>3.942090e+01</td>\n",
       "      <td>2.720284e+01</td>\n",
       "      <td>1.050309e+01</td>\n",
       "      <td>2.252841e+01</td>\n",
       "      <td>4.584549e+00</td>\n",
       "      <td>7.519589e+00</td>\n",
       "      <td>3.517346e+00</td>\n",
       "      <td>3.161220e+01</td>\n",
       "      <td>3.384781e+01</td>\n",
       "      <td>25691.160000</td>\n",
       "      <td>1.000000</td>\n",
       "    </tr>\n",
       "  </tbody>\n",
       "</table>\n",
       "</div>"
      ]
     },
     "execution_count": 72,
     "metadata": {},
     "output_type": "execute_result"
    }
   ],
   "execution_count": 72
  },
  {
   "cell_type": "code",
   "source": [
    "temp = dt[\"Class\"].value_counts()\n",
    "df = pd.DataFrame({'Class': temp.index,'values': temp.values})\n",
    "\n",
    "trace = go.Bar(\n",
    "    x = df['Class'],y = df['values'],\n",
    "    name=\"Credit Card Fraud Class - data unbalance (Not fraud = 0, Fraud = 1)\",\n",
    "    marker=dict(color=\"Green\"),\n",
    "    text=df['values']\n",
    ")\n",
    "data = [trace]\n",
    "layout = dict(title = 'Credit Card Fraud Class - data unbalance (Not fraud = 0, Fraud = 1)',\n",
    "          xaxis = dict(title = 'Class', showticklabels=True), \n",
    "          yaxis = dict(title = 'Number of transactions'),\n",
    "          hovermode = 'closest',width=600\n",
    "         )\n",
    "fig = dict(data=data, layout=layout)\n",
    "iplot(fig, filename='class')"
   ],
   "metadata": {
    "trusted": true,
    "execution": {
     "iopub.status.busy": "2024-12-25T14:57:19.214154Z",
     "iopub.execute_input": "2024-12-25T14:57:19.214420Z",
     "iopub.status.idle": "2024-12-25T14:57:19.247701Z",
     "shell.execute_reply.started": "2024-12-25T14:57:19.214397Z",
     "shell.execute_reply": "2024-12-25T14:57:19.246670Z"
    },
    "ExecuteTime": {
     "end_time": "2024-12-26T01:38:36.112682Z",
     "start_time": "2024-12-26T01:38:36.008639Z"
    }
   },
   "outputs": [
    {
     "data": {
      "application/vnd.plotly.v1+json": {
       "data": [
        {
         "marker": {
          "color": "Green"
         },
         "name": "Credit Card Fraud Class - data unbalance (Not fraud = 0, Fraud = 1)",
         "text": [
          284315.0,
          492.0
         ],
         "x": [
          0,
          1
         ],
         "y": [
          284315,
          492
         ],
         "type": "bar"
        }
       ],
       "layout": {
        "hovermode": "closest",
        "template": {
         "data": {
          "barpolar": [
           {
            "marker": {
             "line": {
              "color": "rgb(17,17,17)",
              "width": 0.5
             },
             "pattern": {
              "fillmode": "overlay",
              "size": 10,
              "solidity": 0.2
             }
            },
            "type": "barpolar"
           }
          ],
          "bar": [
           {
            "error_x": {
             "color": "#f2f5fa"
            },
            "error_y": {
             "color": "#f2f5fa"
            },
            "marker": {
             "line": {
              "color": "rgb(17,17,17)",
              "width": 0.5
             },
             "pattern": {
              "fillmode": "overlay",
              "size": 10,
              "solidity": 0.2
             }
            },
            "type": "bar"
           }
          ],
          "carpet": [
           {
            "aaxis": {
             "endlinecolor": "#A2B1C6",
             "gridcolor": "#506784",
             "linecolor": "#506784",
             "minorgridcolor": "#506784",
             "startlinecolor": "#A2B1C6"
            },
            "baxis": {
             "endlinecolor": "#A2B1C6",
             "gridcolor": "#506784",
             "linecolor": "#506784",
             "minorgridcolor": "#506784",
             "startlinecolor": "#A2B1C6"
            },
            "type": "carpet"
           }
          ],
          "choropleth": [
           {
            "colorbar": {
             "outlinewidth": 0,
             "ticks": ""
            },
            "type": "choropleth"
           }
          ],
          "contourcarpet": [
           {
            "colorbar": {
             "outlinewidth": 0,
             "ticks": ""
            },
            "type": "contourcarpet"
           }
          ],
          "contour": [
           {
            "colorbar": {
             "outlinewidth": 0,
             "ticks": ""
            },
            "colorscale": [
             [
              0.0,
              "#0d0887"
             ],
             [
              0.1111111111111111,
              "#46039f"
             ],
             [
              0.2222222222222222,
              "#7201a8"
             ],
             [
              0.3333333333333333,
              "#9c179e"
             ],
             [
              0.4444444444444444,
              "#bd3786"
             ],
             [
              0.5555555555555556,
              "#d8576b"
             ],
             [
              0.6666666666666666,
              "#ed7953"
             ],
             [
              0.7777777777777778,
              "#fb9f3a"
             ],
             [
              0.8888888888888888,
              "#fdca26"
             ],
             [
              1.0,
              "#f0f921"
             ]
            ],
            "type": "contour"
           }
          ],
          "heatmapgl": [
           {
            "colorbar": {
             "outlinewidth": 0,
             "ticks": ""
            },
            "colorscale": [
             [
              0.0,
              "#0d0887"
             ],
             [
              0.1111111111111111,
              "#46039f"
             ],
             [
              0.2222222222222222,
              "#7201a8"
             ],
             [
              0.3333333333333333,
              "#9c179e"
             ],
             [
              0.4444444444444444,
              "#bd3786"
             ],
             [
              0.5555555555555556,
              "#d8576b"
             ],
             [
              0.6666666666666666,
              "#ed7953"
             ],
             [
              0.7777777777777778,
              "#fb9f3a"
             ],
             [
              0.8888888888888888,
              "#fdca26"
             ],
             [
              1.0,
              "#f0f921"
             ]
            ],
            "type": "heatmapgl"
           }
          ],
          "heatmap": [
           {
            "colorbar": {
             "outlinewidth": 0,
             "ticks": ""
            },
            "colorscale": [
             [
              0.0,
              "#0d0887"
             ],
             [
              0.1111111111111111,
              "#46039f"
             ],
             [
              0.2222222222222222,
              "#7201a8"
             ],
             [
              0.3333333333333333,
              "#9c179e"
             ],
             [
              0.4444444444444444,
              "#bd3786"
             ],
             [
              0.5555555555555556,
              "#d8576b"
             ],
             [
              0.6666666666666666,
              "#ed7953"
             ],
             [
              0.7777777777777778,
              "#fb9f3a"
             ],
             [
              0.8888888888888888,
              "#fdca26"
             ],
             [
              1.0,
              "#f0f921"
             ]
            ],
            "type": "heatmap"
           }
          ],
          "histogram2dcontour": [
           {
            "colorbar": {
             "outlinewidth": 0,
             "ticks": ""
            },
            "colorscale": [
             [
              0.0,
              "#0d0887"
             ],
             [
              0.1111111111111111,
              "#46039f"
             ],
             [
              0.2222222222222222,
              "#7201a8"
             ],
             [
              0.3333333333333333,
              "#9c179e"
             ],
             [
              0.4444444444444444,
              "#bd3786"
             ],
             [
              0.5555555555555556,
              "#d8576b"
             ],
             [
              0.6666666666666666,
              "#ed7953"
             ],
             [
              0.7777777777777778,
              "#fb9f3a"
             ],
             [
              0.8888888888888888,
              "#fdca26"
             ],
             [
              1.0,
              "#f0f921"
             ]
            ],
            "type": "histogram2dcontour"
           }
          ],
          "histogram2d": [
           {
            "colorbar": {
             "outlinewidth": 0,
             "ticks": ""
            },
            "colorscale": [
             [
              0.0,
              "#0d0887"
             ],
             [
              0.1111111111111111,
              "#46039f"
             ],
             [
              0.2222222222222222,
              "#7201a8"
             ],
             [
              0.3333333333333333,
              "#9c179e"
             ],
             [
              0.4444444444444444,
              "#bd3786"
             ],
             [
              0.5555555555555556,
              "#d8576b"
             ],
             [
              0.6666666666666666,
              "#ed7953"
             ],
             [
              0.7777777777777778,
              "#fb9f3a"
             ],
             [
              0.8888888888888888,
              "#fdca26"
             ],
             [
              1.0,
              "#f0f921"
             ]
            ],
            "type": "histogram2d"
           }
          ],
          "histogram": [
           {
            "marker": {
             "pattern": {
              "fillmode": "overlay",
              "size": 10,
              "solidity": 0.2
             }
            },
            "type": "histogram"
           }
          ],
          "mesh3d": [
           {
            "colorbar": {
             "outlinewidth": 0,
             "ticks": ""
            },
            "type": "mesh3d"
           }
          ],
          "parcoords": [
           {
            "line": {
             "colorbar": {
              "outlinewidth": 0,
              "ticks": ""
             }
            },
            "type": "parcoords"
           }
          ],
          "pie": [
           {
            "automargin": true,
            "type": "pie"
           }
          ],
          "scatter3d": [
           {
            "line": {
             "colorbar": {
              "outlinewidth": 0,
              "ticks": ""
             }
            },
            "marker": {
             "colorbar": {
              "outlinewidth": 0,
              "ticks": ""
             }
            },
            "type": "scatter3d"
           }
          ],
          "scattercarpet": [
           {
            "marker": {
             "colorbar": {
              "outlinewidth": 0,
              "ticks": ""
             }
            },
            "type": "scattercarpet"
           }
          ],
          "scattergeo": [
           {
            "marker": {
             "colorbar": {
              "outlinewidth": 0,
              "ticks": ""
             }
            },
            "type": "scattergeo"
           }
          ],
          "scattergl": [
           {
            "marker": {
             "line": {
              "color": "#283442"
             }
            },
            "type": "scattergl"
           }
          ],
          "scattermapbox": [
           {
            "marker": {
             "colorbar": {
              "outlinewidth": 0,
              "ticks": ""
             }
            },
            "type": "scattermapbox"
           }
          ],
          "scatterpolargl": [
           {
            "marker": {
             "colorbar": {
              "outlinewidth": 0,
              "ticks": ""
             }
            },
            "type": "scatterpolargl"
           }
          ],
          "scatterpolar": [
           {
            "marker": {
             "colorbar": {
              "outlinewidth": 0,
              "ticks": ""
             }
            },
            "type": "scatterpolar"
           }
          ],
          "scatter": [
           {
            "marker": {
             "line": {
              "color": "#283442"
             }
            },
            "type": "scatter"
           }
          ],
          "scatterternary": [
           {
            "marker": {
             "colorbar": {
              "outlinewidth": 0,
              "ticks": ""
             }
            },
            "type": "scatterternary"
           }
          ],
          "surface": [
           {
            "colorbar": {
             "outlinewidth": 0,
             "ticks": ""
            },
            "colorscale": [
             [
              0.0,
              "#0d0887"
             ],
             [
              0.1111111111111111,
              "#46039f"
             ],
             [
              0.2222222222222222,
              "#7201a8"
             ],
             [
              0.3333333333333333,
              "#9c179e"
             ],
             [
              0.4444444444444444,
              "#bd3786"
             ],
             [
              0.5555555555555556,
              "#d8576b"
             ],
             [
              0.6666666666666666,
              "#ed7953"
             ],
             [
              0.7777777777777778,
              "#fb9f3a"
             ],
             [
              0.8888888888888888,
              "#fdca26"
             ],
             [
              1.0,
              "#f0f921"
             ]
            ],
            "type": "surface"
           }
          ],
          "table": [
           {
            "cells": {
             "fill": {
              "color": "#506784"
             },
             "line": {
              "color": "rgb(17,17,17)"
             }
            },
            "header": {
             "fill": {
              "color": "#2a3f5f"
             },
             "line": {
              "color": "rgb(17,17,17)"
             }
            },
            "type": "table"
           }
          ]
         },
         "layout": {
          "annotationdefaults": {
           "arrowcolor": "#f2f5fa",
           "arrowhead": 0,
           "arrowwidth": 1
          },
          "autotypenumbers": "strict",
          "coloraxis": {
           "colorbar": {
            "outlinewidth": 0,
            "ticks": ""
           }
          },
          "colorscale": {
           "diverging": [
            [
             0,
             "#8e0152"
            ],
            [
             0.1,
             "#c51b7d"
            ],
            [
             0.2,
             "#de77ae"
            ],
            [
             0.3,
             "#f1b6da"
            ],
            [
             0.4,
             "#fde0ef"
            ],
            [
             0.5,
             "#f7f7f7"
            ],
            [
             0.6,
             "#e6f5d0"
            ],
            [
             0.7,
             "#b8e186"
            ],
            [
             0.8,
             "#7fbc41"
            ],
            [
             0.9,
             "#4d9221"
            ],
            [
             1,
             "#276419"
            ]
           ],
           "sequential": [
            [
             0.0,
             "#0d0887"
            ],
            [
             0.1111111111111111,
             "#46039f"
            ],
            [
             0.2222222222222222,
             "#7201a8"
            ],
            [
             0.3333333333333333,
             "#9c179e"
            ],
            [
             0.4444444444444444,
             "#bd3786"
            ],
            [
             0.5555555555555556,
             "#d8576b"
            ],
            [
             0.6666666666666666,
             "#ed7953"
            ],
            [
             0.7777777777777778,
             "#fb9f3a"
            ],
            [
             0.8888888888888888,
             "#fdca26"
            ],
            [
             1.0,
             "#f0f921"
            ]
           ],
           "sequentialminus": [
            [
             0.0,
             "#0d0887"
            ],
            [
             0.1111111111111111,
             "#46039f"
            ],
            [
             0.2222222222222222,
             "#7201a8"
            ],
            [
             0.3333333333333333,
             "#9c179e"
            ],
            [
             0.4444444444444444,
             "#bd3786"
            ],
            [
             0.5555555555555556,
             "#d8576b"
            ],
            [
             0.6666666666666666,
             "#ed7953"
            ],
            [
             0.7777777777777778,
             "#fb9f3a"
            ],
            [
             0.8888888888888888,
             "#fdca26"
            ],
            [
             1.0,
             "#f0f921"
            ]
           ]
          },
          "colorway": [
           "#636efa",
           "#EF553B",
           "#00cc96",
           "#ab63fa",
           "#FFA15A",
           "#19d3f3",
           "#FF6692",
           "#B6E880",
           "#FF97FF",
           "#FECB52"
          ],
          "font": {
           "color": "#f2f5fa"
          },
          "geo": {
           "bgcolor": "rgb(17,17,17)",
           "lakecolor": "rgb(17,17,17)",
           "landcolor": "rgb(17,17,17)",
           "showlakes": true,
           "showland": true,
           "subunitcolor": "#506784"
          },
          "hoverlabel": {
           "align": "left"
          },
          "hovermode": "closest",
          "mapbox": {
           "style": "dark"
          },
          "paper_bgcolor": "rgb(17,17,17)",
          "plot_bgcolor": "rgb(17,17,17)",
          "polar": {
           "angularaxis": {
            "gridcolor": "#506784",
            "linecolor": "#506784",
            "ticks": ""
           },
           "bgcolor": "rgb(17,17,17)",
           "radialaxis": {
            "gridcolor": "#506784",
            "linecolor": "#506784",
            "ticks": ""
           }
          },
          "scene": {
           "xaxis": {
            "backgroundcolor": "rgb(17,17,17)",
            "gridcolor": "#506784",
            "gridwidth": 2,
            "linecolor": "#506784",
            "showbackground": true,
            "ticks": "",
            "zerolinecolor": "#C8D4E3"
           },
           "yaxis": {
            "backgroundcolor": "rgb(17,17,17)",
            "gridcolor": "#506784",
            "gridwidth": 2,
            "linecolor": "#506784",
            "showbackground": true,
            "ticks": "",
            "zerolinecolor": "#C8D4E3"
           },
           "zaxis": {
            "backgroundcolor": "rgb(17,17,17)",
            "gridcolor": "#506784",
            "gridwidth": 2,
            "linecolor": "#506784",
            "showbackground": true,
            "ticks": "",
            "zerolinecolor": "#C8D4E3"
           }
          },
          "shapedefaults": {
           "line": {
            "color": "#f2f5fa"
           }
          },
          "sliderdefaults": {
           "bgcolor": "#C8D4E3",
           "bordercolor": "rgb(17,17,17)",
           "borderwidth": 1,
           "tickwidth": 0
          },
          "ternary": {
           "aaxis": {
            "gridcolor": "#506784",
            "linecolor": "#506784",
            "ticks": ""
           },
           "baxis": {
            "gridcolor": "#506784",
            "linecolor": "#506784",
            "ticks": ""
           },
           "bgcolor": "rgb(17,17,17)",
           "caxis": {
            "gridcolor": "#506784",
            "linecolor": "#506784",
            "ticks": ""
           }
          },
          "title": {
           "x": 0.05
          },
          "updatemenudefaults": {
           "bgcolor": "#506784",
           "borderwidth": 0
          },
          "xaxis": {
           "automargin": true,
           "gridcolor": "#283442",
           "linecolor": "#506784",
           "ticks": "",
           "title": {
            "standoff": 15
           },
           "zerolinecolor": "#283442",
           "zerolinewidth": 2
          },
          "yaxis": {
           "automargin": true,
           "gridcolor": "#283442",
           "linecolor": "#506784",
           "ticks": "",
           "title": {
            "standoff": 15
           },
           "zerolinecolor": "#283442",
           "zerolinewidth": 2
          }
         }
        },
        "title": {
         "text": "Credit Card Fraud Class - data unbalance (Not fraud = 0, Fraud = 1)"
        },
        "width": 600,
        "xaxis": {
         "showticklabels": true,
         "title": {
          "text": "Class"
         }
        },
        "yaxis": {
         "title": {
          "text": "Number of transactions"
         }
        }
       },
       "config": {
        "showLink": false,
        "linkText": "Export to plot.ly",
        "plotlyServerURL": "https://plot.ly"
       }
      },
      "text/html": [
       "<div>                            <div id=\"fe7213fe-9ec0-4d86-b5b8-4fd3cd453b47\" class=\"plotly-graph-div\" style=\"height:525px; width:600px;\"></div>            <script type=\"text/javascript\">                require([\"plotly\"], function(Plotly) {                    window.PLOTLYENV=window.PLOTLYENV || {};                                    if (document.getElementById(\"fe7213fe-9ec0-4d86-b5b8-4fd3cd453b47\")) {                    Plotly.newPlot(                        \"fe7213fe-9ec0-4d86-b5b8-4fd3cd453b47\",                        [{\"marker\":{\"color\":\"Green\"},\"name\":\"Credit Card Fraud Class - data unbalance (Not fraud = 0, Fraud = 1)\",\"text\":[284315.0,492.0],\"x\":[0,1],\"y\":[284315,492],\"type\":\"bar\"}],                        {\"hovermode\":\"closest\",\"template\":{\"data\":{\"barpolar\":[{\"marker\":{\"line\":{\"color\":\"rgb(17,17,17)\",\"width\":0.5},\"pattern\":{\"fillmode\":\"overlay\",\"size\":10,\"solidity\":0.2}},\"type\":\"barpolar\"}],\"bar\":[{\"error_x\":{\"color\":\"#f2f5fa\"},\"error_y\":{\"color\":\"#f2f5fa\"},\"marker\":{\"line\":{\"color\":\"rgb(17,17,17)\",\"width\":0.5},\"pattern\":{\"fillmode\":\"overlay\",\"size\":10,\"solidity\":0.2}},\"type\":\"bar\"}],\"carpet\":[{\"aaxis\":{\"endlinecolor\":\"#A2B1C6\",\"gridcolor\":\"#506784\",\"linecolor\":\"#506784\",\"minorgridcolor\":\"#506784\",\"startlinecolor\":\"#A2B1C6\"},\"baxis\":{\"endlinecolor\":\"#A2B1C6\",\"gridcolor\":\"#506784\",\"linecolor\":\"#506784\",\"minorgridcolor\":\"#506784\",\"startlinecolor\":\"#A2B1C6\"},\"type\":\"carpet\"}],\"choropleth\":[{\"colorbar\":{\"outlinewidth\":0,\"ticks\":\"\"},\"type\":\"choropleth\"}],\"contourcarpet\":[{\"colorbar\":{\"outlinewidth\":0,\"ticks\":\"\"},\"type\":\"contourcarpet\"}],\"contour\":[{\"colorbar\":{\"outlinewidth\":0,\"ticks\":\"\"},\"colorscale\":[[0.0,\"#0d0887\"],[0.1111111111111111,\"#46039f\"],[0.2222222222222222,\"#7201a8\"],[0.3333333333333333,\"#9c179e\"],[0.4444444444444444,\"#bd3786\"],[0.5555555555555556,\"#d8576b\"],[0.6666666666666666,\"#ed7953\"],[0.7777777777777778,\"#fb9f3a\"],[0.8888888888888888,\"#fdca26\"],[1.0,\"#f0f921\"]],\"type\":\"contour\"}],\"heatmapgl\":[{\"colorbar\":{\"outlinewidth\":0,\"ticks\":\"\"},\"colorscale\":[[0.0,\"#0d0887\"],[0.1111111111111111,\"#46039f\"],[0.2222222222222222,\"#7201a8\"],[0.3333333333333333,\"#9c179e\"],[0.4444444444444444,\"#bd3786\"],[0.5555555555555556,\"#d8576b\"],[0.6666666666666666,\"#ed7953\"],[0.7777777777777778,\"#fb9f3a\"],[0.8888888888888888,\"#fdca26\"],[1.0,\"#f0f921\"]],\"type\":\"heatmapgl\"}],\"heatmap\":[{\"colorbar\":{\"outlinewidth\":0,\"ticks\":\"\"},\"colorscale\":[[0.0,\"#0d0887\"],[0.1111111111111111,\"#46039f\"],[0.2222222222222222,\"#7201a8\"],[0.3333333333333333,\"#9c179e\"],[0.4444444444444444,\"#bd3786\"],[0.5555555555555556,\"#d8576b\"],[0.6666666666666666,\"#ed7953\"],[0.7777777777777778,\"#fb9f3a\"],[0.8888888888888888,\"#fdca26\"],[1.0,\"#f0f921\"]],\"type\":\"heatmap\"}],\"histogram2dcontour\":[{\"colorbar\":{\"outlinewidth\":0,\"ticks\":\"\"},\"colorscale\":[[0.0,\"#0d0887\"],[0.1111111111111111,\"#46039f\"],[0.2222222222222222,\"#7201a8\"],[0.3333333333333333,\"#9c179e\"],[0.4444444444444444,\"#bd3786\"],[0.5555555555555556,\"#d8576b\"],[0.6666666666666666,\"#ed7953\"],[0.7777777777777778,\"#fb9f3a\"],[0.8888888888888888,\"#fdca26\"],[1.0,\"#f0f921\"]],\"type\":\"histogram2dcontour\"}],\"histogram2d\":[{\"colorbar\":{\"outlinewidth\":0,\"ticks\":\"\"},\"colorscale\":[[0.0,\"#0d0887\"],[0.1111111111111111,\"#46039f\"],[0.2222222222222222,\"#7201a8\"],[0.3333333333333333,\"#9c179e\"],[0.4444444444444444,\"#bd3786\"],[0.5555555555555556,\"#d8576b\"],[0.6666666666666666,\"#ed7953\"],[0.7777777777777778,\"#fb9f3a\"],[0.8888888888888888,\"#fdca26\"],[1.0,\"#f0f921\"]],\"type\":\"histogram2d\"}],\"histogram\":[{\"marker\":{\"pattern\":{\"fillmode\":\"overlay\",\"size\":10,\"solidity\":0.2}},\"type\":\"histogram\"}],\"mesh3d\":[{\"colorbar\":{\"outlinewidth\":0,\"ticks\":\"\"},\"type\":\"mesh3d\"}],\"parcoords\":[{\"line\":{\"colorbar\":{\"outlinewidth\":0,\"ticks\":\"\"}},\"type\":\"parcoords\"}],\"pie\":[{\"automargin\":true,\"type\":\"pie\"}],\"scatter3d\":[{\"line\":{\"colorbar\":{\"outlinewidth\":0,\"ticks\":\"\"}},\"marker\":{\"colorbar\":{\"outlinewidth\":0,\"ticks\":\"\"}},\"type\":\"scatter3d\"}],\"scattercarpet\":[{\"marker\":{\"colorbar\":{\"outlinewidth\":0,\"ticks\":\"\"}},\"type\":\"scattercarpet\"}],\"scattergeo\":[{\"marker\":{\"colorbar\":{\"outlinewidth\":0,\"ticks\":\"\"}},\"type\":\"scattergeo\"}],\"scattergl\":[{\"marker\":{\"line\":{\"color\":\"#283442\"}},\"type\":\"scattergl\"}],\"scattermapbox\":[{\"marker\":{\"colorbar\":{\"outlinewidth\":0,\"ticks\":\"\"}},\"type\":\"scattermapbox\"}],\"scatterpolargl\":[{\"marker\":{\"colorbar\":{\"outlinewidth\":0,\"ticks\":\"\"}},\"type\":\"scatterpolargl\"}],\"scatterpolar\":[{\"marker\":{\"colorbar\":{\"outlinewidth\":0,\"ticks\":\"\"}},\"type\":\"scatterpolar\"}],\"scatter\":[{\"marker\":{\"line\":{\"color\":\"#283442\"}},\"type\":\"scatter\"}],\"scatterternary\":[{\"marker\":{\"colorbar\":{\"outlinewidth\":0,\"ticks\":\"\"}},\"type\":\"scatterternary\"}],\"surface\":[{\"colorbar\":{\"outlinewidth\":0,\"ticks\":\"\"},\"colorscale\":[[0.0,\"#0d0887\"],[0.1111111111111111,\"#46039f\"],[0.2222222222222222,\"#7201a8\"],[0.3333333333333333,\"#9c179e\"],[0.4444444444444444,\"#bd3786\"],[0.5555555555555556,\"#d8576b\"],[0.6666666666666666,\"#ed7953\"],[0.7777777777777778,\"#fb9f3a\"],[0.8888888888888888,\"#fdca26\"],[1.0,\"#f0f921\"]],\"type\":\"surface\"}],\"table\":[{\"cells\":{\"fill\":{\"color\":\"#506784\"},\"line\":{\"color\":\"rgb(17,17,17)\"}},\"header\":{\"fill\":{\"color\":\"#2a3f5f\"},\"line\":{\"color\":\"rgb(17,17,17)\"}},\"type\":\"table\"}]},\"layout\":{\"annotationdefaults\":{\"arrowcolor\":\"#f2f5fa\",\"arrowhead\":0,\"arrowwidth\":1},\"autotypenumbers\":\"strict\",\"coloraxis\":{\"colorbar\":{\"outlinewidth\":0,\"ticks\":\"\"}},\"colorscale\":{\"diverging\":[[0,\"#8e0152\"],[0.1,\"#c51b7d\"],[0.2,\"#de77ae\"],[0.3,\"#f1b6da\"],[0.4,\"#fde0ef\"],[0.5,\"#f7f7f7\"],[0.6,\"#e6f5d0\"],[0.7,\"#b8e186\"],[0.8,\"#7fbc41\"],[0.9,\"#4d9221\"],[1,\"#276419\"]],\"sequential\":[[0.0,\"#0d0887\"],[0.1111111111111111,\"#46039f\"],[0.2222222222222222,\"#7201a8\"],[0.3333333333333333,\"#9c179e\"],[0.4444444444444444,\"#bd3786\"],[0.5555555555555556,\"#d8576b\"],[0.6666666666666666,\"#ed7953\"],[0.7777777777777778,\"#fb9f3a\"],[0.8888888888888888,\"#fdca26\"],[1.0,\"#f0f921\"]],\"sequentialminus\":[[0.0,\"#0d0887\"],[0.1111111111111111,\"#46039f\"],[0.2222222222222222,\"#7201a8\"],[0.3333333333333333,\"#9c179e\"],[0.4444444444444444,\"#bd3786\"],[0.5555555555555556,\"#d8576b\"],[0.6666666666666666,\"#ed7953\"],[0.7777777777777778,\"#fb9f3a\"],[0.8888888888888888,\"#fdca26\"],[1.0,\"#f0f921\"]]},\"colorway\":[\"#636efa\",\"#EF553B\",\"#00cc96\",\"#ab63fa\",\"#FFA15A\",\"#19d3f3\",\"#FF6692\",\"#B6E880\",\"#FF97FF\",\"#FECB52\"],\"font\":{\"color\":\"#f2f5fa\"},\"geo\":{\"bgcolor\":\"rgb(17,17,17)\",\"lakecolor\":\"rgb(17,17,17)\",\"landcolor\":\"rgb(17,17,17)\",\"showlakes\":true,\"showland\":true,\"subunitcolor\":\"#506784\"},\"hoverlabel\":{\"align\":\"left\"},\"hovermode\":\"closest\",\"mapbox\":{\"style\":\"dark\"},\"paper_bgcolor\":\"rgb(17,17,17)\",\"plot_bgcolor\":\"rgb(17,17,17)\",\"polar\":{\"angularaxis\":{\"gridcolor\":\"#506784\",\"linecolor\":\"#506784\",\"ticks\":\"\"},\"bgcolor\":\"rgb(17,17,17)\",\"radialaxis\":{\"gridcolor\":\"#506784\",\"linecolor\":\"#506784\",\"ticks\":\"\"}},\"scene\":{\"xaxis\":{\"backgroundcolor\":\"rgb(17,17,17)\",\"gridcolor\":\"#506784\",\"gridwidth\":2,\"linecolor\":\"#506784\",\"showbackground\":true,\"ticks\":\"\",\"zerolinecolor\":\"#C8D4E3\"},\"yaxis\":{\"backgroundcolor\":\"rgb(17,17,17)\",\"gridcolor\":\"#506784\",\"gridwidth\":2,\"linecolor\":\"#506784\",\"showbackground\":true,\"ticks\":\"\",\"zerolinecolor\":\"#C8D4E3\"},\"zaxis\":{\"backgroundcolor\":\"rgb(17,17,17)\",\"gridcolor\":\"#506784\",\"gridwidth\":2,\"linecolor\":\"#506784\",\"showbackground\":true,\"ticks\":\"\",\"zerolinecolor\":\"#C8D4E3\"}},\"shapedefaults\":{\"line\":{\"color\":\"#f2f5fa\"}},\"sliderdefaults\":{\"bgcolor\":\"#C8D4E3\",\"bordercolor\":\"rgb(17,17,17)\",\"borderwidth\":1,\"tickwidth\":0},\"ternary\":{\"aaxis\":{\"gridcolor\":\"#506784\",\"linecolor\":\"#506784\",\"ticks\":\"\"},\"baxis\":{\"gridcolor\":\"#506784\",\"linecolor\":\"#506784\",\"ticks\":\"\"},\"bgcolor\":\"rgb(17,17,17)\",\"caxis\":{\"gridcolor\":\"#506784\",\"linecolor\":\"#506784\",\"ticks\":\"\"}},\"title\":{\"x\":0.05},\"updatemenudefaults\":{\"bgcolor\":\"#506784\",\"borderwidth\":0},\"xaxis\":{\"automargin\":true,\"gridcolor\":\"#283442\",\"linecolor\":\"#506784\",\"ticks\":\"\",\"title\":{\"standoff\":15},\"zerolinecolor\":\"#283442\",\"zerolinewidth\":2},\"yaxis\":{\"automargin\":true,\"gridcolor\":\"#283442\",\"linecolor\":\"#506784\",\"ticks\":\"\",\"title\":{\"standoff\":15},\"zerolinecolor\":\"#283442\",\"zerolinewidth\":2}}},\"title\":{\"text\":\"Credit Card Fraud Class - data unbalance (Not fraud = 0, Fraud = 1)\"},\"width\":600,\"xaxis\":{\"showticklabels\":true,\"title\":{\"text\":\"Class\"}},\"yaxis\":{\"title\":{\"text\":\"Number of transactions\"}}},                        {\"responsive\": true}                    ).then(function(){\n",
       "                            \n",
       "var gd = document.getElementById('fe7213fe-9ec0-4d86-b5b8-4fd3cd453b47');\n",
       "var x = new MutationObserver(function (mutations, observer) {{\n",
       "        var display = window.getComputedStyle(gd).display;\n",
       "        if (!display || display === 'none') {{\n",
       "            console.log([gd, 'removed!']);\n",
       "            Plotly.purge(gd);\n",
       "            observer.disconnect();\n",
       "        }}\n",
       "}});\n",
       "\n",
       "// Listen for the removal of the full notebook cells\n",
       "var notebookContainer = gd.closest('#notebook-container');\n",
       "if (notebookContainer) {{\n",
       "    x.observe(notebookContainer, {childList: true});\n",
       "}}\n",
       "\n",
       "// Listen for the clearing of the current output cell\n",
       "var outputEl = gd.closest('.output');\n",
       "if (outputEl) {{\n",
       "    x.observe(outputEl, {childList: true});\n",
       "}}\n",
       "\n",
       "                        })                };                });            </script>        </div>"
      ]
     },
     "metadata": {},
     "output_type": "display_data"
    }
   ],
   "execution_count": 73
  },
  {
   "cell_type": "code",
   "source": "class_0 = dt.loc[dt['Class'] == 0][\"Time\"]\nclass_1 = dt.loc[dt['Class'] == 1][\"Time\"]\n\nhist_data = [class_0, class_1]\ngroup_labels = ['Not Fraud', 'Fraud']\n\nfig = ff.create_distplot(hist_data, group_labels, show_hist=False, show_rug=False)\nfig['layout'].update(title='Credit Card Transactions Time Density Plot', xaxis=dict(title='Time [s]'))\niplot(fig, filename='dist_only')",
   "metadata": {
    "trusted": true,
    "execution": {
     "iopub.status.busy": "2024-12-25T14:57:23.178456Z",
     "iopub.execute_input": "2024-12-25T14:57:23.178862Z",
     "iopub.status.idle": "2024-12-25T14:57:25.539231Z",
     "shell.execute_reply.started": "2024-12-25T14:57:23.178827Z",
     "shell.execute_reply": "2024-12-25T14:57:25.538214Z"
    },
    "ExecuteTime": {
     "end_time": "2024-12-26T01:38:42.067583Z",
     "start_time": "2024-12-26T01:38:38.810446Z"
    }
   },
   "outputs": [
    {
     "data": {
      "application/vnd.plotly.v1+json": {
       "data": [
        {
         "legendgroup": "Not Fraud",
         "marker": {
          "color": "rgb(31, 119, 180)"
         },
         "mode": "lines",
         "name": "Not Fraud",
         "showlegend": true,
         "x": [
          0.0,
          345.584,
          691.168,
          1036.752,
          1382.336,
          1727.92,
          2073.504,
          2419.088,
          2764.672,
          3110.256,
          3455.84,
          3801.424,
          4147.008,
          4492.592,
          4838.176,
          5183.76,
          5529.344,
          5874.928,
          6220.512,
          6566.096,
          6911.68,
          7257.264,
          7602.848,
          7948.432,
          8294.016,
          8639.6,
          8985.184,
          9330.768,
          9676.352,
          10021.936,
          10367.52,
          10713.104,
          11058.688,
          11404.272,
          11749.856,
          12095.44,
          12441.024,
          12786.608,
          13132.192,
          13477.776,
          13823.36,
          14168.944,
          14514.528,
          14860.112,
          15205.696,
          15551.28,
          15896.864,
          16242.448,
          16588.032,
          16933.616,
          17279.2,
          17624.784,
          17970.368,
          18315.952,
          18661.536,
          19007.12,
          19352.704,
          19698.288,
          20043.872,
          20389.456,
          20735.04,
          21080.624,
          21426.208,
          21771.792,
          22117.376,
          22462.96,
          22808.544,
          23154.128,
          23499.712,
          23845.296,
          24190.88,
          24536.464,
          24882.048,
          25227.632,
          25573.216,
          25918.8,
          26264.384,
          26609.968,
          26955.552,
          27301.136,
          27646.72,
          27992.304,
          28337.888,
          28683.472,
          29029.056,
          29374.64,
          29720.224,
          30065.808,
          30411.392,
          30756.976,
          31102.56,
          31448.144,
          31793.728,
          32139.312,
          32484.896,
          32830.48,
          33176.064,
          33521.648,
          33867.232,
          34212.816,
          34558.4,
          34903.984,
          35249.568,
          35595.152,
          35940.736,
          36286.32,
          36631.904,
          36977.488,
          37323.072,
          37668.656,
          38014.24,
          38359.824,
          38705.408,
          39050.992,
          39396.576,
          39742.16,
          40087.744,
          40433.328,
          40778.912,
          41124.496,
          41470.08,
          41815.664,
          42161.248,
          42506.832,
          42852.416,
          43198.0,
          43543.584,
          43889.168,
          44234.752,
          44580.336,
          44925.92,
          45271.504,
          45617.088,
          45962.672,
          46308.256,
          46653.84,
          46999.424,
          47345.008,
          47690.592,
          48036.176,
          48381.76,
          48727.344,
          49072.928,
          49418.512,
          49764.096,
          50109.68,
          50455.264,
          50800.848,
          51146.432,
          51492.016,
          51837.6,
          52183.184,
          52528.768,
          52874.352,
          53219.936,
          53565.52,
          53911.104,
          54256.688,
          54602.272,
          54947.856,
          55293.44,
          55639.024,
          55984.608,
          56330.192,
          56675.776,
          57021.36,
          57366.944,
          57712.528,
          58058.112,
          58403.696,
          58749.28,
          59094.864,
          59440.448,
          59786.032,
          60131.616,
          60477.2,
          60822.784,
          61168.368,
          61513.952,
          61859.536,
          62205.12,
          62550.704,
          62896.288,
          63241.872,
          63587.456,
          63933.04,
          64278.624,
          64624.208,
          64969.792,
          65315.376,
          65660.96,
          66006.544,
          66352.128,
          66697.712,
          67043.296,
          67388.88,
          67734.464,
          68080.048,
          68425.632,
          68771.216,
          69116.8,
          69462.384,
          69807.968,
          70153.552,
          70499.136,
          70844.72,
          71190.304,
          71535.888,
          71881.472,
          72227.056,
          72572.64,
          72918.224,
          73263.808,
          73609.392,
          73954.976,
          74300.56,
          74646.144,
          74991.728,
          75337.312,
          75682.896,
          76028.48,
          76374.064,
          76719.648,
          77065.232,
          77410.816,
          77756.4,
          78101.984,
          78447.568,
          78793.152,
          79138.736,
          79484.32,
          79829.904,
          80175.488,
          80521.072,
          80866.656,
          81212.24,
          81557.824,
          81903.408,
          82248.992,
          82594.576,
          82940.16,
          83285.744,
          83631.328,
          83976.912,
          84322.496,
          84668.08,
          85013.664,
          85359.248,
          85704.832,
          86050.416,
          86396.0,
          86741.584,
          87087.168,
          87432.752,
          87778.336,
          88123.92,
          88469.504,
          88815.088,
          89160.672,
          89506.256,
          89851.84,
          90197.424,
          90543.008,
          90888.592,
          91234.176,
          91579.76,
          91925.344,
          92270.928,
          92616.512,
          92962.096,
          93307.68,
          93653.264,
          93998.848,
          94344.432,
          94690.016,
          95035.6,
          95381.184,
          95726.768,
          96072.352,
          96417.936,
          96763.52,
          97109.104,
          97454.688,
          97800.272,
          98145.856,
          98491.44,
          98837.024,
          99182.608,
          99528.192,
          99873.776,
          100219.36,
          100564.944,
          100910.528,
          101256.112,
          101601.696,
          101947.28,
          102292.864,
          102638.448,
          102984.032,
          103329.616,
          103675.2,
          104020.784,
          104366.368,
          104711.952,
          105057.536,
          105403.12,
          105748.704,
          106094.288,
          106439.872,
          106785.456,
          107131.04,
          107476.624,
          107822.208,
          108167.792,
          108513.376,
          108858.96,
          109204.544,
          109550.128,
          109895.712,
          110241.296,
          110586.88,
          110932.464,
          111278.048,
          111623.632,
          111969.216,
          112314.8,
          112660.384,
          113005.968,
          113351.552,
          113697.136,
          114042.72,
          114388.304,
          114733.888,
          115079.472,
          115425.056,
          115770.64,
          116116.224,
          116461.808,
          116807.392,
          117152.976,
          117498.56,
          117844.144,
          118189.728,
          118535.312,
          118880.896,
          119226.48,
          119572.064,
          119917.648,
          120263.232,
          120608.816,
          120954.4,
          121299.984,
          121645.568,
          121991.152,
          122336.736,
          122682.32,
          123027.904,
          123373.488,
          123719.072,
          124064.656,
          124410.24,
          124755.824,
          125101.408,
          125446.992,
          125792.576,
          126138.16,
          126483.744,
          126829.328,
          127174.912,
          127520.496,
          127866.08,
          128211.664,
          128557.248,
          128902.832,
          129248.416,
          129594.0,
          129939.584,
          130285.168,
          130630.752,
          130976.336,
          131321.92,
          131667.504,
          132013.088,
          132358.672,
          132704.256,
          133049.84,
          133395.424,
          133741.008,
          134086.592,
          134432.176,
          134777.76,
          135123.344,
          135468.928,
          135814.512,
          136160.096,
          136505.68,
          136851.264,
          137196.848,
          137542.432,
          137888.016,
          138233.6,
          138579.184,
          138924.768,
          139270.352,
          139615.936,
          139961.52,
          140307.104,
          140652.688,
          140998.272,
          141343.856,
          141689.44,
          142035.024,
          142380.608,
          142726.192,
          143071.776,
          143417.36,
          143762.944,
          144108.528,
          144454.112,
          144799.696,
          145145.28,
          145490.864,
          145836.448,
          146182.032,
          146527.616,
          146873.2,
          147218.784,
          147564.368,
          147909.952,
          148255.536,
          148601.12,
          148946.704,
          149292.288,
          149637.872,
          149983.456,
          150329.04,
          150674.624,
          151020.208,
          151365.792,
          151711.376,
          152056.96,
          152402.544,
          152748.128,
          153093.712,
          153439.296,
          153784.88,
          154130.464,
          154476.048,
          154821.632,
          155167.216,
          155512.8,
          155858.384,
          156203.968,
          156549.552,
          156895.136,
          157240.72,
          157586.304,
          157931.888,
          158277.472,
          158623.056,
          158968.64,
          159314.224,
          159659.808,
          160005.392,
          160350.976,
          160696.56,
          161042.144,
          161387.728,
          161733.312,
          162078.896,
          162424.48,
          162770.064,
          163115.648,
          163461.232,
          163806.816,
          164152.4,
          164497.984,
          164843.568,
          165189.152,
          165534.736,
          165880.32,
          166225.904,
          166571.488,
          166917.072,
          167262.656,
          167608.24,
          167953.824,
          168299.408,
          168644.992,
          168990.576,
          169336.16,
          169681.744,
          170027.328,
          170372.912,
          170718.496,
          171064.08,
          171409.664,
          171755.248,
          172100.832,
          172446.416
         ],
         "xaxis": "x",
         "y": [
          1.697347456086226E-6,
          1.7892406860838056E-6,
          1.8751066622895047E-6,
          1.9539240211315817E-6,
          2.0248147874841933E-6,
          2.0870700001728196E-6,
          2.1401693523158404E-6,
          2.1837939471416954E-6,
          2.2178316034665912E-6,
          2.242374511761339E-6,
          2.2577094196194055E-6,
          2.2643008918188014E-6,
          2.2627685234050986E-6,
          2.2538592651662705E-6,
          2.2384162340774593E-6,
          2.217345515980265E-6,
          2.1915825183281395E-6,
          2.162059397021127E-6,
          2.1296749680386738E-6,
          2.095268331193404E-6,
          2.05959719303171E-6,
          2.023321594571911E-6,
          1.9869934446533323E-6,
          1.9510519490665072E-6,
          1.9158247265701045E-6,
          1.8815341310018962E-6,
          1.8483080671292573E-6,
          1.8161944068400577E-6,
          1.785177988507893E-6,
          1.7551991191213409E-6,
          1.7261724957825178E-6,
          1.6980055169883936E-6,
          1.6706150584078137E-6,
          1.6439419340972001E-6,
          1.6179624420037476E-6,
          1.5926965909610441E-6,
          1.5682128135695855E-6,
          1.544629174058958E-6,
          1.5221112719306263E-6,
          1.5008672116659285E-6,
          1.481140148483666E-6,
          1.46319902439773E-6,
          1.447328174052436E-6,
          1.433816504534355E-6,
          1.422946938147587E-6,
          1.4149867545429196E-6,
          1.410179382909212E-6,
          1.408738081981337E-6,
          1.4108418124353673E-6,
          1.416633460726771E-6,
          1.4262204239961602E-6,
          1.4396774207779606E-6,
          1.4570512600447994E-6,
          1.478367188917408E-6,
          1.5036363533035317E-6,
          1.532863850340599E-6,
          1.566056829463784E-6,
          1.6032321108015968E-6,
          1.6444228338374854E-6,
          1.6896837222361368E-6,
          1.739094646910136E-6,
          1.7927622818094237E-6,
          1.8508197675565135E-6,
          1.913424418521531E-6,
          1.980753621024302E-6,
          2.052999166716722E-6,
          2.130360339872763E-6,
          2.213036126211028E-6,
          2.3012169320790766E-6,
          2.395076196709398E-6,
          2.4947622494234817E-6,
          2.6003907126324243E-6,
          2.712037686308532E-6,
          2.8297338772311614E-6,
          2.9534597639182697E-6,
          3.083141822512351E-6,
          3.2186497856324444E-6,
          3.359794869388642E-6,
          3.5063288854050637E-6,
          3.657944154693155E-6,
          3.8142741563072327E-6,
          3.97489487181751E-6,
          4.139326821281706E-6,
          4.307037821357342E-6,
          4.477446525210012E-6,
          4.649926821293155E-6,
          4.823813169618387E-6,
          4.998406937320513E-6,
          5.172983759820729E-6,
          5.346801901645483E-6,
          5.5191115259867515E-6,
          5.689164710128658E-6,
          5.856225971804274E-6,
          6.019583006720395E-6,
          6.178557286896822E-6,
          6.33251413909087E-6,
          6.480871916741137E-6,
          6.623109899729855E-6,
          6.758774603685426E-6,
          6.8874842519837105E-6,
          7.008931254393314E-6,
          7.122882640061902E-6,
          7.229178501787336E-6,
          7.327728615221862E-6,
          7.418507493160355E-6,
          7.501548214399436E-6,
          7.576935423367104E-6,
          7.64479792710563E-6,
          7.705301318490012E-6,
          7.758641029150601E-6,
          7.805036164694744E-6,
          7.844724402420202E-6,
          7.877958143023881E-6,
          7.905002009088228E-6,
          7.926131680880564E-6,
          7.94163396095993E-6,
          7.951807869479588E-6,
          7.95696649738327E-6,
          7.957439289376487E-6,
          7.95357439583249E-6,
          7.945740724359432E-6,
          7.93432933796E-6,
          7.919753886306895E-6,
          7.90244981707093E-6,
          7.88287219158645E-6,
          7.861492018651871E-6,
          7.83879111631714E-6,
          7.815255608175426E-6,
          7.791368252068972E-6,
          7.767599879605554E-6,
          7.744400289671187E-6,
          7.722188984437173E-6,
          7.701346159669049E-6,
          7.682204361436706E-6,
          7.665041198951465E-6,
          7.65007346006783E-6,
          7.637452914970817E-6,
          7.627264018689671E-6,
          7.619523638961723E-6,
          7.61418284739335E-6,
          7.611130723686314E-6,
          7.610200039221739E-6,
          7.611174611300591E-6,
          7.613798055773268E-6,
          7.617783615693654E-6,
          7.6228247082879535E-6,
          7.62860581233097E-6,
          7.634813312831111E-6,
          7.641145929061619E-6,
          7.647324374415867E-6,
          7.65309993110634E-6,
          7.658261667941963E-6,
          7.662642083793558E-6,
          7.666121021265789E-6,
          7.668627762522012E-6,
          7.670141290160318E-6,
          7.670688767914203E-6,
          7.670342366006724E-6,
          7.669214621200134E-6,
          7.667452578692807E-6,
          7.665231008939398E-6,
          7.662745024280962E-6,
          7.660202435730384E-6,
          7.657816187892279E-6,
          7.655797189368887E-6,
          7.654347818073842E-6,
          7.65365632767946E-6,
          7.653892316465032E-6,
          7.655203347519245E-6,
          7.657712734803747E-6,
          7.66151843861622E-6,
          7.666692951868367E-6,
          7.673284010222378E-6,
          7.681315928223042E-6,
          7.690791352390222E-6,
          7.701693231398637E-6,
          7.713986831543372E-6,
          7.727621669694344E-6,
          7.742533291007228E-6,
          7.758644879036125E-6,
          7.775868744871467E-6,
          7.794107793011539E-6,
          7.813257098720034E-6,
          7.833205749804441E-6,
          7.853839101993095E-6,
          7.875041570289478E-6,
          7.896700030201666E-6,
          7.91870783609131E-6,
          7.940969384640015E-6,
          7.963405066766165E-6,
          7.98595636928918E-6,
          8.008590816494447E-6,
          8.031306389214006E-6,
          8.054135031363684E-6,
          8.077144855419422E-6,
          8.100440690962875E-6,
          8.12416268335992E-6,
          8.148482739462418E-6,
          8.173598728157823E-6,
          8.199726468138793E-6,
          8.227089664610314E-6,
          8.255908081986769E-6,
          8.28638435222761E-6,
          8.318689911131436E-6,
          8.352950622010562E-6,
          8.389232684289143E-6,
          8.427529432517221E-6,
          8.467749609997747E-6,
          8.5097076534679E-6,
          8.553116455128343E-6,
          8.59758298070585E-6,
          8.642607022227291E-6,
          8.687583256706541E-6,
          8.731806671225067E-6,
          8.774481304367468E-6,
          8.814732146393526E-6,
          8.851619937765269E-6,
          8.884158509418363E-6,
          8.911334219899884E-6,
          8.932126965959673E-6,
          8.945532176540064E-6,
          8.95058314809604E-6,
          8.946373044910814E-6,
          8.932075875017873E-6,
          8.906965763680835E-6,
          8.870433884729148E-6,
          8.822002476833969E-6,
          8.761335466860958E-6,
          8.688245343573295E-6,
          8.602696067955016E-6,
          8.504801964908307E-6,
          8.394822707027359E-6,
          8.273154665238242E-6,
          8.140319053533444E-6,
          7.996947426325067E-6,
          7.843765188647893E-6,
          7.681573845069685E-6,
          7.511232738581267E-6,
          7.33364101471729E-6,
          7.149720490327954E-6,
          6.960400015284128E-6,
          6.76660179574194E-6,
          6.5692300080250655E-6,
          6.369161882344767E-6,
          6.167241285296679E-6,
          5.964274688715284E-6,
          5.7610292881530164E-6,
          5.558232933420785E-6,
          5.3565754606671604E-6,
          5.156710972657441E-6,
          4.959260601368877E-6,
          4.764815303057657E-6,
          4.5739382773489956E-6,
          4.3871666642909316E-6,
          4.205012251683968E-6,
          4.027961014003517E-6,
          3.856471398599545E-6,
          3.6909713696184227E-6,
          3.5318543107640014E-6,
          3.3794739707040134E-6,
          3.2341387063642493E-6,
          3.09610533689418E-6,
          2.965572962654928E-6,
          2.842677127687104E-6,
          2.727484709805115E-6,
          2.619989909357818E-6,
          2.520111676015091E-6,
          2.427692863569815E-6,
          2.342501337296398E-6,
          2.264233179246592E-6,
          2.192518047148749E-6,
          2.1269266461765223E-6,
          2.0669801742745345E-6,
          2.012161505894253E-6,
          1.9619277910244224E-6,
          1.9157240712834857E-6,
          1.8729974570884043E-6,
          1.8332113732540546E-6,
          1.7958593673801985E-6,
          1.7604779872841177E-6,
          1.7266582702356212E-6,
          1.694055445992837E-6,
          1.6623965343016347E-6,
          1.6314856110536923E-6,
          1.6012066201757071E-6,
          1.5715237145407142E-6,
          1.5424792126083194E-6,
          1.5141893523611344E-6,
          1.4868381053923456E-6,
          1.4606693777951228E-6,
          1.4359779681991328E-6,
          1.4130996757281782E-6,
          1.3924009520549702E-6,
          1.3742684736943764E-6,
          1.3590989758662608E-6,
          1.3472896412160876E-6,
          1.3392292794638088E-6,
          1.3352904719533155E-6,
          1.335822792319559E-6,
          1.341147154951964E-6,
          1.3515512899463576E-6,
          1.36728629939042E-6,
          1.3885642169032805E-6,
          1.4155564712147415E-6,
          1.4483931452166274E-6,
          1.4871629234741587E-6,
          1.531913632014335E-6,
          1.5826532920302118E-6,
          1.6393516311859596E-6,
          1.7019420194297466E-6,
          1.770323817488097E-6,
          1.8443651425656395E-6,
          1.9239060646457227E-6,
          2.0087622462564445E-6,
          2.098729027519551E-6,
          2.1935859366460467E-6,
          2.2931015747103575E-6,
          2.3970387845923E-6,
          2.5051599704428945E-6,
          2.6172323897750845E-6,
          2.7330331997486774E-6,
          2.8523540070366512E-6,
          2.9750046513343243E-6,
          3.1008159500099968E-6,
          3.229641148489611E-6,
          3.361355859316422E-6,
          3.49585633235638E-6,
          3.6330559775247643E-6,
          3.77288015605973E-6,
          3.915259361504394E-6,
          4.0601210205601614E-6,
          4.20738024928744E-6,
          4.356929993860334E-6,
          4.508631059529288E-6,
          4.662302579861018E-6,
          4.817713495387055E-6,
          4.97457559321582E-6,
          5.132538606064657E-6,
          5.291187782149383E-6,
          5.4500442207274745E-6,
          5.608568128319679E-6,
          5.7661649962831695E-6,
          5.922194541198147E-6,
          6.075982095987878E-6,
          6.226832001933775E-6,
          6.374042439169836E-6,
          6.516921053370932E-6,
          6.6548006945818544E-6,
          6.787054583109831E-6,
          6.913110256888775E-6,
          7.032461731690977E-6,
          7.144679414247741E-6,
          7.249417441023877E-6,
          7.3464182626032205E-6,
          7.435514445358026E-6,
          7.516627808025062E-6,
          7.589766141684623E-6,
          7.655017869381519E-6,
          7.712545080304945E-6,
          7.76257541936528E-6,
          7.805393325111688E-6,
          7.841331088565962E-6,
          7.870760156336691E-6,
          7.894083028920017E-6,
          7.911726016105932E-6,
          7.924133013618895E-6,
          7.931760366075156E-6,
          7.935072788425494E-6,
          7.934540237282671E-6,
          7.930635559896009E-6,
          7.923832705051017E-6,
          7.914605258270494E-6,
          7.903425063041482E-6,
          7.890760708466107E-6,
          7.877075698645939E-6,
          7.862826166202862E-6,
          7.848458047158569E-6,
          7.834403692290484E-6,
          7.821077946804908E-6,
          7.808873781945643E-6,
          7.798157606035696E-6,
          7.789264416363833E-6,
          7.782492976151726E-6,
          7.77810121225941E-6,
          7.776302029754061E-6,
          7.777259729962855E-6,
          7.781087200522531E-6,
          7.787844020759934E-6,
          7.797535595084253E-6,
          7.810113392411539E-6,
          7.825476332418608E-6,
          7.843473320742812E-6,
          7.86390689633336E-6,
          7.88653791592843E-6,
          7.911091164212854E-6,
          7.93726174456668E-6,
          7.964722075703524E-6,
          7.993129295076801E-6,
          8.022132851958381E-6,
          8.051382062851659E-6,
          8.080533400309721E-6,
          8.10925729415988E-6,
          8.137244241794065E-6,
          8.164210051465264E-6,
          8.189900078482423E-6,
          8.214092357438593E-6,
          8.236599582026864E-6,
          8.257269934935509E-6,
          8.275986820935606E-6,
          8.292667603341434E-6,
          8.307261484600059E-6,
          8.319746703096486E-6,
          8.330127238270177E-6,
          8.338429223485027E-6,
          8.344697260356942E-6,
          8.348990810121105E-6,
          8.351380808722834E-6,
          8.351946615214956E-6,
          8.350773361117179E-6,
          8.347949725304532E-6,
          8.343566118802322E-6,
          8.337713230093595E-6,
          8.330480857437749E-6,
          8.321956942328969E-6,
          8.312226718654158E-6,
          8.301371904984082E-6,
          8.28946989113086E-6,
          8.276592901670643E-6,
          8.262807154751018E-6,
          8.24817206964307E-6,
          8.232739606528501E-6,
          8.216553842656714E-6,
          8.199650896786162E-6,
          8.18205930653018E-6,
          8.163800940243854E-6,
          8.14489248744238E-6,
          8.125347522248057E-6,
          8.10517907716839E-6,
          8.084402605008577E-6,
          8.063039150737193E-6,
          8.041118508591435E-6,
          8.018682107831933E-6,
          7.995785357477929E-6,
          7.972499188554663E-6,
          7.948910562417719E-6,
          7.92512176427102E-6,
          7.90124836881024E-6,
          7.877415845168722E-6,
          7.853754855151372E-6,
          7.830395385603204E-6,
          7.807459936140123E-6,
          7.785056051576906E-6,
          7.76326853923214E-6,
          7.742151741544881E-6,
          7.721722242233108E-6,
          7.701952369437012E-6,
          7.682764823383586E-6,
          7.664028701862044E-6,
          7.645557128088684E-6,
          7.627106606879589E-6,
          7.608378151350866E-6,
          7.589020138440517E-6,
          7.5686327720261705E-6,
          7.546773961324201E-6,
          7.522966363070486E-6,
          7.4967052913752334E-6,
          7.467467171099337E-6,
          7.434718200257147E-6,
          7.397922894775452E-6,
          7.356552214556368E-6,
          7.31009101210078E-6,
          7.258044602058914E-6,
          7.199944319248215E-6,
          7.135352010448104E-6,
          7.063863487342652E-6,
          6.985111049446798E-6,
          6.898765261309E-6,
          6.804536232139017E-6,
          6.702174692783636E-6,
          6.591473189773025E-6,
          6.4722677150522574E-6,
          6.3444400605795025E-6,
          6.207921128630467E-6,
          6.062695343022793E-6,
          5.908806197528005E-6,
          5.746362851759736E-6,
          5.5755475501749955E-6,
          5.396623506475834E-6,
          5.209942774562255E-6,
          5.015953529263215E-6,
          4.815206115540978E-6,
          4.608357202072425E-6,
          4.396171399757077E-6,
          4.17951978005933E-6,
          3.959374850598455E-6,
          3.736801710492047E-6,
          3.512945306302105E-6,
          3.2890139285170335E-6,
          3.066259313514767E-6,
          2.84595393096583E-6
         ],
         "yaxis": "y",
         "type": "scatter"
        },
        {
         "legendgroup": "Fraud",
         "marker": {
          "color": "rgb(255, 127, 14)"
         },
         "mode": "lines",
         "name": "Fraud",
         "showlegend": true,
         "x": [
          406.0,
          745.884,
          1085.768,
          1425.652,
          1765.536,
          2105.42,
          2445.304,
          2785.188,
          3125.072,
          3464.956,
          3804.84,
          4144.724,
          4484.608,
          4824.492,
          5164.376,
          5504.26,
          5844.144,
          6184.028,
          6523.912,
          6863.796,
          7203.68,
          7543.564,
          7883.448,
          8223.332,
          8563.216,
          8903.1,
          9242.984,
          9582.868,
          9922.752,
          10262.636,
          10602.52,
          10942.404,
          11282.288,
          11622.172,
          11962.056,
          12301.94,
          12641.824,
          12981.708,
          13321.592,
          13661.476,
          14001.36,
          14341.244,
          14681.128,
          15021.012,
          15360.896,
          15700.78,
          16040.664,
          16380.548,
          16720.432,
          17060.316,
          17400.2,
          17740.084,
          18079.968,
          18419.852,
          18759.736,
          19099.62,
          19439.504,
          19779.388,
          20119.272,
          20459.156,
          20799.04,
          21138.924,
          21478.808,
          21818.692,
          22158.576,
          22498.46,
          22838.344,
          23178.228,
          23518.112,
          23857.996,
          24197.88,
          24537.764,
          24877.648,
          25217.532,
          25557.416,
          25897.3,
          26237.184,
          26577.068,
          26916.952,
          27256.836,
          27596.72,
          27936.604,
          28276.488,
          28616.372,
          28956.256,
          29296.14,
          29636.024,
          29975.908,
          30315.792,
          30655.676,
          30995.56,
          31335.444,
          31675.328,
          32015.212,
          32355.096,
          32694.98,
          33034.864,
          33374.748,
          33714.632,
          34054.516,
          34394.4,
          34734.284,
          35074.168,
          35414.052,
          35753.936,
          36093.82,
          36433.704,
          36773.588,
          37113.472,
          37453.356,
          37793.24,
          38133.124,
          38473.008,
          38812.892,
          39152.776,
          39492.66,
          39832.544,
          40172.428,
          40512.312,
          40852.196,
          41192.08,
          41531.964,
          41871.848,
          42211.732,
          42551.616,
          42891.5,
          43231.384,
          43571.268,
          43911.152,
          44251.036,
          44590.92,
          44930.804,
          45270.688,
          45610.572,
          45950.456,
          46290.34,
          46630.224,
          46970.108,
          47309.992,
          47649.876,
          47989.76,
          48329.644,
          48669.528,
          49009.412,
          49349.296,
          49689.18,
          50029.064,
          50368.948,
          50708.832,
          51048.716,
          51388.6,
          51728.484,
          52068.368,
          52408.252,
          52748.136,
          53088.02,
          53427.904,
          53767.788,
          54107.672,
          54447.556,
          54787.44,
          55127.324,
          55467.208,
          55807.092,
          56146.976,
          56486.86,
          56826.744,
          57166.628,
          57506.512,
          57846.396,
          58186.28,
          58526.164,
          58866.048,
          59205.932,
          59545.816,
          59885.7,
          60225.584,
          60565.468,
          60905.352,
          61245.236,
          61585.12,
          61925.004,
          62264.888,
          62604.772,
          62944.656,
          63284.54,
          63624.424,
          63964.308,
          64304.192,
          64644.076,
          64983.96,
          65323.844,
          65663.728,
          66003.612,
          66343.496,
          66683.38,
          67023.264,
          67363.148,
          67703.032,
          68042.916,
          68382.8,
          68722.684,
          69062.568,
          69402.452,
          69742.336,
          70082.22,
          70422.104,
          70761.988,
          71101.872,
          71441.756,
          71781.64,
          72121.524,
          72461.408,
          72801.292,
          73141.176,
          73481.06,
          73820.944,
          74160.828,
          74500.712,
          74840.596,
          75180.48,
          75520.364,
          75860.248,
          76200.132,
          76540.016,
          76879.9,
          77219.784,
          77559.668,
          77899.552,
          78239.436,
          78579.32,
          78919.204,
          79259.088,
          79598.972,
          79938.856,
          80278.74,
          80618.624,
          80958.508,
          81298.392,
          81638.276,
          81978.16,
          82318.044,
          82657.928,
          82997.812,
          83337.696,
          83677.58,
          84017.464,
          84357.348,
          84697.232,
          85037.116,
          85377.0,
          85716.884,
          86056.768,
          86396.652,
          86736.536,
          87076.42,
          87416.304,
          87756.188,
          88096.072,
          88435.956,
          88775.84,
          89115.724,
          89455.608,
          89795.492,
          90135.376,
          90475.26,
          90815.144,
          91155.028,
          91494.912,
          91834.796,
          92174.68,
          92514.564,
          92854.448,
          93194.332,
          93534.216,
          93874.1,
          94213.984,
          94553.868,
          94893.752,
          95233.636,
          95573.52,
          95913.404,
          96253.288,
          96593.172,
          96933.056,
          97272.94,
          97612.824,
          97952.708,
          98292.592,
          98632.476,
          98972.36,
          99312.244,
          99652.128,
          99992.012,
          100331.896,
          100671.78,
          101011.664,
          101351.548,
          101691.432,
          102031.316,
          102371.2,
          102711.084,
          103050.968,
          103390.852,
          103730.736,
          104070.62,
          104410.504,
          104750.388,
          105090.272,
          105430.156,
          105770.04,
          106109.924,
          106449.808,
          106789.692,
          107129.576,
          107469.46,
          107809.344,
          108149.228,
          108489.112,
          108828.996,
          109168.88,
          109508.764,
          109848.648,
          110188.532,
          110528.416,
          110868.3,
          111208.184,
          111548.068,
          111887.952,
          112227.836,
          112567.72,
          112907.604,
          113247.488,
          113587.372,
          113927.256,
          114267.14,
          114607.024,
          114946.908,
          115286.792,
          115626.676,
          115966.56,
          116306.444,
          116646.328,
          116986.212,
          117326.096,
          117665.98,
          118005.864,
          118345.748,
          118685.632,
          119025.516,
          119365.4,
          119705.284,
          120045.168,
          120385.052,
          120724.936,
          121064.82,
          121404.704,
          121744.588,
          122084.472,
          122424.356,
          122764.24,
          123104.124,
          123444.008,
          123783.892,
          124123.776,
          124463.66,
          124803.544,
          125143.428,
          125483.312,
          125823.196,
          126163.08,
          126502.964,
          126842.848,
          127182.732,
          127522.616,
          127862.5,
          128202.384,
          128542.268,
          128882.152,
          129222.036,
          129561.92,
          129901.804,
          130241.688,
          130581.572,
          130921.456,
          131261.34,
          131601.224,
          131941.108,
          132280.992,
          132620.876,
          132960.76,
          133300.644,
          133640.528,
          133980.412,
          134320.296,
          134660.18,
          135000.064,
          135339.948,
          135679.832,
          136019.716,
          136359.6,
          136699.484,
          137039.368,
          137379.252,
          137719.136,
          138059.02,
          138398.904,
          138738.788,
          139078.672,
          139418.556,
          139758.44,
          140098.324,
          140438.208,
          140778.092,
          141117.976,
          141457.86,
          141797.744,
          142137.628,
          142477.512,
          142817.396,
          143157.28,
          143497.164,
          143837.048,
          144176.932,
          144516.816,
          144856.7,
          145196.584,
          145536.468,
          145876.352,
          146216.236,
          146556.12,
          146896.004,
          147235.888,
          147575.772,
          147915.656,
          148255.54,
          148595.424,
          148935.308,
          149275.192,
          149615.076,
          149954.96,
          150294.844,
          150634.728,
          150974.612,
          151314.496,
          151654.38,
          151994.264,
          152334.148,
          152674.032,
          153013.916,
          153353.8,
          153693.684,
          154033.568,
          154373.452,
          154713.336,
          155053.22,
          155393.104,
          155732.988,
          156072.872,
          156412.756,
          156752.64,
          157092.524,
          157432.408,
          157772.292,
          158112.176,
          158452.06,
          158791.944,
          159131.828,
          159471.712,
          159811.596,
          160151.48,
          160491.364,
          160831.248,
          161171.132,
          161511.016,
          161850.9,
          162190.784,
          162530.668,
          162870.552,
          163210.436,
          163550.32,
          163890.204,
          164230.088,
          164569.972,
          164909.856,
          165249.74,
          165589.624,
          165929.508,
          166269.392,
          166609.276,
          166949.16,
          167289.044,
          167628.928,
          167968.812,
          168308.696,
          168648.58,
          168988.464,
          169328.348,
          169668.232,
          170008.116
         ],
         "xaxis": "x",
         "y": [
          2.5725270199184186E-6,
          2.6310058058129383E-6,
          2.6897686304363113E-6,
          2.748786647363209E-6,
          2.8080309928186178E-6,
          2.8674728524427232E-6,
          2.927083527927629E-6,
          2.9868345032672523E-6,
          3.046697510360476E-6,
          3.106644593707739E-6,
          3.1666481739421243E-6,
          3.2266811099387665E-6,
          3.286716759249754E-6,
          3.3467290366169334E-6,
          3.4066924703207853E-6,
          3.4665822561312503E-6,
          3.5263743086346612E-6,
          3.586045309720728E-6,
          3.6455727540243725E-6,
          3.704934991128807E-6,
          3.764111264349627E-6,
          3.823081745932931E-6,
          3.8818275685156236E-6,
          3.940330852711665E-6,
          3.998574730703817E-6,
          4.056543365738184E-6,
          4.114221967435875E-6,
          4.171596802854251E-6,
          4.22865520324932E-6,
          4.2853855665086814E-6,
          4.341777355244726E-6,
          4.397821090555965E-6,
          4.4535083414842744E-6,
          4.508831710215101E-6,
          4.5637848130863E-6,
          4.618362257490829E-6,
          4.672559614776593E-6,
          4.726373389264856E-6,
          4.7798009835267726E-6,
          4.832840660073918E-6,
          4.8854914996356455E-6,
          4.937753356211278E-6,
          4.989626809100186E-6,
          5.04111311212635E-6,
          5.0922141402872045E-6,
          5.142932334068026E-6,
          5.193270641674184E-6,
          5.2432324594427434E-6,
          5.2928215707039586E-6,
          5.342042083369238E-6,
          5.390898366529312E-6,
          5.439394986349832E-6,
          5.487536641555415E-6,
          5.5353280987949695E-6,
          5.582774128181599E-6,
          5.629879439299518E-6,
          5.676648617968544E-6,
          5.723086064053026E-6,
          5.769195930597303E-6,
          5.814982064563845E-6,
          5.860447949442463E-6,
          5.905596649991412E-6,
          5.950430759359787E-6,
          5.994952348831379E-6,
          6.039162920417333E-6,
          6.0830633625115504E-6,
          6.126653908809836E-6,
          6.169934100677941E-6,
          6.212902753138355E-6,
          6.255557924628917E-6,
          6.297896890669671E-6,
          6.339916121555685E-6,
          6.381611264176304E-6,
          6.422977128041518E-6,
          6.464007675577935E-6,
          6.504696016736771E-6,
          6.545034407937351E-6,
          6.585014255349519E-6,
          6.6246261224990165E-6,
          6.663859742160641E-6,
          6.702704032484233E-6,
          6.741147117280074E-6,
          6.779176350371278E-6,
          6.8167783439031485E-6,
          6.8539390004813194E-6,
          6.890643548994117E-6,
          6.9268765839581094E-6,
          6.962622108210547E-6,
          6.997863578757841E-6,
          7.032583955575587E-6,
          7.066765753143314E-6,
          7.100391094485442E-6,
          7.13344176747952E-6,
          7.165899283183912E-6,
          7.197744935928862E-6,
          7.228959864908295E-6,
          7.2595251170041E-6,
          7.2894217105707835E-6,
          7.318630699905537E-6,
          7.347133240126908E-6,
          7.374910652185972E-6,
          7.401944487734288E-6,
          7.428216593576158E-6,
          7.453709175436182E-6,
          7.478404860778611E-6,
          7.502286760421194E-6,
          7.525338528694E-6,
          7.547544421902765E-6,
          7.568889354865974E-6,
          7.589358955305963E-6,
          7.6089396158869455E-6,
          7.6276185437049614E-6,
          7.645383807049724E-6,
          7.662224379271765E-6,
          7.678130179605082E-6,
          7.693092110809923E-6,
          7.707102093518343E-6,
          7.720153097180765E-6,
          7.73223916753028E-6,
          7.74335545049777E-6,
          7.753498212529612E-6,
          7.762664857276409E-6,
          7.770853938639617E-6,
          7.778065170179877E-6,
          7.784299430908184E-6,
          7.789558767497564E-6,
          7.793846392970039E-6,
          7.79716668192795E-6,
          7.799525162415756E-6,
          7.800928504511102E-6,
          7.801384505758749E-6,
          7.800902073572752E-6,
          7.79949120474543E-6,
          7.797162962210432E-6,
          7.793929449219127E-6,
          7.789803781096399E-6,
          7.784800054750648E-6,
          7.778933316118147E-6,
          7.772219525727597E-6,
          7.764675522574614E-6,
          7.75631898649779E-6,
          7.747168399250416E-6,
          7.737243004461252E-6,
          7.726562766677172E-6,
          7.715148329678115E-6,
          7.703020974251558E-6,
          7.690202575608858E-6,
          7.67671556062078E-6,
          7.662582865042432E-6,
          7.647827890890533E-6,
          7.63247446412764E-6,
          7.6165467927982415E-6,
          7.600069425751878E-6,
          7.583067212077927E-6,
          7.565565261364991E-6,
          7.547588904886183E-6,
          7.529163657799741E-6,
          7.510315182441231E-6,
          7.491069252771464E-6,
          7.471451720031027E-6,
          7.451488479639303E-6,
          7.431205439363626E-6,
          7.410628488770476E-6,
          7.3897834699591784E-6,
          7.368696149565699E-6,
          7.347392192012733E-6,
          7.325897133970948E-6,
          7.30423635998556E-6,
          7.282435079212543E-6,
          7.260518303199246E-6,
          7.238510824635931E-6,
          7.216437196996779E-6,
          7.194321714982592E-6,
          7.172188395671026E-6,
          7.15006096027575E-6,
          7.1279628164118935E-6,
          7.105917040762377E-6,
          7.083946362037863E-6,
          7.06207314412266E-6,
          7.040319369298783E-6,
          7.018706621442342E-6,
          6.997256069088546E-6,
          6.975988448265334E-6,
          6.954924045000071E-6,
          6.934082677409288E-6,
          6.9134836772881E-6,
          6.893145871122829E-6,
          6.873087560459115E-6,
          6.8533265015665985E-6,
          6.833879884350618E-6,
          6.8147643104725706E-6,
          6.795995770650816E-6,
          6.777589621125901E-6,
          6.759560559286022E-6,
          6.741922598460666E-6,
          6.724689041902917E-6,
          6.707872455994472E-6,
          6.6914846427192735E-6,
          6.675536611465735E-6,
          6.66003855022945E-6,
          6.644999796301857E-6,
          6.630428806542279E-6,
          6.616333127343136E-6,
          6.60271936441016E-6,
          6.589593152489992E-6,
          6.576959125189144E-6,
          6.564820885037666E-6,
          6.553180973960314E-6,
          6.542040844326773E-6,
          6.531400830759609E-6,
          6.521260122885779E-6,
          6.511616739222865E-6,
          6.502467502396011E-6,
          6.4938080158847915E-6,
          6.485632642502066E-6,
          6.477934484807599E-6,
          6.470705367659423E-6,
          6.463935823104737E-6,
          6.457615077809518E-6,
          6.4517310432223365E-6,
          6.446270308662627E-6,
          6.441218137517905E-6,
          6.43655846672634E-6,
          6.432273909712533E-6,
          6.428345762934644E-6,
          6.424754016189525E-6,
          6.4214773668104815E-6,
          6.418493237878816E-6,
          6.415777800556125E-6,
          6.413306000628759E-6,
          6.4110515893397576E-6,
          6.408987158566516E-6,
          6.407084180384325E-6,
          6.405313051037887E-6,
          6.4036431393233005E-6,
          6.402042839363787E-6,
          6.400479627742147E-6,
          6.398920124932858E-6,
          6.397330160956057E-6,
          6.395674845154959E-6,
          6.3939186399780624E-6,
          6.3920254386263285E-6,
          6.38995864640597E-6,
          6.38768126560702E-6,
          6.385155983708638E-6,
          6.382345264692887E-6,
          6.379211443230842E-6,
          6.375716821486896E-6,
          6.371823768270629E-6,
          6.367494820249907E-6,
          6.362692784924035E-6,
          6.357380845042472E-6,
          6.3515226641418096E-6,
          6.345082492863202E-6,
          6.338025275702306E-6,
          6.33031675783569E-6,
          6.321923591660976E-6,
          6.312813442682563E-6,
          6.302955094371123E-6,
          6.292318551623299E-6,
          6.280875142447134E-6,
          6.268597617500529E-6,
          6.2554602471125774E-6,
          6.2414389154223915E-6,
          6.226511211276388E-6,
          6.210656515532497E-6,
          6.1938560844299705E-6,
          6.176093128693816E-6,
          6.1573528880561844E-6,
          6.137622700890801E-6,
          6.1168920686722895E-6,
          6.09515271498915E-6,
          6.0723986388573735E-6,
          6.048626162101344E-6,
          6.023833970588853E-6,
          5.998023149129174E-6,
          5.971197209865401E-6,
          5.943362114015651E-6,
          5.914526286842008E-6,
          5.884700625750639E-6,
          5.853898501451924E-6,
          5.822135752134675E-6,
          5.7894306706348915E-6,
          5.7558039846049595E-6,
          5.721278829715635E-6,
          5.685880715948571E-6,
          5.649637487063369E-6,
          5.612579273347977E-6,
          5.574738437786229E-6,
          5.536149515800898E-6,
          5.49684914875355E-6,
          5.456876011406088E-6,
          5.4162707335700106E-6,
          5.3750758161907535E-6,
          5.333335542134214E-6,
          5.291095881960868E-6,
          5.248404394990797E-6,
          5.205310125978372E-6,
          5.161863497730501E-6,
          5.118116200015251E-6,
          5.074121075119351E-6,
          5.029932000423422E-6,
          4.985603768372088E-6,
          4.941191964223304E-6,
          4.896752841966393E-6,
          4.85234319880216E-6,
          4.808020248580191E-6,
          4.763841494589364E-6,
          4.719864602095872E-6,
          4.676147271020593E-6,
          4.632747109143135E-6,
          4.589721506214109E-6,
          4.547127509349559E-6,
          4.505021700072854E-6,
          4.463460073358997E-6,
          4.4224979190248335E-6,
          4.382189705795714E-6,
          4.342588968365247E-6,
          4.303748197749751E-6,
          4.265718735222607E-6,
          4.228550670097034E-6,
          4.192292741607468E-6,
          4.156992245121314E-6,
          4.122694942893464E-6,
          4.089444979555857E-6,
          4.057284802514108E-6,
          4.026255087402529E-6,
          3.996394668727529E-6,
          3.967740475808403E-6,
          3.940327474103151E-6,
          3.914188611985556E-6,
          3.889354773018637E-6,
          3.865854733748632E-6,
          3.843715127022968E-6,
          3.822960410815293E-6,
          3.8036128425209813E-6,
          3.785692458667052E-6,
          3.769217059961994E-6,
          3.754202201592922E-6,
          3.7406611886604264E-6,
          3.728605076625154E-6,
          3.7180426766247457E-6,
          3.708980565505328E-6,
          3.70142310039843E-6,
          3.695372437661674E-6,
          3.6908285559905345E-6,
          3.687789283498205E-6,
          3.686250328551705E-6,
          3.686205314144638E-6,
          3.6876458155803856E-6,
          3.6905614012342007E-6,
          3.6949396761586576E-6,
          3.7007663282937523E-6,
          3.7080251770415627E-6,
          3.716698223964658E-6,
          3.72676570536829E-6,
          3.7382061465281578E-6,
          3.750996417328555E-6,
          3.7651117890798223E-6,
          3.7805259922891007E-6,
          3.7972112751645694E-6,
          3.815138462640425E-6,
          3.834277015717924E-6,
          3.85459509092663E-6,
          3.876059599719658E-6,
          3.898636267627168E-6,
          3.922289693003299E-6,
          3.946983405213356E-6,
          3.9726799221203845E-6,
          3.99934080674246E-6,
          4.026926722965422E-6,
          4.055397490208563E-6,
          4.084712136954444E-6,
          4.1148289530674665E-6,
          4.14570554083936E-6,
          4.177298864713326E-6,
          4.209565299651933E-6,
          4.2424606781271595E-6,
          4.275940335723666E-6,
          4.309959155359336E-6,
          4.344471610138979E-6,
          4.37943180486875E-6,
          4.4147935162702665E-6,
          4.450510231943434E-6,
          4.486535188137169E-6,
          4.522821406396071E-6,
          4.559321729159453E-6,
          4.595988854396512E-6,
          4.632775369368175E-6,
          4.669633783611571E-6,
          4.706516561248101E-6,
          4.743376152719514E-6,
          4.780165026059656E-6,
          4.816835697810895E-6,
          4.8533407636952975E-6,
          4.889632929150575E-6,
          4.925665039839297E-6,
          4.961390112238059E-6,
          4.996761364410147E-6,
          5.031732247060993E-6,
          5.066256474971185E-6,
          5.10028805889563E-6,
          5.133781338011263E-6,
          5.1666910129878835E-6,
          5.1989721797491105E-6,
          5.230580363981222E-6,
          5.26147155643864E-6,
          5.291602249084776E-6,
          5.320929472096579E-6,
          5.349410831750429E-6,
          5.377004549195869E-6,
          5.403669500112424E-6,
          5.429365255233112E-6,
          5.454052121706752E-6,
          5.47769118525958E-6,
          5.50024435310493E-6,
          5.5216743975386395E-6,
          5.541945000146369E-6,
          5.561020796538229E-6,
          5.578867421515788E-6,
          5.595451554565916E-6,
          5.610740965567116E-6,
          5.624704560584352E-6,
          5.6373124276203065E-6,
          5.648535882183501E-6,
          5.658347512526507E-6,
          5.666721224401678E-6,
          5.6736322851763365E-6,
          5.679057367145257E-6,
          5.682974589874614E-6,
          5.68536356140919E-6,
          5.686205418173049E-6,
          5.685482863393367E-6,
          5.683180203877497E-6,
          5.679283384974734E-6,
          5.673780023556718E-6,
          5.666659438853747E-6,
          5.657912680988523E-6,
          5.6475325570542406E-6,
          5.63551365459E-6,
          5.621852362313586E-6,
          5.606546887979509E-6,
          5.589597273238929E-6,
          5.571005405387347E-6,
          5.550775025896202E-6,
          5.528911735635079E-6,
          5.505422996702589E-6,
          5.480318130795817E-6,
          5.453608314060394E-6,
          5.425306568375871E-6,
          5.395427749044038E-6,
          5.363988528860966E-6,
          5.331007378566766E-6,
          5.296504543680576E-6,
          5.2605020177416475E-6,
          5.2230235119907465E-6,
          5.184094421539271E-6,
          5.143741788086644E-6,
          5.101994259259249E-6,
          5.05888204465646E-6,
          5.0144368687017364E-6,
          4.968691920407994E-6,
          4.921681800177755E-6,
          4.873442463769114E-6,
          4.824011163568484E-6,
          4.773426387320357E-6,
          4.721727794472902E-6,
          4.668956150306307E-6,
          4.615153258017563E-6,
          4.560361888942082E-6,
          4.504625711097861E-6,
          4.447989216242829E-6,
          4.39049764563976E-6,
          4.332196914726348E-6,
          4.27313353689029E-6,
          4.213354546550483E-6,
          4.152907421746282E-6,
          4.091840006436426E-6,
          4.030200432708102E-6,
          3.968037043095123E-6,
          3.905398313201444E-6,
          3.842332774823002E-6,
          3.778888939757E-6,
          3.715115224483064E-6,
          3.6510598758955166E-6,
          3.5867708982600254E-6,
          3.5222959815618283E-6,
          3.4576824314054783E-6,
          3.3929771006189387E-6,
          3.328226322707072E-6,
          3.263475847291372E-6,
          3.1987707776643126E-6,
          3.134155510578029E-6,
          3.0696736783780304E-6,
          3.005368093583349E-6,
          2.9412806960054663E-6,
          2.877452502488683E-6,
          2.8139235593453073E-6,
          2.7507328975493902E-6,
          2.6879184907434146E-6
         ],
         "yaxis": "y",
         "type": "scatter"
        }
       ],
       "layout": {
        "barmode": "overlay",
        "hovermode": "closest",
        "legend": {
         "traceorder": "reversed"
        },
        "template": {
         "data": {
          "barpolar": [
           {
            "marker": {
             "line": {
              "color": "rgb(17,17,17)",
              "width": 0.5
             },
             "pattern": {
              "fillmode": "overlay",
              "size": 10,
              "solidity": 0.2
             }
            },
            "type": "barpolar"
           }
          ],
          "bar": [
           {
            "error_x": {
             "color": "#f2f5fa"
            },
            "error_y": {
             "color": "#f2f5fa"
            },
            "marker": {
             "line": {
              "color": "rgb(17,17,17)",
              "width": 0.5
             },
             "pattern": {
              "fillmode": "overlay",
              "size": 10,
              "solidity": 0.2
             }
            },
            "type": "bar"
           }
          ],
          "carpet": [
           {
            "aaxis": {
             "endlinecolor": "#A2B1C6",
             "gridcolor": "#506784",
             "linecolor": "#506784",
             "minorgridcolor": "#506784",
             "startlinecolor": "#A2B1C6"
            },
            "baxis": {
             "endlinecolor": "#A2B1C6",
             "gridcolor": "#506784",
             "linecolor": "#506784",
             "minorgridcolor": "#506784",
             "startlinecolor": "#A2B1C6"
            },
            "type": "carpet"
           }
          ],
          "choropleth": [
           {
            "colorbar": {
             "outlinewidth": 0,
             "ticks": ""
            },
            "type": "choropleth"
           }
          ],
          "contourcarpet": [
           {
            "colorbar": {
             "outlinewidth": 0,
             "ticks": ""
            },
            "type": "contourcarpet"
           }
          ],
          "contour": [
           {
            "colorbar": {
             "outlinewidth": 0,
             "ticks": ""
            },
            "colorscale": [
             [
              0.0,
              "#0d0887"
             ],
             [
              0.1111111111111111,
              "#46039f"
             ],
             [
              0.2222222222222222,
              "#7201a8"
             ],
             [
              0.3333333333333333,
              "#9c179e"
             ],
             [
              0.4444444444444444,
              "#bd3786"
             ],
             [
              0.5555555555555556,
              "#d8576b"
             ],
             [
              0.6666666666666666,
              "#ed7953"
             ],
             [
              0.7777777777777778,
              "#fb9f3a"
             ],
             [
              0.8888888888888888,
              "#fdca26"
             ],
             [
              1.0,
              "#f0f921"
             ]
            ],
            "type": "contour"
           }
          ],
          "heatmapgl": [
           {
            "colorbar": {
             "outlinewidth": 0,
             "ticks": ""
            },
            "colorscale": [
             [
              0.0,
              "#0d0887"
             ],
             [
              0.1111111111111111,
              "#46039f"
             ],
             [
              0.2222222222222222,
              "#7201a8"
             ],
             [
              0.3333333333333333,
              "#9c179e"
             ],
             [
              0.4444444444444444,
              "#bd3786"
             ],
             [
              0.5555555555555556,
              "#d8576b"
             ],
             [
              0.6666666666666666,
              "#ed7953"
             ],
             [
              0.7777777777777778,
              "#fb9f3a"
             ],
             [
              0.8888888888888888,
              "#fdca26"
             ],
             [
              1.0,
              "#f0f921"
             ]
            ],
            "type": "heatmapgl"
           }
          ],
          "heatmap": [
           {
            "colorbar": {
             "outlinewidth": 0,
             "ticks": ""
            },
            "colorscale": [
             [
              0.0,
              "#0d0887"
             ],
             [
              0.1111111111111111,
              "#46039f"
             ],
             [
              0.2222222222222222,
              "#7201a8"
             ],
             [
              0.3333333333333333,
              "#9c179e"
             ],
             [
              0.4444444444444444,
              "#bd3786"
             ],
             [
              0.5555555555555556,
              "#d8576b"
             ],
             [
              0.6666666666666666,
              "#ed7953"
             ],
             [
              0.7777777777777778,
              "#fb9f3a"
             ],
             [
              0.8888888888888888,
              "#fdca26"
             ],
             [
              1.0,
              "#f0f921"
             ]
            ],
            "type": "heatmap"
           }
          ],
          "histogram2dcontour": [
           {
            "colorbar": {
             "outlinewidth": 0,
             "ticks": ""
            },
            "colorscale": [
             [
              0.0,
              "#0d0887"
             ],
             [
              0.1111111111111111,
              "#46039f"
             ],
             [
              0.2222222222222222,
              "#7201a8"
             ],
             [
              0.3333333333333333,
              "#9c179e"
             ],
             [
              0.4444444444444444,
              "#bd3786"
             ],
             [
              0.5555555555555556,
              "#d8576b"
             ],
             [
              0.6666666666666666,
              "#ed7953"
             ],
             [
              0.7777777777777778,
              "#fb9f3a"
             ],
             [
              0.8888888888888888,
              "#fdca26"
             ],
             [
              1.0,
              "#f0f921"
             ]
            ],
            "type": "histogram2dcontour"
           }
          ],
          "histogram2d": [
           {
            "colorbar": {
             "outlinewidth": 0,
             "ticks": ""
            },
            "colorscale": [
             [
              0.0,
              "#0d0887"
             ],
             [
              0.1111111111111111,
              "#46039f"
             ],
             [
              0.2222222222222222,
              "#7201a8"
             ],
             [
              0.3333333333333333,
              "#9c179e"
             ],
             [
              0.4444444444444444,
              "#bd3786"
             ],
             [
              0.5555555555555556,
              "#d8576b"
             ],
             [
              0.6666666666666666,
              "#ed7953"
             ],
             [
              0.7777777777777778,
              "#fb9f3a"
             ],
             [
              0.8888888888888888,
              "#fdca26"
             ],
             [
              1.0,
              "#f0f921"
             ]
            ],
            "type": "histogram2d"
           }
          ],
          "histogram": [
           {
            "marker": {
             "pattern": {
              "fillmode": "overlay",
              "size": 10,
              "solidity": 0.2
             }
            },
            "type": "histogram"
           }
          ],
          "mesh3d": [
           {
            "colorbar": {
             "outlinewidth": 0,
             "ticks": ""
            },
            "type": "mesh3d"
           }
          ],
          "parcoords": [
           {
            "line": {
             "colorbar": {
              "outlinewidth": 0,
              "ticks": ""
             }
            },
            "type": "parcoords"
           }
          ],
          "pie": [
           {
            "automargin": true,
            "type": "pie"
           }
          ],
          "scatter3d": [
           {
            "line": {
             "colorbar": {
              "outlinewidth": 0,
              "ticks": ""
             }
            },
            "marker": {
             "colorbar": {
              "outlinewidth": 0,
              "ticks": ""
             }
            },
            "type": "scatter3d"
           }
          ],
          "scattercarpet": [
           {
            "marker": {
             "colorbar": {
              "outlinewidth": 0,
              "ticks": ""
             }
            },
            "type": "scattercarpet"
           }
          ],
          "scattergeo": [
           {
            "marker": {
             "colorbar": {
              "outlinewidth": 0,
              "ticks": ""
             }
            },
            "type": "scattergeo"
           }
          ],
          "scattergl": [
           {
            "marker": {
             "line": {
              "color": "#283442"
             }
            },
            "type": "scattergl"
           }
          ],
          "scattermapbox": [
           {
            "marker": {
             "colorbar": {
              "outlinewidth": 0,
              "ticks": ""
             }
            },
            "type": "scattermapbox"
           }
          ],
          "scatterpolargl": [
           {
            "marker": {
             "colorbar": {
              "outlinewidth": 0,
              "ticks": ""
             }
            },
            "type": "scatterpolargl"
           }
          ],
          "scatterpolar": [
           {
            "marker": {
             "colorbar": {
              "outlinewidth": 0,
              "ticks": ""
             }
            },
            "type": "scatterpolar"
           }
          ],
          "scatter": [
           {
            "marker": {
             "line": {
              "color": "#283442"
             }
            },
            "type": "scatter"
           }
          ],
          "scatterternary": [
           {
            "marker": {
             "colorbar": {
              "outlinewidth": 0,
              "ticks": ""
             }
            },
            "type": "scatterternary"
           }
          ],
          "surface": [
           {
            "colorbar": {
             "outlinewidth": 0,
             "ticks": ""
            },
            "colorscale": [
             [
              0.0,
              "#0d0887"
             ],
             [
              0.1111111111111111,
              "#46039f"
             ],
             [
              0.2222222222222222,
              "#7201a8"
             ],
             [
              0.3333333333333333,
              "#9c179e"
             ],
             [
              0.4444444444444444,
              "#bd3786"
             ],
             [
              0.5555555555555556,
              "#d8576b"
             ],
             [
              0.6666666666666666,
              "#ed7953"
             ],
             [
              0.7777777777777778,
              "#fb9f3a"
             ],
             [
              0.8888888888888888,
              "#fdca26"
             ],
             [
              1.0,
              "#f0f921"
             ]
            ],
            "type": "surface"
           }
          ],
          "table": [
           {
            "cells": {
             "fill": {
              "color": "#506784"
             },
             "line": {
              "color": "rgb(17,17,17)"
             }
            },
            "header": {
             "fill": {
              "color": "#2a3f5f"
             },
             "line": {
              "color": "rgb(17,17,17)"
             }
            },
            "type": "table"
           }
          ]
         },
         "layout": {
          "annotationdefaults": {
           "arrowcolor": "#f2f5fa",
           "arrowhead": 0,
           "arrowwidth": 1
          },
          "autotypenumbers": "strict",
          "coloraxis": {
           "colorbar": {
            "outlinewidth": 0,
            "ticks": ""
           }
          },
          "colorscale": {
           "diverging": [
            [
             0,
             "#8e0152"
            ],
            [
             0.1,
             "#c51b7d"
            ],
            [
             0.2,
             "#de77ae"
            ],
            [
             0.3,
             "#f1b6da"
            ],
            [
             0.4,
             "#fde0ef"
            ],
            [
             0.5,
             "#f7f7f7"
            ],
            [
             0.6,
             "#e6f5d0"
            ],
            [
             0.7,
             "#b8e186"
            ],
            [
             0.8,
             "#7fbc41"
            ],
            [
             0.9,
             "#4d9221"
            ],
            [
             1,
             "#276419"
            ]
           ],
           "sequential": [
            [
             0.0,
             "#0d0887"
            ],
            [
             0.1111111111111111,
             "#46039f"
            ],
            [
             0.2222222222222222,
             "#7201a8"
            ],
            [
             0.3333333333333333,
             "#9c179e"
            ],
            [
             0.4444444444444444,
             "#bd3786"
            ],
            [
             0.5555555555555556,
             "#d8576b"
            ],
            [
             0.6666666666666666,
             "#ed7953"
            ],
            [
             0.7777777777777778,
             "#fb9f3a"
            ],
            [
             0.8888888888888888,
             "#fdca26"
            ],
            [
             1.0,
             "#f0f921"
            ]
           ],
           "sequentialminus": [
            [
             0.0,
             "#0d0887"
            ],
            [
             0.1111111111111111,
             "#46039f"
            ],
            [
             0.2222222222222222,
             "#7201a8"
            ],
            [
             0.3333333333333333,
             "#9c179e"
            ],
            [
             0.4444444444444444,
             "#bd3786"
            ],
            [
             0.5555555555555556,
             "#d8576b"
            ],
            [
             0.6666666666666666,
             "#ed7953"
            ],
            [
             0.7777777777777778,
             "#fb9f3a"
            ],
            [
             0.8888888888888888,
             "#fdca26"
            ],
            [
             1.0,
             "#f0f921"
            ]
           ]
          },
          "colorway": [
           "#636efa",
           "#EF553B",
           "#00cc96",
           "#ab63fa",
           "#FFA15A",
           "#19d3f3",
           "#FF6692",
           "#B6E880",
           "#FF97FF",
           "#FECB52"
          ],
          "font": {
           "color": "#f2f5fa"
          },
          "geo": {
           "bgcolor": "rgb(17,17,17)",
           "lakecolor": "rgb(17,17,17)",
           "landcolor": "rgb(17,17,17)",
           "showlakes": true,
           "showland": true,
           "subunitcolor": "#506784"
          },
          "hoverlabel": {
           "align": "left"
          },
          "hovermode": "closest",
          "mapbox": {
           "style": "dark"
          },
          "paper_bgcolor": "rgb(17,17,17)",
          "plot_bgcolor": "rgb(17,17,17)",
          "polar": {
           "angularaxis": {
            "gridcolor": "#506784",
            "linecolor": "#506784",
            "ticks": ""
           },
           "bgcolor": "rgb(17,17,17)",
           "radialaxis": {
            "gridcolor": "#506784",
            "linecolor": "#506784",
            "ticks": ""
           }
          },
          "scene": {
           "xaxis": {
            "backgroundcolor": "rgb(17,17,17)",
            "gridcolor": "#506784",
            "gridwidth": 2,
            "linecolor": "#506784",
            "showbackground": true,
            "ticks": "",
            "zerolinecolor": "#C8D4E3"
           },
           "yaxis": {
            "backgroundcolor": "rgb(17,17,17)",
            "gridcolor": "#506784",
            "gridwidth": 2,
            "linecolor": "#506784",
            "showbackground": true,
            "ticks": "",
            "zerolinecolor": "#C8D4E3"
           },
           "zaxis": {
            "backgroundcolor": "rgb(17,17,17)",
            "gridcolor": "#506784",
            "gridwidth": 2,
            "linecolor": "#506784",
            "showbackground": true,
            "ticks": "",
            "zerolinecolor": "#C8D4E3"
           }
          },
          "shapedefaults": {
           "line": {
            "color": "#f2f5fa"
           }
          },
          "sliderdefaults": {
           "bgcolor": "#C8D4E3",
           "bordercolor": "rgb(17,17,17)",
           "borderwidth": 1,
           "tickwidth": 0
          },
          "ternary": {
           "aaxis": {
            "gridcolor": "#506784",
            "linecolor": "#506784",
            "ticks": ""
           },
           "baxis": {
            "gridcolor": "#506784",
            "linecolor": "#506784",
            "ticks": ""
           },
           "bgcolor": "rgb(17,17,17)",
           "caxis": {
            "gridcolor": "#506784",
            "linecolor": "#506784",
            "ticks": ""
           }
          },
          "title": {
           "x": 0.05
          },
          "updatemenudefaults": {
           "bgcolor": "#506784",
           "borderwidth": 0
          },
          "xaxis": {
           "automargin": true,
           "gridcolor": "#283442",
           "linecolor": "#506784",
           "ticks": "",
           "title": {
            "standoff": 15
           },
           "zerolinecolor": "#283442",
           "zerolinewidth": 2
          },
          "yaxis": {
           "automargin": true,
           "gridcolor": "#283442",
           "linecolor": "#506784",
           "ticks": "",
           "title": {
            "standoff": 15
           },
           "zerolinecolor": "#283442",
           "zerolinewidth": 2
          }
         }
        },
        "title": {
         "text": "Credit Card Transactions Time Density Plot"
        },
        "xaxis": {
         "anchor": "y2",
         "domain": [
          0.0,
          1.0
         ],
         "title": {
          "text": "Time [s]"
         },
         "zeroline": false
        },
        "yaxis": {
         "anchor": "free",
         "domain": [
          0.0,
          1
         ],
         "position": 0.0
        }
       },
       "config": {
        "showLink": false,
        "linkText": "Export to plot.ly",
        "plotlyServerURL": "https://plot.ly"
       }
      },
      "text/html": [
       "<div>                            <div id=\"98993daa-99b2-4190-b5d1-41ec1155ef05\" class=\"plotly-graph-div\" style=\"height:525px; width:100%;\"></div>            <script type=\"text/javascript\">                require([\"plotly\"], function(Plotly) {                    window.PLOTLYENV=window.PLOTLYENV || {};                                    if (document.getElementById(\"98993daa-99b2-4190-b5d1-41ec1155ef05\")) {                    Plotly.newPlot(                        \"98993daa-99b2-4190-b5d1-41ec1155ef05\",                        [{\"legendgroup\":\"Not Fraud\",\"marker\":{\"color\":\"rgb(31, 119, 180)\"},\"mode\":\"lines\",\"name\":\"Not Fraud\",\"showlegend\":true,\"x\":[0.0,345.584,691.168,1036.752,1382.336,1727.92,2073.504,2419.088,2764.672,3110.256,3455.84,3801.424,4147.008,4492.592,4838.176,5183.76,5529.344,5874.928,6220.512,6566.096,6911.68,7257.264,7602.848,7948.432,8294.016,8639.6,8985.184,9330.768,9676.352,10021.936,10367.52,10713.104,11058.688,11404.272,11749.856,12095.44,12441.024,12786.608,13132.192,13477.776,13823.36,14168.944,14514.528,14860.112,15205.696,15551.28,15896.864,16242.448,16588.032,16933.616,17279.2,17624.784,17970.368,18315.952,18661.536,19007.12,19352.704,19698.288,20043.872,20389.456,20735.04,21080.624,21426.208,21771.792,22117.376,22462.96,22808.544,23154.128,23499.712,23845.296,24190.88,24536.464,24882.048,25227.632,25573.216,25918.8,26264.384,26609.968,26955.552,27301.136,27646.72,27992.304,28337.888,28683.472,29029.056,29374.64,29720.224,30065.808,30411.392,30756.976,31102.56,31448.144,31793.728,32139.312,32484.896,32830.48,33176.064,33521.648,33867.232,34212.816,34558.4,34903.984,35249.568,35595.152,35940.736,36286.32,36631.904,36977.488,37323.072,37668.656,38014.24,38359.824,38705.408,39050.992,39396.576,39742.16,40087.744,40433.328,40778.912,41124.496,41470.08,41815.664,42161.248,42506.832,42852.416,43198.0,43543.584,43889.168,44234.752,44580.336,44925.92,45271.504,45617.088,45962.672,46308.256,46653.84,46999.424,47345.008,47690.592,48036.176,48381.76,48727.344,49072.928,49418.512,49764.096,50109.68,50455.264,50800.848,51146.432,51492.016,51837.6,52183.184,52528.768,52874.352,53219.936,53565.52,53911.104,54256.688,54602.272,54947.856,55293.44,55639.024,55984.608,56330.192,56675.776,57021.36,57366.944,57712.528,58058.112,58403.696,58749.28,59094.864,59440.448,59786.032,60131.616,60477.2,60822.784,61168.368,61513.952,61859.536,62205.12,62550.704,62896.288,63241.872,63587.456,63933.04,64278.624,64624.208,64969.792,65315.376,65660.96,66006.544,66352.128,66697.712,67043.296,67388.88,67734.464,68080.048,68425.632,68771.216,69116.8,69462.384,69807.968,70153.552,70499.136,70844.72,71190.304,71535.888,71881.472,72227.056,72572.64,72918.224,73263.808,73609.392,73954.976,74300.56,74646.144,74991.728,75337.312,75682.896,76028.48,76374.064,76719.648,77065.232,77410.816,77756.4,78101.984,78447.568,78793.152,79138.736,79484.32,79829.904,80175.488,80521.072,80866.656,81212.24,81557.824,81903.408,82248.992,82594.576,82940.16,83285.744,83631.328,83976.912,84322.496,84668.08,85013.664,85359.248,85704.832,86050.416,86396.0,86741.584,87087.168,87432.752,87778.336,88123.92,88469.504,88815.088,89160.672,89506.256,89851.84,90197.424,90543.008,90888.592,91234.176,91579.76,91925.344,92270.928,92616.512,92962.096,93307.68,93653.264,93998.848,94344.432,94690.016,95035.6,95381.184,95726.768,96072.352,96417.936,96763.52,97109.104,97454.688,97800.272,98145.856,98491.44,98837.024,99182.608,99528.192,99873.776,100219.36,100564.944,100910.528,101256.112,101601.696,101947.28,102292.864,102638.448,102984.032,103329.616,103675.2,104020.784,104366.368,104711.952,105057.536,105403.12,105748.704,106094.288,106439.872,106785.456,107131.04,107476.624,107822.208,108167.792,108513.376,108858.96,109204.544,109550.128,109895.712,110241.296,110586.88,110932.464,111278.048,111623.632,111969.216,112314.8,112660.384,113005.968,113351.552,113697.136,114042.72,114388.304,114733.888,115079.472,115425.056,115770.64,116116.224,116461.808,116807.392,117152.976,117498.56,117844.144,118189.728,118535.312,118880.896,119226.48,119572.064,119917.648,120263.232,120608.816,120954.4,121299.984,121645.568,121991.152,122336.736,122682.32,123027.904,123373.488,123719.072,124064.656,124410.24,124755.824,125101.408,125446.992,125792.576,126138.16,126483.744,126829.328,127174.912,127520.496,127866.08,128211.664,128557.248,128902.832,129248.416,129594.0,129939.584,130285.168,130630.752,130976.336,131321.92,131667.504,132013.088,132358.672,132704.256,133049.84,133395.424,133741.008,134086.592,134432.176,134777.76,135123.344,135468.928,135814.512,136160.096,136505.68,136851.264,137196.848,137542.432,137888.016,138233.6,138579.184,138924.768,139270.352,139615.936,139961.52,140307.104,140652.688,140998.272,141343.856,141689.44,142035.024,142380.608,142726.192,143071.776,143417.36,143762.944,144108.528,144454.112,144799.696,145145.28,145490.864,145836.448,146182.032,146527.616,146873.2,147218.784,147564.368,147909.952,148255.536,148601.12,148946.704,149292.288,149637.872,149983.456,150329.04,150674.624,151020.208,151365.792,151711.376,152056.96,152402.544,152748.128,153093.712,153439.296,153784.88,154130.464,154476.048,154821.632,155167.216,155512.8,155858.384,156203.968,156549.552,156895.136,157240.72,157586.304,157931.888,158277.472,158623.056,158968.64,159314.224,159659.808,160005.392,160350.976,160696.56,161042.144,161387.728,161733.312,162078.896,162424.48,162770.064,163115.648,163461.232,163806.816,164152.4,164497.984,164843.568,165189.152,165534.736,165880.32,166225.904,166571.488,166917.072,167262.656,167608.24,167953.824,168299.408,168644.992,168990.576,169336.16,169681.744,170027.328,170372.912,170718.496,171064.08,171409.664,171755.248,172100.832,172446.416],\"xaxis\":\"x\",\"y\":[1.697347456086226e-06,1.7892406860838056e-06,1.8751066622895047e-06,1.9539240211315817e-06,2.0248147874841933e-06,2.0870700001728196e-06,2.1401693523158404e-06,2.1837939471416954e-06,2.2178316034665912e-06,2.242374511761339e-06,2.2577094196194055e-06,2.2643008918188014e-06,2.2627685234050986e-06,2.2538592651662705e-06,2.2384162340774593e-06,2.217345515980265e-06,2.1915825183281395e-06,2.162059397021127e-06,2.1296749680386738e-06,2.095268331193404e-06,2.05959719303171e-06,2.023321594571911e-06,1.9869934446533323e-06,1.9510519490665072e-06,1.9158247265701045e-06,1.8815341310018962e-06,1.8483080671292573e-06,1.8161944068400577e-06,1.785177988507893e-06,1.7551991191213409e-06,1.7261724957825178e-06,1.6980055169883936e-06,1.6706150584078137e-06,1.6439419340972001e-06,1.6179624420037476e-06,1.5926965909610441e-06,1.5682128135695855e-06,1.544629174058958e-06,1.5221112719306263e-06,1.5008672116659285e-06,1.481140148483666e-06,1.46319902439773e-06,1.447328174052436e-06,1.433816504534355e-06,1.422946938147587e-06,1.4149867545429196e-06,1.410179382909212e-06,1.408738081981337e-06,1.4108418124353673e-06,1.416633460726771e-06,1.4262204239961602e-06,1.4396774207779606e-06,1.4570512600447994e-06,1.478367188917408e-06,1.5036363533035317e-06,1.532863850340599e-06,1.566056829463784e-06,1.6032321108015968e-06,1.6444228338374854e-06,1.6896837222361368e-06,1.739094646910136e-06,1.7927622818094237e-06,1.8508197675565135e-06,1.913424418521531e-06,1.980753621024302e-06,2.052999166716722e-06,2.130360339872763e-06,2.213036126211028e-06,2.3012169320790766e-06,2.395076196709398e-06,2.4947622494234817e-06,2.6003907126324243e-06,2.712037686308532e-06,2.8297338772311614e-06,2.9534597639182697e-06,3.083141822512351e-06,3.2186497856324444e-06,3.359794869388642e-06,3.5063288854050637e-06,3.657944154693155e-06,3.8142741563072327e-06,3.97489487181751e-06,4.139326821281706e-06,4.307037821357342e-06,4.477446525210012e-06,4.649926821293155e-06,4.823813169618387e-06,4.998406937320513e-06,5.172983759820729e-06,5.346801901645483e-06,5.5191115259867515e-06,5.689164710128658e-06,5.856225971804274e-06,6.019583006720395e-06,6.178557286896822e-06,6.33251413909087e-06,6.480871916741137e-06,6.623109899729855e-06,6.758774603685426e-06,6.8874842519837105e-06,7.008931254393314e-06,7.122882640061902e-06,7.229178501787336e-06,7.327728615221862e-06,7.418507493160355e-06,7.501548214399436e-06,7.576935423367104e-06,7.64479792710563e-06,7.705301318490012e-06,7.758641029150601e-06,7.805036164694744e-06,7.844724402420202e-06,7.877958143023881e-06,7.905002009088228e-06,7.926131680880564e-06,7.94163396095993e-06,7.951807869479588e-06,7.95696649738327e-06,7.957439289376487e-06,7.95357439583249e-06,7.945740724359432e-06,7.93432933796e-06,7.919753886306895e-06,7.90244981707093e-06,7.88287219158645e-06,7.861492018651871e-06,7.83879111631714e-06,7.815255608175426e-06,7.791368252068972e-06,7.767599879605554e-06,7.744400289671187e-06,7.722188984437173e-06,7.701346159669049e-06,7.682204361436706e-06,7.665041198951465e-06,7.65007346006783e-06,7.637452914970817e-06,7.627264018689671e-06,7.619523638961723e-06,7.61418284739335e-06,7.611130723686314e-06,7.610200039221739e-06,7.611174611300591e-06,7.613798055773268e-06,7.617783615693654e-06,7.6228247082879535e-06,7.62860581233097e-06,7.634813312831111e-06,7.641145929061619e-06,7.647324374415867e-06,7.65309993110634e-06,7.658261667941963e-06,7.662642083793558e-06,7.666121021265789e-06,7.668627762522012e-06,7.670141290160318e-06,7.670688767914203e-06,7.670342366006724e-06,7.669214621200134e-06,7.667452578692807e-06,7.665231008939398e-06,7.662745024280962e-06,7.660202435730384e-06,7.657816187892279e-06,7.655797189368887e-06,7.654347818073842e-06,7.65365632767946e-06,7.653892316465032e-06,7.655203347519245e-06,7.657712734803747e-06,7.66151843861622e-06,7.666692951868367e-06,7.673284010222378e-06,7.681315928223042e-06,7.690791352390222e-06,7.701693231398637e-06,7.713986831543372e-06,7.727621669694344e-06,7.742533291007228e-06,7.758644879036125e-06,7.775868744871467e-06,7.794107793011539e-06,7.813257098720034e-06,7.833205749804441e-06,7.853839101993095e-06,7.875041570289478e-06,7.896700030201666e-06,7.91870783609131e-06,7.940969384640015e-06,7.963405066766165e-06,7.98595636928918e-06,8.008590816494447e-06,8.031306389214006e-06,8.054135031363684e-06,8.077144855419422e-06,8.100440690962875e-06,8.12416268335992e-06,8.148482739462418e-06,8.173598728157823e-06,8.199726468138793e-06,8.227089664610314e-06,8.255908081986769e-06,8.28638435222761e-06,8.318689911131436e-06,8.352950622010562e-06,8.389232684289143e-06,8.427529432517221e-06,8.467749609997747e-06,8.5097076534679e-06,8.553116455128343e-06,8.59758298070585e-06,8.642607022227291e-06,8.687583256706541e-06,8.731806671225067e-06,8.774481304367468e-06,8.814732146393526e-06,8.851619937765269e-06,8.884158509418363e-06,8.911334219899884e-06,8.932126965959673e-06,8.945532176540064e-06,8.95058314809604e-06,8.946373044910814e-06,8.932075875017873e-06,8.906965763680835e-06,8.870433884729148e-06,8.822002476833969e-06,8.761335466860958e-06,8.688245343573295e-06,8.602696067955016e-06,8.504801964908307e-06,8.394822707027359e-06,8.273154665238242e-06,8.140319053533444e-06,7.996947426325067e-06,7.843765188647893e-06,7.681573845069685e-06,7.511232738581267e-06,7.33364101471729e-06,7.149720490327954e-06,6.960400015284128e-06,6.76660179574194e-06,6.5692300080250655e-06,6.369161882344767e-06,6.167241285296679e-06,5.964274688715284e-06,5.7610292881530164e-06,5.558232933420785e-06,5.3565754606671604e-06,5.156710972657441e-06,4.959260601368877e-06,4.764815303057657e-06,4.5739382773489956e-06,4.3871666642909316e-06,4.205012251683968e-06,4.027961014003517e-06,3.856471398599545e-06,3.6909713696184227e-06,3.5318543107640014e-06,3.3794739707040134e-06,3.2341387063642493e-06,3.09610533689418e-06,2.965572962654928e-06,2.842677127687104e-06,2.727484709805115e-06,2.619989909357818e-06,2.520111676015091e-06,2.427692863569815e-06,2.342501337296398e-06,2.264233179246592e-06,2.192518047148749e-06,2.1269266461765223e-06,2.0669801742745345e-06,2.012161505894253e-06,1.9619277910244224e-06,1.9157240712834857e-06,1.8729974570884043e-06,1.8332113732540546e-06,1.7958593673801985e-06,1.7604779872841177e-06,1.7266582702356212e-06,1.694055445992837e-06,1.6623965343016347e-06,1.6314856110536923e-06,1.6012066201757071e-06,1.5715237145407142e-06,1.5424792126083194e-06,1.5141893523611344e-06,1.4868381053923456e-06,1.4606693777951228e-06,1.4359779681991328e-06,1.4130996757281782e-06,1.3924009520549702e-06,1.3742684736943764e-06,1.3590989758662608e-06,1.3472896412160876e-06,1.3392292794638088e-06,1.3352904719533155e-06,1.335822792319559e-06,1.341147154951964e-06,1.3515512899463576e-06,1.36728629939042e-06,1.3885642169032805e-06,1.4155564712147415e-06,1.4483931452166274e-06,1.4871629234741587e-06,1.531913632014335e-06,1.5826532920302118e-06,1.6393516311859596e-06,1.7019420194297466e-06,1.770323817488097e-06,1.8443651425656395e-06,1.9239060646457227e-06,2.0087622462564445e-06,2.098729027519551e-06,2.1935859366460467e-06,2.2931015747103575e-06,2.3970387845923e-06,2.5051599704428945e-06,2.6172323897750845e-06,2.7330331997486774e-06,2.8523540070366512e-06,2.9750046513343243e-06,3.1008159500099968e-06,3.229641148489611e-06,3.361355859316422e-06,3.49585633235638e-06,3.6330559775247643e-06,3.77288015605973e-06,3.915259361504394e-06,4.0601210205601614e-06,4.20738024928744e-06,4.356929993860334e-06,4.508631059529288e-06,4.662302579861018e-06,4.817713495387055e-06,4.97457559321582e-06,5.132538606064657e-06,5.291187782149383e-06,5.4500442207274745e-06,5.608568128319679e-06,5.7661649962831695e-06,5.922194541198147e-06,6.075982095987878e-06,6.226832001933775e-06,6.374042439169836e-06,6.516921053370932e-06,6.6548006945818544e-06,6.787054583109831e-06,6.913110256888775e-06,7.032461731690977e-06,7.144679414247741e-06,7.249417441023877e-06,7.3464182626032205e-06,7.435514445358026e-06,7.516627808025062e-06,7.589766141684623e-06,7.655017869381519e-06,7.712545080304945e-06,7.76257541936528e-06,7.805393325111688e-06,7.841331088565962e-06,7.870760156336691e-06,7.894083028920017e-06,7.911726016105932e-06,7.924133013618895e-06,7.931760366075156e-06,7.935072788425494e-06,7.934540237282671e-06,7.930635559896009e-06,7.923832705051017e-06,7.914605258270494e-06,7.903425063041482e-06,7.890760708466107e-06,7.877075698645939e-06,7.862826166202862e-06,7.848458047158569e-06,7.834403692290484e-06,7.821077946804908e-06,7.808873781945643e-06,7.798157606035696e-06,7.789264416363833e-06,7.782492976151726e-06,7.77810121225941e-06,7.776302029754061e-06,7.777259729962855e-06,7.781087200522531e-06,7.787844020759934e-06,7.797535595084253e-06,7.810113392411539e-06,7.825476332418608e-06,7.843473320742812e-06,7.86390689633336e-06,7.88653791592843e-06,7.911091164212854e-06,7.93726174456668e-06,7.964722075703524e-06,7.993129295076801e-06,8.022132851958381e-06,8.051382062851659e-06,8.080533400309721e-06,8.10925729415988e-06,8.137244241794065e-06,8.164210051465264e-06,8.189900078482423e-06,8.214092357438593e-06,8.236599582026864e-06,8.257269934935509e-06,8.275986820935606e-06,8.292667603341434e-06,8.307261484600059e-06,8.319746703096486e-06,8.330127238270177e-06,8.338429223485027e-06,8.344697260356942e-06,8.348990810121105e-06,8.351380808722834e-06,8.351946615214956e-06,8.350773361117179e-06,8.347949725304532e-06,8.343566118802322e-06,8.337713230093595e-06,8.330480857437749e-06,8.321956942328969e-06,8.312226718654158e-06,8.301371904984082e-06,8.28946989113086e-06,8.276592901670643e-06,8.262807154751018e-06,8.24817206964307e-06,8.232739606528501e-06,8.216553842656714e-06,8.199650896786162e-06,8.18205930653018e-06,8.163800940243854e-06,8.14489248744238e-06,8.125347522248057e-06,8.10517907716839e-06,8.084402605008577e-06,8.063039150737193e-06,8.041118508591435e-06,8.018682107831933e-06,7.995785357477929e-06,7.972499188554663e-06,7.948910562417719e-06,7.92512176427102e-06,7.90124836881024e-06,7.877415845168722e-06,7.853754855151372e-06,7.830395385603204e-06,7.807459936140123e-06,7.785056051576906e-06,7.76326853923214e-06,7.742151741544881e-06,7.721722242233108e-06,7.701952369437012e-06,7.682764823383586e-06,7.664028701862044e-06,7.645557128088684e-06,7.627106606879589e-06,7.608378151350866e-06,7.589020138440517e-06,7.5686327720261705e-06,7.546773961324201e-06,7.522966363070486e-06,7.4967052913752334e-06,7.467467171099337e-06,7.434718200257147e-06,7.397922894775452e-06,7.356552214556368e-06,7.31009101210078e-06,7.258044602058914e-06,7.199944319248215e-06,7.135352010448104e-06,7.063863487342652e-06,6.985111049446798e-06,6.898765261309e-06,6.804536232139017e-06,6.702174692783636e-06,6.591473189773025e-06,6.4722677150522574e-06,6.3444400605795025e-06,6.207921128630467e-06,6.062695343022793e-06,5.908806197528005e-06,5.746362851759736e-06,5.5755475501749955e-06,5.396623506475834e-06,5.209942774562255e-06,5.015953529263215e-06,4.815206115540978e-06,4.608357202072425e-06,4.396171399757077e-06,4.17951978005933e-06,3.959374850598455e-06,3.736801710492047e-06,3.512945306302105e-06,3.2890139285170335e-06,3.066259313514767e-06,2.84595393096583e-06],\"yaxis\":\"y\",\"type\":\"scatter\"},{\"legendgroup\":\"Fraud\",\"marker\":{\"color\":\"rgb(255, 127, 14)\"},\"mode\":\"lines\",\"name\":\"Fraud\",\"showlegend\":true,\"x\":[406.0,745.884,1085.768,1425.652,1765.536,2105.42,2445.304,2785.188,3125.072,3464.956,3804.84,4144.724,4484.608,4824.492,5164.376,5504.26,5844.144,6184.028,6523.912,6863.796,7203.68,7543.564,7883.448,8223.332,8563.216,8903.1,9242.984,9582.868,9922.752,10262.636,10602.52,10942.404,11282.288,11622.172,11962.056,12301.94,12641.824,12981.708,13321.592,13661.476,14001.36,14341.244,14681.128,15021.012,15360.896,15700.78,16040.664,16380.548,16720.432,17060.316,17400.2,17740.084,18079.968,18419.852,18759.736,19099.62,19439.504,19779.388,20119.272,20459.156,20799.04,21138.924,21478.808,21818.692,22158.576,22498.46,22838.344,23178.228,23518.112,23857.996,24197.88,24537.764,24877.648,25217.532,25557.416,25897.3,26237.184,26577.068,26916.952,27256.836,27596.72,27936.604,28276.488,28616.372,28956.256,29296.14,29636.024,29975.908,30315.792,30655.676,30995.56,31335.444,31675.328,32015.212,32355.096,32694.98,33034.864,33374.748,33714.632,34054.516,34394.4,34734.284,35074.168,35414.052,35753.936,36093.82,36433.704,36773.588,37113.472,37453.356,37793.24,38133.124,38473.008,38812.892,39152.776,39492.66,39832.544,40172.428,40512.312,40852.196,41192.08,41531.964,41871.848,42211.732,42551.616,42891.5,43231.384,43571.268,43911.152,44251.036,44590.92,44930.804,45270.688,45610.572,45950.456,46290.34,46630.224,46970.108,47309.992,47649.876,47989.76,48329.644,48669.528,49009.412,49349.296,49689.18,50029.064,50368.948,50708.832,51048.716,51388.6,51728.484,52068.368,52408.252,52748.136,53088.02,53427.904,53767.788,54107.672,54447.556,54787.44,55127.324,55467.208,55807.092,56146.976,56486.86,56826.744,57166.628,57506.512,57846.396,58186.28,58526.164,58866.048,59205.932,59545.816,59885.7,60225.584,60565.468,60905.352,61245.236,61585.12,61925.004,62264.888,62604.772,62944.656,63284.54,63624.424,63964.308,64304.192,64644.076,64983.96,65323.844,65663.728,66003.612,66343.496,66683.38,67023.264,67363.148,67703.032,68042.916,68382.8,68722.684,69062.568,69402.452,69742.336,70082.22,70422.104,70761.988,71101.872,71441.756,71781.64,72121.524,72461.408,72801.292,73141.176,73481.06,73820.944,74160.828,74500.712,74840.596,75180.48,75520.364,75860.248,76200.132,76540.016,76879.9,77219.784,77559.668,77899.552,78239.436,78579.32,78919.204,79259.088,79598.972,79938.856,80278.74,80618.624,80958.508,81298.392,81638.276,81978.16,82318.044,82657.928,82997.812,83337.696,83677.58,84017.464,84357.348,84697.232,85037.116,85377.0,85716.884,86056.768,86396.652,86736.536,87076.42,87416.304,87756.188,88096.072,88435.956,88775.84,89115.724,89455.608,89795.492,90135.376,90475.26,90815.144,91155.028,91494.912,91834.796,92174.68,92514.564,92854.448,93194.332,93534.216,93874.1,94213.984,94553.868,94893.752,95233.636,95573.52,95913.404,96253.288,96593.172,96933.056,97272.94,97612.824,97952.708,98292.592,98632.476,98972.36,99312.244,99652.128,99992.012,100331.896,100671.78,101011.664,101351.548,101691.432,102031.316,102371.2,102711.084,103050.968,103390.852,103730.736,104070.62,104410.504,104750.388,105090.272,105430.156,105770.04,106109.924,106449.808,106789.692,107129.576,107469.46,107809.344,108149.228,108489.112,108828.996,109168.88,109508.764,109848.648,110188.532,110528.416,110868.3,111208.184,111548.068,111887.952,112227.836,112567.72,112907.604,113247.488,113587.372,113927.256,114267.14,114607.024,114946.908,115286.792,115626.676,115966.56,116306.444,116646.328,116986.212,117326.096,117665.98,118005.864,118345.748,118685.632,119025.516,119365.4,119705.284,120045.168,120385.052,120724.936,121064.82,121404.704,121744.588,122084.472,122424.356,122764.24,123104.124,123444.008,123783.892,124123.776,124463.66,124803.544,125143.428,125483.312,125823.196,126163.08,126502.964,126842.848,127182.732,127522.616,127862.5,128202.384,128542.268,128882.152,129222.036,129561.92,129901.804,130241.688,130581.572,130921.456,131261.34,131601.224,131941.108,132280.992,132620.876,132960.76,133300.644,133640.528,133980.412,134320.296,134660.18,135000.064,135339.948,135679.832,136019.716,136359.6,136699.484,137039.368,137379.252,137719.136,138059.02,138398.904,138738.788,139078.672,139418.556,139758.44,140098.324,140438.208,140778.092,141117.976,141457.86,141797.744,142137.628,142477.512,142817.396,143157.28,143497.164,143837.048,144176.932,144516.816,144856.7,145196.584,145536.468,145876.352,146216.236,146556.12,146896.004,147235.888,147575.772,147915.656,148255.54,148595.424,148935.308,149275.192,149615.076,149954.96,150294.844,150634.728,150974.612,151314.496,151654.38,151994.264,152334.148,152674.032,153013.916,153353.8,153693.684,154033.568,154373.452,154713.336,155053.22,155393.104,155732.988,156072.872,156412.756,156752.64,157092.524,157432.408,157772.292,158112.176,158452.06,158791.944,159131.828,159471.712,159811.596,160151.48,160491.364,160831.248,161171.132,161511.016,161850.9,162190.784,162530.668,162870.552,163210.436,163550.32,163890.204,164230.088,164569.972,164909.856,165249.74,165589.624,165929.508,166269.392,166609.276,166949.16,167289.044,167628.928,167968.812,168308.696,168648.58,168988.464,169328.348,169668.232,170008.116],\"xaxis\":\"x\",\"y\":[2.5725270199184186e-06,2.6310058058129383e-06,2.6897686304363113e-06,2.748786647363209e-06,2.8080309928186178e-06,2.8674728524427232e-06,2.927083527927629e-06,2.9868345032672523e-06,3.046697510360476e-06,3.106644593707739e-06,3.1666481739421243e-06,3.2266811099387665e-06,3.286716759249754e-06,3.3467290366169334e-06,3.4066924703207853e-06,3.4665822561312503e-06,3.5263743086346612e-06,3.586045309720728e-06,3.6455727540243725e-06,3.704934991128807e-06,3.764111264349627e-06,3.823081745932931e-06,3.8818275685156236e-06,3.940330852711665e-06,3.998574730703817e-06,4.056543365738184e-06,4.114221967435875e-06,4.171596802854251e-06,4.22865520324932e-06,4.2853855665086814e-06,4.341777355244726e-06,4.397821090555965e-06,4.4535083414842744e-06,4.508831710215101e-06,4.5637848130863e-06,4.618362257490829e-06,4.672559614776593e-06,4.726373389264856e-06,4.7798009835267726e-06,4.832840660073918e-06,4.8854914996356455e-06,4.937753356211278e-06,4.989626809100186e-06,5.04111311212635e-06,5.0922141402872045e-06,5.142932334068026e-06,5.193270641674184e-06,5.2432324594427434e-06,5.2928215707039586e-06,5.342042083369238e-06,5.390898366529312e-06,5.439394986349832e-06,5.487536641555415e-06,5.5353280987949695e-06,5.582774128181599e-06,5.629879439299518e-06,5.676648617968544e-06,5.723086064053026e-06,5.769195930597303e-06,5.814982064563845e-06,5.860447949442463e-06,5.905596649991412e-06,5.950430759359787e-06,5.994952348831379e-06,6.039162920417333e-06,6.0830633625115504e-06,6.126653908809836e-06,6.169934100677941e-06,6.212902753138355e-06,6.255557924628917e-06,6.297896890669671e-06,6.339916121555685e-06,6.381611264176304e-06,6.422977128041518e-06,6.464007675577935e-06,6.504696016736771e-06,6.545034407937351e-06,6.585014255349519e-06,6.6246261224990165e-06,6.663859742160641e-06,6.702704032484233e-06,6.741147117280074e-06,6.779176350371278e-06,6.8167783439031485e-06,6.8539390004813194e-06,6.890643548994117e-06,6.9268765839581094e-06,6.962622108210547e-06,6.997863578757841e-06,7.032583955575587e-06,7.066765753143314e-06,7.100391094485442e-06,7.13344176747952e-06,7.165899283183912e-06,7.197744935928862e-06,7.228959864908295e-06,7.2595251170041e-06,7.2894217105707835e-06,7.318630699905537e-06,7.347133240126908e-06,7.374910652185972e-06,7.401944487734288e-06,7.428216593576158e-06,7.453709175436182e-06,7.478404860778611e-06,7.502286760421194e-06,7.525338528694e-06,7.547544421902765e-06,7.568889354865974e-06,7.589358955305963e-06,7.6089396158869455e-06,7.6276185437049614e-06,7.645383807049724e-06,7.662224379271765e-06,7.678130179605082e-06,7.693092110809923e-06,7.707102093518343e-06,7.720153097180765e-06,7.73223916753028e-06,7.74335545049777e-06,7.753498212529612e-06,7.762664857276409e-06,7.770853938639617e-06,7.778065170179877e-06,7.784299430908184e-06,7.789558767497564e-06,7.793846392970039e-06,7.79716668192795e-06,7.799525162415756e-06,7.800928504511102e-06,7.801384505758749e-06,7.800902073572752e-06,7.79949120474543e-06,7.797162962210432e-06,7.793929449219127e-06,7.789803781096399e-06,7.784800054750648e-06,7.778933316118147e-06,7.772219525727597e-06,7.764675522574614e-06,7.75631898649779e-06,7.747168399250416e-06,7.737243004461252e-06,7.726562766677172e-06,7.715148329678115e-06,7.703020974251558e-06,7.690202575608858e-06,7.67671556062078e-06,7.662582865042432e-06,7.647827890890533e-06,7.63247446412764e-06,7.6165467927982415e-06,7.600069425751878e-06,7.583067212077927e-06,7.565565261364991e-06,7.547588904886183e-06,7.529163657799741e-06,7.510315182441231e-06,7.491069252771464e-06,7.471451720031027e-06,7.451488479639303e-06,7.431205439363626e-06,7.410628488770476e-06,7.3897834699591784e-06,7.368696149565699e-06,7.347392192012733e-06,7.325897133970948e-06,7.30423635998556e-06,7.282435079212543e-06,7.260518303199246e-06,7.238510824635931e-06,7.216437196996779e-06,7.194321714982592e-06,7.172188395671026e-06,7.15006096027575e-06,7.1279628164118935e-06,7.105917040762377e-06,7.083946362037863e-06,7.06207314412266e-06,7.040319369298783e-06,7.018706621442342e-06,6.997256069088546e-06,6.975988448265334e-06,6.954924045000071e-06,6.934082677409288e-06,6.9134836772881e-06,6.893145871122829e-06,6.873087560459115e-06,6.8533265015665985e-06,6.833879884350618e-06,6.8147643104725706e-06,6.795995770650816e-06,6.777589621125901e-06,6.759560559286022e-06,6.741922598460666e-06,6.724689041902917e-06,6.707872455994472e-06,6.6914846427192735e-06,6.675536611465735e-06,6.66003855022945e-06,6.644999796301857e-06,6.630428806542279e-06,6.616333127343136e-06,6.60271936441016e-06,6.589593152489992e-06,6.576959125189144e-06,6.564820885037666e-06,6.553180973960314e-06,6.542040844326773e-06,6.531400830759609e-06,6.521260122885779e-06,6.511616739222865e-06,6.502467502396011e-06,6.4938080158847915e-06,6.485632642502066e-06,6.477934484807599e-06,6.470705367659423e-06,6.463935823104737e-06,6.457615077809518e-06,6.4517310432223365e-06,6.446270308662627e-06,6.441218137517905e-06,6.43655846672634e-06,6.432273909712533e-06,6.428345762934644e-06,6.424754016189525e-06,6.4214773668104815e-06,6.418493237878816e-06,6.415777800556125e-06,6.413306000628759e-06,6.4110515893397576e-06,6.408987158566516e-06,6.407084180384325e-06,6.405313051037887e-06,6.4036431393233005e-06,6.402042839363787e-06,6.400479627742147e-06,6.398920124932858e-06,6.397330160956057e-06,6.395674845154959e-06,6.3939186399780624e-06,6.3920254386263285e-06,6.38995864640597e-06,6.38768126560702e-06,6.385155983708638e-06,6.382345264692887e-06,6.379211443230842e-06,6.375716821486896e-06,6.371823768270629e-06,6.367494820249907e-06,6.362692784924035e-06,6.357380845042472e-06,6.3515226641418096e-06,6.345082492863202e-06,6.338025275702306e-06,6.33031675783569e-06,6.321923591660976e-06,6.312813442682563e-06,6.302955094371123e-06,6.292318551623299e-06,6.280875142447134e-06,6.268597617500529e-06,6.2554602471125774e-06,6.2414389154223915e-06,6.226511211276388e-06,6.210656515532497e-06,6.1938560844299705e-06,6.176093128693816e-06,6.1573528880561844e-06,6.137622700890801e-06,6.1168920686722895e-06,6.09515271498915e-06,6.0723986388573735e-06,6.048626162101344e-06,6.023833970588853e-06,5.998023149129174e-06,5.971197209865401e-06,5.943362114015651e-06,5.914526286842008e-06,5.884700625750639e-06,5.853898501451924e-06,5.822135752134675e-06,5.7894306706348915e-06,5.7558039846049595e-06,5.721278829715635e-06,5.685880715948571e-06,5.649637487063369e-06,5.612579273347977e-06,5.574738437786229e-06,5.536149515800898e-06,5.49684914875355e-06,5.456876011406088e-06,5.4162707335700106e-06,5.3750758161907535e-06,5.333335542134214e-06,5.291095881960868e-06,5.248404394990797e-06,5.205310125978372e-06,5.161863497730501e-06,5.118116200015251e-06,5.074121075119351e-06,5.029932000423422e-06,4.985603768372088e-06,4.941191964223304e-06,4.896752841966393e-06,4.85234319880216e-06,4.808020248580191e-06,4.763841494589364e-06,4.719864602095872e-06,4.676147271020593e-06,4.632747109143135e-06,4.589721506214109e-06,4.547127509349559e-06,4.505021700072854e-06,4.463460073358997e-06,4.4224979190248335e-06,4.382189705795714e-06,4.342588968365247e-06,4.303748197749751e-06,4.265718735222607e-06,4.228550670097034e-06,4.192292741607468e-06,4.156992245121314e-06,4.122694942893464e-06,4.089444979555857e-06,4.057284802514108e-06,4.026255087402529e-06,3.996394668727529e-06,3.967740475808403e-06,3.940327474103151e-06,3.914188611985556e-06,3.889354773018637e-06,3.865854733748632e-06,3.843715127022968e-06,3.822960410815293e-06,3.8036128425209813e-06,3.785692458667052e-06,3.769217059961994e-06,3.754202201592922e-06,3.7406611886604264e-06,3.728605076625154e-06,3.7180426766247457e-06,3.708980565505328e-06,3.70142310039843e-06,3.695372437661674e-06,3.6908285559905345e-06,3.687789283498205e-06,3.686250328551705e-06,3.686205314144638e-06,3.6876458155803856e-06,3.6905614012342007e-06,3.6949396761586576e-06,3.7007663282937523e-06,3.7080251770415627e-06,3.716698223964658e-06,3.72676570536829e-06,3.7382061465281578e-06,3.750996417328555e-06,3.7651117890798223e-06,3.7805259922891007e-06,3.7972112751645694e-06,3.815138462640425e-06,3.834277015717924e-06,3.85459509092663e-06,3.876059599719658e-06,3.898636267627168e-06,3.922289693003299e-06,3.946983405213356e-06,3.9726799221203845e-06,3.99934080674246e-06,4.026926722965422e-06,4.055397490208563e-06,4.084712136954444e-06,4.1148289530674665e-06,4.14570554083936e-06,4.177298864713326e-06,4.209565299651933e-06,4.2424606781271595e-06,4.275940335723666e-06,4.309959155359336e-06,4.344471610138979e-06,4.37943180486875e-06,4.4147935162702665e-06,4.450510231943434e-06,4.486535188137169e-06,4.522821406396071e-06,4.559321729159453e-06,4.595988854396512e-06,4.632775369368175e-06,4.669633783611571e-06,4.706516561248101e-06,4.743376152719514e-06,4.780165026059656e-06,4.816835697810895e-06,4.8533407636952975e-06,4.889632929150575e-06,4.925665039839297e-06,4.961390112238059e-06,4.996761364410147e-06,5.031732247060993e-06,5.066256474971185e-06,5.10028805889563e-06,5.133781338011263e-06,5.1666910129878835e-06,5.1989721797491105e-06,5.230580363981222e-06,5.26147155643864e-06,5.291602249084776e-06,5.320929472096579e-06,5.349410831750429e-06,5.377004549195869e-06,5.403669500112424e-06,5.429365255233112e-06,5.454052121706752e-06,5.47769118525958e-06,5.50024435310493e-06,5.5216743975386395e-06,5.541945000146369e-06,5.561020796538229e-06,5.578867421515788e-06,5.595451554565916e-06,5.610740965567116e-06,5.624704560584352e-06,5.6373124276203065e-06,5.648535882183501e-06,5.658347512526507e-06,5.666721224401678e-06,5.6736322851763365e-06,5.679057367145257e-06,5.682974589874614e-06,5.68536356140919e-06,5.686205418173049e-06,5.685482863393367e-06,5.683180203877497e-06,5.679283384974734e-06,5.673780023556718e-06,5.666659438853747e-06,5.657912680988523e-06,5.6475325570542406e-06,5.63551365459e-06,5.621852362313586e-06,5.606546887979509e-06,5.589597273238929e-06,5.571005405387347e-06,5.550775025896202e-06,5.528911735635079e-06,5.505422996702589e-06,5.480318130795817e-06,5.453608314060394e-06,5.425306568375871e-06,5.395427749044038e-06,5.363988528860966e-06,5.331007378566766e-06,5.296504543680576e-06,5.2605020177416475e-06,5.2230235119907465e-06,5.184094421539271e-06,5.143741788086644e-06,5.101994259259249e-06,5.05888204465646e-06,5.0144368687017364e-06,4.968691920407994e-06,4.921681800177755e-06,4.873442463769114e-06,4.824011163568484e-06,4.773426387320357e-06,4.721727794472902e-06,4.668956150306307e-06,4.615153258017563e-06,4.560361888942082e-06,4.504625711097861e-06,4.447989216242829e-06,4.39049764563976e-06,4.332196914726348e-06,4.27313353689029e-06,4.213354546550483e-06,4.152907421746282e-06,4.091840006436426e-06,4.030200432708102e-06,3.968037043095123e-06,3.905398313201444e-06,3.842332774823002e-06,3.778888939757e-06,3.715115224483064e-06,3.6510598758955166e-06,3.5867708982600254e-06,3.5222959815618283e-06,3.4576824314054783e-06,3.3929771006189387e-06,3.328226322707072e-06,3.263475847291372e-06,3.1987707776643126e-06,3.134155510578029e-06,3.0696736783780304e-06,3.005368093583349e-06,2.9412806960054663e-06,2.877452502488683e-06,2.8139235593453073e-06,2.7507328975493902e-06,2.6879184907434146e-06],\"yaxis\":\"y\",\"type\":\"scatter\"}],                        {\"barmode\":\"overlay\",\"hovermode\":\"closest\",\"legend\":{\"traceorder\":\"reversed\"},\"template\":{\"data\":{\"barpolar\":[{\"marker\":{\"line\":{\"color\":\"rgb(17,17,17)\",\"width\":0.5},\"pattern\":{\"fillmode\":\"overlay\",\"size\":10,\"solidity\":0.2}},\"type\":\"barpolar\"}],\"bar\":[{\"error_x\":{\"color\":\"#f2f5fa\"},\"error_y\":{\"color\":\"#f2f5fa\"},\"marker\":{\"line\":{\"color\":\"rgb(17,17,17)\",\"width\":0.5},\"pattern\":{\"fillmode\":\"overlay\",\"size\":10,\"solidity\":0.2}},\"type\":\"bar\"}],\"carpet\":[{\"aaxis\":{\"endlinecolor\":\"#A2B1C6\",\"gridcolor\":\"#506784\",\"linecolor\":\"#506784\",\"minorgridcolor\":\"#506784\",\"startlinecolor\":\"#A2B1C6\"},\"baxis\":{\"endlinecolor\":\"#A2B1C6\",\"gridcolor\":\"#506784\",\"linecolor\":\"#506784\",\"minorgridcolor\":\"#506784\",\"startlinecolor\":\"#A2B1C6\"},\"type\":\"carpet\"}],\"choropleth\":[{\"colorbar\":{\"outlinewidth\":0,\"ticks\":\"\"},\"type\":\"choropleth\"}],\"contourcarpet\":[{\"colorbar\":{\"outlinewidth\":0,\"ticks\":\"\"},\"type\":\"contourcarpet\"}],\"contour\":[{\"colorbar\":{\"outlinewidth\":0,\"ticks\":\"\"},\"colorscale\":[[0.0,\"#0d0887\"],[0.1111111111111111,\"#46039f\"],[0.2222222222222222,\"#7201a8\"],[0.3333333333333333,\"#9c179e\"],[0.4444444444444444,\"#bd3786\"],[0.5555555555555556,\"#d8576b\"],[0.6666666666666666,\"#ed7953\"],[0.7777777777777778,\"#fb9f3a\"],[0.8888888888888888,\"#fdca26\"],[1.0,\"#f0f921\"]],\"type\":\"contour\"}],\"heatmapgl\":[{\"colorbar\":{\"outlinewidth\":0,\"ticks\":\"\"},\"colorscale\":[[0.0,\"#0d0887\"],[0.1111111111111111,\"#46039f\"],[0.2222222222222222,\"#7201a8\"],[0.3333333333333333,\"#9c179e\"],[0.4444444444444444,\"#bd3786\"],[0.5555555555555556,\"#d8576b\"],[0.6666666666666666,\"#ed7953\"],[0.7777777777777778,\"#fb9f3a\"],[0.8888888888888888,\"#fdca26\"],[1.0,\"#f0f921\"]],\"type\":\"heatmapgl\"}],\"heatmap\":[{\"colorbar\":{\"outlinewidth\":0,\"ticks\":\"\"},\"colorscale\":[[0.0,\"#0d0887\"],[0.1111111111111111,\"#46039f\"],[0.2222222222222222,\"#7201a8\"],[0.3333333333333333,\"#9c179e\"],[0.4444444444444444,\"#bd3786\"],[0.5555555555555556,\"#d8576b\"],[0.6666666666666666,\"#ed7953\"],[0.7777777777777778,\"#fb9f3a\"],[0.8888888888888888,\"#fdca26\"],[1.0,\"#f0f921\"]],\"type\":\"heatmap\"}],\"histogram2dcontour\":[{\"colorbar\":{\"outlinewidth\":0,\"ticks\":\"\"},\"colorscale\":[[0.0,\"#0d0887\"],[0.1111111111111111,\"#46039f\"],[0.2222222222222222,\"#7201a8\"],[0.3333333333333333,\"#9c179e\"],[0.4444444444444444,\"#bd3786\"],[0.5555555555555556,\"#d8576b\"],[0.6666666666666666,\"#ed7953\"],[0.7777777777777778,\"#fb9f3a\"],[0.8888888888888888,\"#fdca26\"],[1.0,\"#f0f921\"]],\"type\":\"histogram2dcontour\"}],\"histogram2d\":[{\"colorbar\":{\"outlinewidth\":0,\"ticks\":\"\"},\"colorscale\":[[0.0,\"#0d0887\"],[0.1111111111111111,\"#46039f\"],[0.2222222222222222,\"#7201a8\"],[0.3333333333333333,\"#9c179e\"],[0.4444444444444444,\"#bd3786\"],[0.5555555555555556,\"#d8576b\"],[0.6666666666666666,\"#ed7953\"],[0.7777777777777778,\"#fb9f3a\"],[0.8888888888888888,\"#fdca26\"],[1.0,\"#f0f921\"]],\"type\":\"histogram2d\"}],\"histogram\":[{\"marker\":{\"pattern\":{\"fillmode\":\"overlay\",\"size\":10,\"solidity\":0.2}},\"type\":\"histogram\"}],\"mesh3d\":[{\"colorbar\":{\"outlinewidth\":0,\"ticks\":\"\"},\"type\":\"mesh3d\"}],\"parcoords\":[{\"line\":{\"colorbar\":{\"outlinewidth\":0,\"ticks\":\"\"}},\"type\":\"parcoords\"}],\"pie\":[{\"automargin\":true,\"type\":\"pie\"}],\"scatter3d\":[{\"line\":{\"colorbar\":{\"outlinewidth\":0,\"ticks\":\"\"}},\"marker\":{\"colorbar\":{\"outlinewidth\":0,\"ticks\":\"\"}},\"type\":\"scatter3d\"}],\"scattercarpet\":[{\"marker\":{\"colorbar\":{\"outlinewidth\":0,\"ticks\":\"\"}},\"type\":\"scattercarpet\"}],\"scattergeo\":[{\"marker\":{\"colorbar\":{\"outlinewidth\":0,\"ticks\":\"\"}},\"type\":\"scattergeo\"}],\"scattergl\":[{\"marker\":{\"line\":{\"color\":\"#283442\"}},\"type\":\"scattergl\"}],\"scattermapbox\":[{\"marker\":{\"colorbar\":{\"outlinewidth\":0,\"ticks\":\"\"}},\"type\":\"scattermapbox\"}],\"scatterpolargl\":[{\"marker\":{\"colorbar\":{\"outlinewidth\":0,\"ticks\":\"\"}},\"type\":\"scatterpolargl\"}],\"scatterpolar\":[{\"marker\":{\"colorbar\":{\"outlinewidth\":0,\"ticks\":\"\"}},\"type\":\"scatterpolar\"}],\"scatter\":[{\"marker\":{\"line\":{\"color\":\"#283442\"}},\"type\":\"scatter\"}],\"scatterternary\":[{\"marker\":{\"colorbar\":{\"outlinewidth\":0,\"ticks\":\"\"}},\"type\":\"scatterternary\"}],\"surface\":[{\"colorbar\":{\"outlinewidth\":0,\"ticks\":\"\"},\"colorscale\":[[0.0,\"#0d0887\"],[0.1111111111111111,\"#46039f\"],[0.2222222222222222,\"#7201a8\"],[0.3333333333333333,\"#9c179e\"],[0.4444444444444444,\"#bd3786\"],[0.5555555555555556,\"#d8576b\"],[0.6666666666666666,\"#ed7953\"],[0.7777777777777778,\"#fb9f3a\"],[0.8888888888888888,\"#fdca26\"],[1.0,\"#f0f921\"]],\"type\":\"surface\"}],\"table\":[{\"cells\":{\"fill\":{\"color\":\"#506784\"},\"line\":{\"color\":\"rgb(17,17,17)\"}},\"header\":{\"fill\":{\"color\":\"#2a3f5f\"},\"line\":{\"color\":\"rgb(17,17,17)\"}},\"type\":\"table\"}]},\"layout\":{\"annotationdefaults\":{\"arrowcolor\":\"#f2f5fa\",\"arrowhead\":0,\"arrowwidth\":1},\"autotypenumbers\":\"strict\",\"coloraxis\":{\"colorbar\":{\"outlinewidth\":0,\"ticks\":\"\"}},\"colorscale\":{\"diverging\":[[0,\"#8e0152\"],[0.1,\"#c51b7d\"],[0.2,\"#de77ae\"],[0.3,\"#f1b6da\"],[0.4,\"#fde0ef\"],[0.5,\"#f7f7f7\"],[0.6,\"#e6f5d0\"],[0.7,\"#b8e186\"],[0.8,\"#7fbc41\"],[0.9,\"#4d9221\"],[1,\"#276419\"]],\"sequential\":[[0.0,\"#0d0887\"],[0.1111111111111111,\"#46039f\"],[0.2222222222222222,\"#7201a8\"],[0.3333333333333333,\"#9c179e\"],[0.4444444444444444,\"#bd3786\"],[0.5555555555555556,\"#d8576b\"],[0.6666666666666666,\"#ed7953\"],[0.7777777777777778,\"#fb9f3a\"],[0.8888888888888888,\"#fdca26\"],[1.0,\"#f0f921\"]],\"sequentialminus\":[[0.0,\"#0d0887\"],[0.1111111111111111,\"#46039f\"],[0.2222222222222222,\"#7201a8\"],[0.3333333333333333,\"#9c179e\"],[0.4444444444444444,\"#bd3786\"],[0.5555555555555556,\"#d8576b\"],[0.6666666666666666,\"#ed7953\"],[0.7777777777777778,\"#fb9f3a\"],[0.8888888888888888,\"#fdca26\"],[1.0,\"#f0f921\"]]},\"colorway\":[\"#636efa\",\"#EF553B\",\"#00cc96\",\"#ab63fa\",\"#FFA15A\",\"#19d3f3\",\"#FF6692\",\"#B6E880\",\"#FF97FF\",\"#FECB52\"],\"font\":{\"color\":\"#f2f5fa\"},\"geo\":{\"bgcolor\":\"rgb(17,17,17)\",\"lakecolor\":\"rgb(17,17,17)\",\"landcolor\":\"rgb(17,17,17)\",\"showlakes\":true,\"showland\":true,\"subunitcolor\":\"#506784\"},\"hoverlabel\":{\"align\":\"left\"},\"hovermode\":\"closest\",\"mapbox\":{\"style\":\"dark\"},\"paper_bgcolor\":\"rgb(17,17,17)\",\"plot_bgcolor\":\"rgb(17,17,17)\",\"polar\":{\"angularaxis\":{\"gridcolor\":\"#506784\",\"linecolor\":\"#506784\",\"ticks\":\"\"},\"bgcolor\":\"rgb(17,17,17)\",\"radialaxis\":{\"gridcolor\":\"#506784\",\"linecolor\":\"#506784\",\"ticks\":\"\"}},\"scene\":{\"xaxis\":{\"backgroundcolor\":\"rgb(17,17,17)\",\"gridcolor\":\"#506784\",\"gridwidth\":2,\"linecolor\":\"#506784\",\"showbackground\":true,\"ticks\":\"\",\"zerolinecolor\":\"#C8D4E3\"},\"yaxis\":{\"backgroundcolor\":\"rgb(17,17,17)\",\"gridcolor\":\"#506784\",\"gridwidth\":2,\"linecolor\":\"#506784\",\"showbackground\":true,\"ticks\":\"\",\"zerolinecolor\":\"#C8D4E3\"},\"zaxis\":{\"backgroundcolor\":\"rgb(17,17,17)\",\"gridcolor\":\"#506784\",\"gridwidth\":2,\"linecolor\":\"#506784\",\"showbackground\":true,\"ticks\":\"\",\"zerolinecolor\":\"#C8D4E3\"}},\"shapedefaults\":{\"line\":{\"color\":\"#f2f5fa\"}},\"sliderdefaults\":{\"bgcolor\":\"#C8D4E3\",\"bordercolor\":\"rgb(17,17,17)\",\"borderwidth\":1,\"tickwidth\":0},\"ternary\":{\"aaxis\":{\"gridcolor\":\"#506784\",\"linecolor\":\"#506784\",\"ticks\":\"\"},\"baxis\":{\"gridcolor\":\"#506784\",\"linecolor\":\"#506784\",\"ticks\":\"\"},\"bgcolor\":\"rgb(17,17,17)\",\"caxis\":{\"gridcolor\":\"#506784\",\"linecolor\":\"#506784\",\"ticks\":\"\"}},\"title\":{\"x\":0.05},\"updatemenudefaults\":{\"bgcolor\":\"#506784\",\"borderwidth\":0},\"xaxis\":{\"automargin\":true,\"gridcolor\":\"#283442\",\"linecolor\":\"#506784\",\"ticks\":\"\",\"title\":{\"standoff\":15},\"zerolinecolor\":\"#283442\",\"zerolinewidth\":2},\"yaxis\":{\"automargin\":true,\"gridcolor\":\"#283442\",\"linecolor\":\"#506784\",\"ticks\":\"\",\"title\":{\"standoff\":15},\"zerolinecolor\":\"#283442\",\"zerolinewidth\":2}}},\"title\":{\"text\":\"Credit Card Transactions Time Density Plot\"},\"xaxis\":{\"anchor\":\"y2\",\"domain\":[0.0,1.0],\"title\":{\"text\":\"Time [s]\"},\"zeroline\":false},\"yaxis\":{\"anchor\":\"free\",\"domain\":[0.0,1],\"position\":0.0}},                        {\"responsive\": true}                    ).then(function(){\n",
       "                            \n",
       "var gd = document.getElementById('98993daa-99b2-4190-b5d1-41ec1155ef05');\n",
       "var x = new MutationObserver(function (mutations, observer) {{\n",
       "        var display = window.getComputedStyle(gd).display;\n",
       "        if (!display || display === 'none') {{\n",
       "            console.log([gd, 'removed!']);\n",
       "            Plotly.purge(gd);\n",
       "            observer.disconnect();\n",
       "        }}\n",
       "}});\n",
       "\n",
       "// Listen for the removal of the full notebook cells\n",
       "var notebookContainer = gd.closest('#notebook-container');\n",
       "if (notebookContainer) {{\n",
       "    x.observe(notebookContainer, {childList: true});\n",
       "}}\n",
       "\n",
       "// Listen for the clearing of the current output cell\n",
       "var outputEl = gd.closest('.output');\n",
       "if (outputEl) {{\n",
       "    x.observe(outputEl, {childList: true});\n",
       "}}\n",
       "\n",
       "                        })                };                });            </script>        </div>"
      ]
     },
     "metadata": {},
     "output_type": "display_data"
    }
   ],
   "execution_count": 74
  },
  {
   "cell_type": "code",
   "source": "fig, (ax1, ax2) = plt.subplots(ncols=2, figsize=(12,6))\ns = sns.boxplot(ax = ax1, x=\"Class\", y=\"Amount\", hue=\"Class\",data=dt, palette=\"PRGn\",showfliers=True)\ns = sns.boxplot(ax = ax2, x=\"Class\", y=\"Amount\", hue=\"Class\",data=dt, palette=\"PRGn\",showfliers=False)\nplt.show();",
   "metadata": {
    "trusted": true,
    "execution": {
     "iopub.status.busy": "2024-12-25T14:57:25.540598Z",
     "iopub.execute_input": "2024-12-25T14:57:25.540990Z",
     "iopub.status.idle": "2024-12-25T14:57:26.050855Z",
     "shell.execute_reply.started": "2024-12-25T14:57:25.540954Z",
     "shell.execute_reply": "2024-12-25T14:57:26.049795Z"
    },
    "ExecuteTime": {
     "end_time": "2024-12-26T01:38:45.721045Z",
     "start_time": "2024-12-26T01:38:43.523657Z"
    }
   },
   "outputs": [
    {
     "data": {
      "text/plain": [
       "<Figure size 1200x600 with 2 Axes>"
      ],
      "image/png": "[encoded data removed]"
     },
     "metadata": {},
     "output_type": "display_data"
    }
   ],
   "execution_count": 75
  },
  {
   "cell_type": "code",
   "source": "dt.columns",
   "metadata": {
    "trusted": true,
    "execution": {
     "iopub.status.busy": "2024-12-25T14:57:26.052647Z",
     "iopub.execute_input": "2024-12-25T14:57:26.053089Z",
     "iopub.status.idle": "2024-12-25T14:57:26.059209Z",
     "shell.execute_reply.started": "2024-12-25T14:57:26.053047Z",
     "shell.execute_reply": "2024-12-25T14:57:26.058150Z"
    },
    "ExecuteTime": {
     "end_time": "2024-12-26T01:38:49.298854Z",
     "start_time": "2024-12-26T01:38:49.288255Z"
    }
   },
   "outputs": [
    {
     "data": {
      "text/plain": [
       "Index(['Time', 'V1', 'V2', 'V3', 'V4', 'V5', 'V6', 'V7', 'V8', 'V9', 'V10',\n",
       "       'V11', 'V12', 'V13', 'V14', 'V15', 'V16', 'V17', 'V18', 'V19', 'V20',\n",
       "       'V21', 'V22', 'V23', 'V24', 'V25', 'V26', 'V27', 'V28', 'Amount',\n",
       "       'Class'],\n",
       "      dtype='object')"
      ]
     },
     "execution_count": 76,
     "metadata": {},
     "output_type": "execute_result"
    }
   ],
   "execution_count": 76
  },
  {
   "cell_type": "code",
   "source": "dt.shape",
   "metadata": {
    "trusted": true,
    "execution": {
     "iopub.status.busy": "2024-12-25T14:57:29.535146Z",
     "iopub.execute_input": "2024-12-25T14:57:29.535480Z",
     "iopub.status.idle": "2024-12-25T14:57:29.541763Z",
     "shell.execute_reply.started": "2024-12-25T14:57:29.535454Z",
     "shell.execute_reply": "2024-12-25T14:57:29.540800Z"
    },
    "ExecuteTime": {
     "end_time": "2024-12-26T01:38:55.711627Z",
     "start_time": "2024-12-26T01:38:55.703093Z"
    }
   },
   "outputs": [
    {
     "data": {
      "text/plain": [
       "(284807, 31)"
      ]
     },
     "execution_count": 77,
     "metadata": {},
     "output_type": "execute_result"
    }
   ],
   "execution_count": 77
  },
  {
   "cell_type": "code",
   "source": "dt = dt.drop(['Time'], axis =1)",
   "metadata": {
    "trusted": true,
    "execution": {
     "iopub.status.busy": "2024-12-25T14:57:29.758350Z",
     "iopub.execute_input": "2024-12-25T14:57:29.758668Z",
     "iopub.status.idle": "2024-12-25T14:57:29.789112Z",
     "shell.execute_reply.started": "2024-12-25T14:57:29.758642Z",
     "shell.execute_reply": "2024-12-25T14:57:29.788001Z"
    },
    "ExecuteTime": {
     "end_time": "2024-12-26T01:38:59.346700Z",
     "start_time": "2024-12-26T01:38:59.305574Z"
    }
   },
   "outputs": [],
   "execution_count": 78
  },
  {
   "cell_type": "code",
   "source": "dt.shape",
   "metadata": {
    "trusted": true,
    "execution": {
     "iopub.status.busy": "2024-12-25T14:57:30.365415Z",
     "iopub.execute_input": "2024-12-25T14:57:30.365818Z",
     "iopub.status.idle": "2024-12-25T14:57:30.371877Z",
     "shell.execute_reply.started": "2024-12-25T14:57:30.365781Z",
     "shell.execute_reply": "2024-12-25T14:57:30.370777Z"
    },
    "ExecuteTime": {
     "end_time": "2024-12-26T01:39:08.033373Z",
     "start_time": "2024-12-26T01:39:08.022332Z"
    }
   },
   "outputs": [
    {
     "data": {
      "text/plain": [
       "(284807, 30)"
      ]
     },
     "execution_count": 79,
     "metadata": {},
     "output_type": "execute_result"
    }
   ],
   "execution_count": 79
  },
  {
   "cell_type": "code",
   "source": "X = dt.drop('Class', axis=1)\ny = dt['Class']",
   "metadata": {
    "trusted": true,
    "execution": {
     "iopub.status.busy": "2024-12-25T14:57:30.573185Z",
     "iopub.execute_input": "2024-12-25T14:57:30.573534Z",
     "iopub.status.idle": "2024-12-25T14:57:30.602068Z",
     "shell.execute_reply.started": "2024-12-25T14:57:30.573501Z",
     "shell.execute_reply": "2024-12-25T14:57:30.600884Z"
    },
    "ExecuteTime": {
     "end_time": "2024-12-26T01:39:09.508392Z",
     "start_time": "2024-12-26T01:39:09.456738Z"
    }
   },
   "outputs": [],
   "execution_count": 80
  },
  {
   "cell_type": "code",
   "source": "X.shape",
   "metadata": {
    "trusted": true,
    "execution": {
     "iopub.status.busy": "2024-12-25T14:57:33.783467Z",
     "iopub.execute_input": "2024-12-25T14:57:33.783838Z",
     "iopub.status.idle": "2024-12-25T14:57:33.790217Z",
     "shell.execute_reply.started": "2024-12-25T14:57:33.783806Z",
     "shell.execute_reply": "2024-12-25T14:57:33.788836Z"
    },
    "ExecuteTime": {
     "end_time": "2024-12-26T01:39:10.438661Z",
     "start_time": "2024-12-26T01:39:10.429283Z"
    }
   },
   "outputs": [
    {
     "data": {
      "text/plain": [
       "(284807, 29)"
      ]
     },
     "execution_count": 81,
     "metadata": {},
     "output_type": "execute_result"
    }
   ],
   "execution_count": 81
  },
  {
   "metadata": {},
   "cell_type": "markdown",
   "source": "Clasification for Label Class 0 or 1"
  },
  {
   "cell_type": "code",
   "source": "dt_normal = dt[dt['Class'] == 0]\ndt_fraud = dt[dt['Class'] == 1]",
   "metadata": {
    "trusted": true,
    "execution": {
     "iopub.status.busy": "2024-12-25T14:58:07.071598Z",
     "iopub.execute_input": "2024-12-25T14:58:07.072109Z",
     "iopub.status.idle": "2024-12-25T14:58:07.118592Z",
     "shell.execute_reply.started": "2024-12-25T14:58:07.072078Z",
     "shell.execute_reply": "2024-12-25T14:58:07.117520Z"
    },
    "ExecuteTime": {
     "end_time": "2024-12-26T01:39:12.065980Z",
     "start_time": "2024-12-26T01:39:11.968218Z"
    }
   },
   "outputs": [],
   "execution_count": 82
  },
  {
   "cell_type": "code",
   "source": "dt_normal.shape",
   "metadata": {
    "trusted": true,
    "execution": {
     "iopub.status.busy": "2024-12-25T14:58:07.449460Z",
     "iopub.execute_input": "2024-12-25T14:58:07.449977Z",
     "iopub.status.idle": "2024-12-25T14:58:07.456624Z",
     "shell.execute_reply.started": "2024-12-25T14:58:07.449910Z",
     "shell.execute_reply": "2024-12-25T14:58:07.455326Z"
    },
    "ExecuteTime": {
     "end_time": "2024-12-26T01:39:12.776275Z",
     "start_time": "2024-12-26T01:39:12.768595Z"
    }
   },
   "outputs": [
    {
     "data": {
      "text/plain": [
       "(284315, 30)"
      ]
     },
     "execution_count": 83,
     "metadata": {},
     "output_type": "execute_result"
    }
   ],
   "execution_count": 83
  },
  {
   "cell_type": "code",
   "source": "dt_fraud.shape",
   "metadata": {
    "trusted": true,
    "execution": {
     "iopub.status.busy": "2024-12-25T14:59:38.438165Z",
     "iopub.execute_input": "2024-12-25T14:59:38.438519Z",
     "iopub.status.idle": "2024-12-25T14:59:38.445397Z",
     "shell.execute_reply.started": "2024-12-25T14:59:38.438487Z",
     "shell.execute_reply": "2024-12-25T14:59:38.444222Z"
    },
    "ExecuteTime": {
     "end_time": "2024-12-26T01:39:13.547987Z",
     "start_time": "2024-12-26T01:39:13.539194Z"
    }
   },
   "outputs": [
    {
     "data": {
      "text/plain": [
       "(492, 30)"
      ]
     },
     "execution_count": 84,
     "metadata": {},
     "output_type": "execute_result"
    }
   ],
   "execution_count": 84
  },
  {
   "metadata": {},
   "cell_type": "markdown",
   "source": "Normalisasi Imbalanced Data"
  },
  {
   "cell_type": "code",
   "source": "dt_normal = dt_normal.sample(n=473)",
   "metadata": {
    "trusted": true,
    "execution": {
     "iopub.status.busy": "2024-12-25T14:59:39.123300Z",
     "iopub.execute_input": "2024-12-25T14:59:39.123662Z",
     "iopub.status.idle": "2024-12-25T14:59:39.137971Z",
     "shell.execute_reply.started": "2024-12-25T14:59:39.123628Z",
     "shell.execute_reply": "2024-12-25T14:59:39.136612Z"
    },
    "ExecuteTime": {
     "end_time": "2024-12-26T01:39:16.256954Z",
     "start_time": "2024-12-26T01:39:16.223386Z"
    }
   },
   "outputs": [],
   "execution_count": 85
  },
  {
   "cell_type": "code",
   "source": "dt_normal.shape",
   "metadata": {
    "trusted": true,
    "execution": {
     "iopub.status.busy": "2024-12-25T14:59:40.214634Z",
     "iopub.execute_input": "2024-12-25T14:59:40.215069Z",
     "iopub.status.idle": "2024-12-25T14:59:40.221099Z",
     "shell.execute_reply.started": "2024-12-25T14:59:40.215036Z",
     "shell.execute_reply": "2024-12-25T14:59:40.220055Z"
    },
    "ExecuteTime": {
     "end_time": "2024-12-26T01:39:16.816840Z",
     "start_time": "2024-12-26T01:39:16.805505Z"
    }
   },
   "outputs": [
    {
     "data": {
      "text/plain": [
       "(473, 30)"
      ]
     },
     "execution_count": 86,
     "metadata": {},
     "output_type": "execute_result"
    }
   ],
   "execution_count": 86
  },
  {
   "metadata": {},
   "cell_type": "markdown",
   "source": "Make dataframe sample after Normalisasi"
  },
  {
   "cell_type": "code",
   "source": "dt_sample = pd.concat([dt_normal, dt_fraud], ignore_index=True)",
   "metadata": {
    "trusted": true,
    "execution": {
     "iopub.status.busy": "2024-12-25T14:59:40.703842Z",
     "iopub.execute_input": "2024-12-25T14:59:40.704290Z",
     "iopub.status.idle": "2024-12-25T14:59:40.710562Z",
     "shell.execute_reply.started": "2024-12-25T14:59:40.704251Z",
     "shell.execute_reply": "2024-12-25T14:59:40.709259Z"
    },
    "ExecuteTime": {
     "end_time": "2024-12-26T01:39:18.226766Z",
     "start_time": "2024-12-26T01:39:18.219908Z"
    }
   },
   "outputs": [],
   "execution_count": 87
  },
  {
   "cell_type": "code",
   "source": "dt_sample.shape",
   "metadata": {
    "trusted": true,
    "execution": {
     "iopub.status.busy": "2024-12-25T14:59:41.741668Z",
     "iopub.execute_input": "2024-12-25T14:59:41.742080Z",
     "iopub.status.idle": "2024-12-25T14:59:41.748250Z",
     "shell.execute_reply.started": "2024-12-25T14:59:41.742046Z",
     "shell.execute_reply": "2024-12-25T14:59:41.747087Z"
    },
    "ExecuteTime": {
     "end_time": "2024-12-26T01:39:19.884616Z",
     "start_time": "2024-12-26T01:39:19.875820Z"
    }
   },
   "outputs": [
    {
     "data": {
      "text/plain": [
       "(965, 30)"
      ]
     },
     "execution_count": 88,
     "metadata": {},
     "output_type": "execute_result"
    }
   ],
   "execution_count": 88
  },
  {
   "cell_type": "code",
   "source": "dt_sample['Class'].value_counts()",
   "metadata": {
    "trusted": true,
    "execution": {
     "iopub.status.busy": "2024-12-25T14:59:43.985416Z",
     "iopub.execute_input": "2024-12-25T14:59:43.985911Z",
     "iopub.status.idle": "2024-12-25T14:59:43.995036Z",
     "shell.execute_reply.started": "2024-12-25T14:59:43.985875Z",
     "shell.execute_reply": "2024-12-25T14:59:43.993254Z"
    },
    "ExecuteTime": {
     "end_time": "2024-12-26T01:39:20.589993Z",
     "start_time": "2024-12-26T01:39:20.579080Z"
    }
   },
   "outputs": [
    {
     "data": {
      "text/plain": [
       "Class\n",
       "1    492\n",
       "0    473\n",
       "Name: count, dtype: int64"
      ]
     },
     "execution_count": 89,
     "metadata": {},
     "output_type": "execute_result"
    }
   ],
   "execution_count": 89
  },
  {
   "cell_type": "code",
   "source": "X = dt_sample.drop('Class', axis=1)\ny = dt_sample['Class']",
   "metadata": {
    "trusted": true,
    "execution": {
     "iopub.status.busy": "2024-12-25T14:59:44.618772Z",
     "iopub.execute_input": "2024-12-25T14:59:44.619140Z",
     "iopub.status.idle": "2024-12-25T14:59:44.624992Z",
     "shell.execute_reply.started": "2024-12-25T14:59:44.619111Z",
     "shell.execute_reply": "2024-12-25T14:59:44.623859Z"
    },
    "ExecuteTime": {
     "end_time": "2024-12-26T01:39:21.593715Z",
     "start_time": "2024-12-26T01:39:21.575255Z"
    }
   },
   "outputs": [],
   "execution_count": 90
  },
  {
   "cell_type": "code",
   "source": "X.shape",
   "metadata": {
    "trusted": true,
    "execution": {
     "iopub.status.busy": "2024-12-25T14:59:45.327535Z",
     "iopub.execute_input": "2024-12-25T14:59:45.328008Z",
     "iopub.status.idle": "2024-12-25T14:59:45.334947Z",
     "shell.execute_reply.started": "2024-12-25T14:59:45.327975Z",
     "shell.execute_reply": "2024-12-25T14:59:45.333809Z"
    },
    "ExecuteTime": {
     "end_time": "2024-12-26T01:39:24.613212Z",
     "start_time": "2024-12-26T01:39:24.606700Z"
    }
   },
   "outputs": [
    {
     "data": {
      "text/plain": [
       "(965, 29)"
      ]
     },
     "execution_count": 91,
     "metadata": {},
     "output_type": "execute_result"
    }
   ],
   "execution_count": 91
  },
  {
   "cell_type": "code",
   "source": "y.shape",
   "metadata": {
    "trusted": true,
    "execution": {
     "iopub.status.busy": "2024-12-25T14:59:47.769820Z",
     "iopub.execute_input": "2024-12-25T14:59:47.770192Z",
     "iopub.status.idle": "2024-12-25T14:59:47.776173Z",
     "shell.execute_reply.started": "2024-12-25T14:59:47.770163Z",
     "shell.execute_reply": "2024-12-25T14:59:47.775037Z"
    },
    "ExecuteTime": {
     "end_time": "2024-12-26T01:39:28.599452Z",
     "start_time": "2024-12-26T01:39:28.591669Z"
    }
   },
   "outputs": [
    {
     "data": {
      "text/plain": [
       "(965,)"
      ]
     },
     "execution_count": 92,
     "metadata": {},
     "output_type": "execute_result"
    }
   ],
   "execution_count": 92
  },
  {
   "metadata": {},
   "cell_type": "markdown",
   "source": "Training Data "
  },
  {
   "cell_type": "code",
   "source": "X_train, X_test, y_train, y_test = train_test_split(X, y, test_size=0.2, random_state= 42)",
   "metadata": {
    "trusted": true,
    "execution": {
     "iopub.status.busy": "2024-12-25T14:59:49.065316Z",
     "iopub.execute_input": "2024-12-25T14:59:49.065659Z",
     "iopub.status.idle": "2024-12-25T14:59:49.074081Z",
     "shell.execute_reply.started": "2024-12-25T14:59:49.065630Z",
     "shell.execute_reply": "2024-12-25T14:59:49.072843Z"
    },
    "ExecuteTime": {
     "end_time": "2024-12-26T01:39:29.525498Z",
     "start_time": "2024-12-26T01:39:29.513868Z"
    }
   },
   "outputs": [],
   "execution_count": 93
  },
  {
   "metadata": {},
   "cell_type": "markdown",
   "source": "Modeling"
  },
  {
   "cell_type": "code",
   "source": "modeling = {\n    'Logistic Regresion': LogisticRegression(),\n    'Decision Tree Classifire': DecisionTreeClassifier(),\n}\n\nfor name, clf in modeling.items():\n    print(f\"------- {name} -------\")\n    clf.fit(X_train, y_train)\n    y_pred = clf.predict(X_test)\n    print(f\"accuracy {round(accuracy_score(y_test, y_pred) * 100, 2)}\")\n    print(f\"precision {round(precision_score(y_test, y_pred) * 100, 2)}\")\n    print(f\"recall {round(recall_score(y_test, y_pred) * 100, 2)}\")\n    print(f\"F1 score {round(f1_score(y_test, y_pred) * 100, 2)}\")",
   "metadata": {
    "trusted": true,
    "execution": {
     "iopub.status.busy": "2024-12-25T14:59:54.517480Z",
     "iopub.execute_input": "2024-12-25T14:59:54.517957Z",
     "iopub.status.idle": "2024-12-25T14:59:54.608297Z",
     "shell.execute_reply.started": "2024-12-25T14:59:54.517918Z",
     "shell.execute_reply": "2024-12-25T14:59:54.607089Z"
    },
    "ExecuteTime": {
     "end_time": "2024-12-26T01:39:50.426719Z",
     "start_time": "2024-12-26T01:39:50.304837Z"
    }
   },
   "outputs": [
    {
     "name": "stdout",
     "output_type": "stream",
     "text": [
      "------- Logistic Regresion -------\n",
      "accuracy 92.75\n",
      "precision 97.85\n",
      "recall 88.35\n",
      "F1 score 92.86\n",
      "------- Decision Tree Classifire -------\n",
      "accuracy 91.19\n",
      "precision 93.88\n",
      "recall 89.32\n",
      "F1 score 91.54\n"
     ]
    },
    {
     "name": "stderr",
     "output_type": "stream",
     "text": [
      "C:\\Users\\Rafli\\miniconda3\\Lib\\site-packages\\sklearn\\linear_model\\_logistic.py:469: ConvergenceWarning:\n",
      "\n",
      "lbfgs failed to converge (status=1):\n",
      "STOP: TOTAL NO. of ITERATIONS REACHED LIMIT.\n",
      "\n",
      "Increase the number of iterations (max_iter) or scale the data as shown in:\n",
      "    https://scikit-learn.org/stable/modules/preprocessing.html\n",
      "Please also refer to the documentation for alternative solver options:\n",
      "    https://scikit-learn.org/stable/modules/linear_model.html#logistic-regression\n",
      "\n"
     ]
    }
   ],
   "execution_count": 95
  },
  {
   "cell_type": "code",
   "source": "temp = dt_sample[\"Class\"].value_counts()\ndf = pd.DataFrame({'Class': temp.index,'values': temp.values})\n\ntrace = go.Bar(\n    x = df['Class'],y = df['values'],\n    name=\"Credit Card Fraud Class - data unbalance (Not fraud = 0, Fraud = 1)\",\n    marker=dict(color=\"Green\"),\n    text=df['values']\n)\ndata = [trace]\nlayout = dict(title = 'Credit Card Fraud Class - data unbalance (Not fraud = 0, Fraud = 1)',\n          xaxis = dict(title = 'Class', showticklabels=True), \n          yaxis = dict(title = 'Number of transactions'),\n          hovermode = 'closest',width=600\n         )\nfig = dict(data=data, layout=layout)\niplot(fig, filename='class')",
   "metadata": {
    "trusted": true,
    "execution": {
     "iopub.status.busy": "2024-12-25T15:00:15.609649Z",
     "iopub.execute_input": "2024-12-25T15:00:15.610101Z",
     "iopub.status.idle": "2024-12-25T15:00:15.643211Z",
     "shell.execute_reply.started": "2024-12-25T15:00:15.610067Z",
     "shell.execute_reply": "2024-12-25T15:00:15.641838Z"
    },
    "ExecuteTime": {
     "end_time": "2024-12-26T01:39:51.657290Z",
     "start_time": "2024-12-26T01:39:51.580669Z"
    }
   },
   "outputs": [
    {
     "data": {
      "application/vnd.plotly.v1+json": {
       "data": [
        {
         "marker": {
          "color": "Green"
         },
         "name": "Credit Card Fraud Class - data unbalance (Not fraud = 0, Fraud = 1)",
         "text": [
          492.0,
          473.0
         ],
         "x": [
          1,
          0
         ],
         "y": [
          492,
          473
         ],
         "type": "bar"
        }
       ],
       "layout": {
        "hovermode": "closest",
        "template": {
         "data": {
          "barpolar": [
           {
            "marker": {
             "line": {
              "color": "rgb(17,17,17)",
              "width": 0.5
             },
             "pattern": {
              "fillmode": "overlay",
              "size": 10,
              "solidity": 0.2
             }
            },
            "type": "barpolar"
           }
          ],
          "bar": [
           {
            "error_x": {
             "color": "#f2f5fa"
            },
            "error_y": {
             "color": "#f2f5fa"
            },
            "marker": {
             "line": {
              "color": "rgb(17,17,17)",
              "width": 0.5
             },
             "pattern": {
              "fillmode": "overlay",
              "size": 10,
              "solidity": 0.2
             }
            },
            "type": "bar"
           }
          ],
          "carpet": [
           {
            "aaxis": {
             "endlinecolor": "#A2B1C6",
             "gridcolor": "#506784",
             "linecolor": "#506784",
             "minorgridcolor": "#506784",
             "startlinecolor": "#A2B1C6"
            },
            "baxis": {
             "endlinecolor": "#A2B1C6",
             "gridcolor": "#506784",
             "linecolor": "#506784",
             "minorgridcolor": "#506784",
             "startlinecolor": "#A2B1C6"
            },
            "type": "carpet"
           }
          ],
          "choropleth": [
           {
            "colorbar": {
             "outlinewidth": 0,
             "ticks": ""
            },
            "type": "choropleth"
           }
          ],
          "contourcarpet": [
           {
            "colorbar": {
             "outlinewidth": 0,
             "ticks": ""
            },
            "type": "contourcarpet"
           }
          ],
          "contour": [
           {
            "colorbar": {
             "outlinewidth": 0,
             "ticks": ""
            },
            "colorscale": [
             [
              0.0,
              "#0d0887"
             ],
             [
              0.1111111111111111,
              "#46039f"
             ],
             [
              0.2222222222222222,
              "#7201a8"
             ],
             [
              0.3333333333333333,
              "#9c179e"
             ],
             [
              0.4444444444444444,
              "#bd3786"
             ],
             [
              0.5555555555555556,
              "#d8576b"
             ],
             [
              0.6666666666666666,
              "#ed7953"
             ],
             [
              0.7777777777777778,
              "#fb9f3a"
             ],
             [
              0.8888888888888888,
              "#fdca26"
             ],
             [
              1.0,
              "#f0f921"
             ]
            ],
            "type": "contour"
           }
          ],
          "heatmapgl": [
           {
            "colorbar": {
             "outlinewidth": 0,
             "ticks": ""
            },
            "colorscale": [
             [
              0.0,
              "#0d0887"
             ],
             [
              0.1111111111111111,
              "#46039f"
             ],
             [
              0.2222222222222222,
              "#7201a8"
             ],
             [
              0.3333333333333333,
              "#9c179e"
             ],
             [
              0.4444444444444444,
              "#bd3786"
             ],
             [
              0.5555555555555556,
              "#d8576b"
             ],
             [
              0.6666666666666666,
              "#ed7953"
             ],
             [
              0.7777777777777778,
              "#fb9f3a"
             ],
             [
              0.8888888888888888,
              "#fdca26"
             ],
             [
              1.0,
              "#f0f921"
             ]
            ],
            "type": "heatmapgl"
           }
          ],
          "heatmap": [
           {
            "colorbar": {
             "outlinewidth": 0,
             "ticks": ""
            },
            "colorscale": [
             [
              0.0,
              "#0d0887"
             ],
             [
              0.1111111111111111,
              "#46039f"
             ],
             [
              0.2222222222222222,
              "#7201a8"
             ],
             [
              0.3333333333333333,
              "#9c179e"
             ],
             [
              0.4444444444444444,
              "#bd3786"
             ],
             [
              0.5555555555555556,
              "#d8576b"
             ],
             [
              0.6666666666666666,
              "#ed7953"
             ],
             [
              0.7777777777777778,
              "#fb9f3a"
             ],
             [
              0.8888888888888888,
              "#fdca26"
             ],
             [
              1.0,
              "#f0f921"
             ]
            ],
            "type": "heatmap"
           }
          ],
          "histogram2dcontour": [
           {
            "colorbar": {
             "outlinewidth": 0,
             "ticks": ""
            },
            "colorscale": [
             [
              0.0,
              "#0d0887"
             ],
             [
              0.1111111111111111,
              "#46039f"
             ],
             [
              0.2222222222222222,
              "#7201a8"
             ],
             [
              0.3333333333333333,
              "#9c179e"
             ],
             [
              0.4444444444444444,
              "#bd3786"
             ],
             [
              0.5555555555555556,
              "#d8576b"
             ],
             [
              0.6666666666666666,
              "#ed7953"
             ],
             [
              0.7777777777777778,
              "#fb9f3a"
             ],
             [
              0.8888888888888888,
              "#fdca26"
             ],
             [
              1.0,
              "#f0f921"
             ]
            ],
            "type": "histogram2dcontour"
           }
          ],
          "histogram2d": [
           {
            "colorbar": {
             "outlinewidth": 0,
             "ticks": ""
            },
            "colorscale": [
             [
              0.0,
              "#0d0887"
             ],
             [
              0.1111111111111111,
              "#46039f"
             ],
             [
              0.2222222222222222,
              "#7201a8"
             ],
             [
              0.3333333333333333,
              "#9c179e"
             ],
             [
              0.4444444444444444,
              "#bd3786"
             ],
             [
              0.5555555555555556,
              "#d8576b"
             ],
             [
              0.6666666666666666,
              "#ed7953"
             ],
             [
              0.7777777777777778,
              "#fb9f3a"
             ],
             [
              0.8888888888888888,
              "#fdca26"
             ],
             [
              1.0,
              "#f0f921"
             ]
            ],
            "type": "histogram2d"
           }
          ],
          "histogram": [
           {
            "marker": {
             "pattern": {
              "fillmode": "overlay",
              "size": 10,
              "solidity": 0.2
             }
            },
            "type": "histogram"
           }
          ],
          "mesh3d": [
           {
            "colorbar": {
             "outlinewidth": 0,
             "ticks": ""
            },
            "type": "mesh3d"
           }
          ],
          "parcoords": [
           {
            "line": {
             "colorbar": {
              "outlinewidth": 0,
              "ticks": ""
             }
            },
            "type": "parcoords"
           }
          ],
          "pie": [
           {
            "automargin": true,
            "type": "pie"
           }
          ],
          "scatter3d": [
           {
            "line": {
             "colorbar": {
              "outlinewidth": 0,
              "ticks": ""
             }
            },
            "marker": {
             "colorbar": {
              "outlinewidth": 0,
              "ticks": ""
             }
            },
            "type": "scatter3d"
           }
          ],
          "scattercarpet": [
           {
            "marker": {
             "colorbar": {
              "outlinewidth": 0,
              "ticks": ""
             }
            },
            "type": "scattercarpet"
           }
          ],
          "scattergeo": [
           {
            "marker": {
             "colorbar": {
              "outlinewidth": 0,
              "ticks": ""
             }
            },
            "type": "scattergeo"
           }
          ],
          "scattergl": [
           {
            "marker": {
             "line": {
              "color": "#283442"
             }
            },
            "type": "scattergl"
           }
          ],
          "scattermapbox": [
           {
            "marker": {
             "colorbar": {
              "outlinewidth": 0,
              "ticks": ""
             }
            },
            "type": "scattermapbox"
           }
          ],
          "scatterpolargl": [
           {
            "marker": {
             "colorbar": {
              "outlinewidth": 0,
              "ticks": ""
             }
            },
            "type": "scatterpolargl"
           }
          ],
          "scatterpolar": [
           {
            "marker": {
             "colorbar": {
              "outlinewidth": 0,
              "ticks": ""
             }
            },
            "type": "scatterpolar"
           }
          ],
          "scatter": [
           {
            "marker": {
             "line": {
              "color": "#283442"
             }
            },
            "type": "scatter"
           }
          ],
          "scatterternary": [
           {
            "marker": {
             "colorbar": {
              "outlinewidth": 0,
              "ticks": ""
             }
            },
            "type": "scatterternary"
           }
          ],
          "surface": [
           {
            "colorbar": {
             "outlinewidth": 0,
             "ticks": ""
            },
            "colorscale": [
             [
              0.0,
              "#0d0887"
             ],
             [
              0.1111111111111111,
              "#46039f"
             ],
             [
              0.2222222222222222,
              "#7201a8"
             ],
             [
              0.3333333333333333,
              "#9c179e"
             ],
             [
              0.4444444444444444,
              "#bd3786"
             ],
             [
              0.5555555555555556,
              "#d8576b"
             ],
             [
              0.6666666666666666,
              "#ed7953"
             ],
             [
              0.7777777777777778,
              "#fb9f3a"
             ],
             [
              0.8888888888888888,
              "#fdca26"
             ],
             [
              1.0,
              "#f0f921"
             ]
            ],
            "type": "surface"
           }
          ],
          "table": [
           {
            "cells": {
             "fill": {
              "color": "#506784"
             },
             "line": {
              "color": "rgb(17,17,17)"
             }
            },
            "header": {
             "fill": {
              "color": "#2a3f5f"
             },
             "line": {
              "color": "rgb(17,17,17)"
             }
            },
            "type": "table"
           }
          ]
         },
         "layout": {
          "annotationdefaults": {
           "arrowcolor": "#f2f5fa",
           "arrowhead": 0,
           "arrowwidth": 1
          },
          "autotypenumbers": "strict",
          "coloraxis": {
           "colorbar": {
            "outlinewidth": 0,
            "ticks": ""
           }
          },
          "colorscale": {
           "diverging": [
            [
             0,
             "#8e0152"
            ],
            [
             0.1,
             "#c51b7d"
            ],
            [
             0.2,
             "#de77ae"
            ],
            [
             0.3,
             "#f1b6da"
            ],
            [
             0.4,
             "#fde0ef"
            ],
            [
             0.5,
             "#f7f7f7"
            ],
            [
             0.6,
             "#e6f5d0"
            ],
            [
             0.7,
             "#b8e186"
            ],
            [
             0.8,
             "#7fbc41"
            ],
            [
             0.9,
             "#4d9221"
            ],
            [
             1,
             "#276419"
            ]
           ],
           "sequential": [
            [
             0.0,
             "#0d0887"
            ],
            [
             0.1111111111111111,
             "#46039f"
            ],
            [
             0.2222222222222222,
             "#7201a8"
            ],
            [
             0.3333333333333333,
             "#9c179e"
            ],
            [
             0.4444444444444444,
             "#bd3786"
            ],
            [
             0.5555555555555556,
             "#d8576b"
            ],
            [
             0.6666666666666666,
             "#ed7953"
            ],
            [
             0.7777777777777778,
             "#fb9f3a"
            ],
            [
             0.8888888888888888,
             "#fdca26"
            ],
            [
             1.0,
             "#f0f921"
            ]
           ],
           "sequentialminus": [
            [
             0.0,
             "#0d0887"
            ],
            [
             0.1111111111111111,
             "#46039f"
            ],
            [
             0.2222222222222222,
             "#7201a8"
            ],
            [
             0.3333333333333333,
             "#9c179e"
            ],
            [
             0.4444444444444444,
             "#bd3786"
            ],
            [
             0.5555555555555556,
             "#d8576b"
            ],
            [
             0.6666666666666666,
             "#ed7953"
            ],
            [
             0.7777777777777778,
             "#fb9f3a"
            ],
            [
             0.8888888888888888,
             "#fdca26"
            ],
            [
             1.0,
             "#f0f921"
            ]
           ]
          },
          "colorway": [
           "#636efa",
           "#EF553B",
           "#00cc96",
           "#ab63fa",
           "#FFA15A",
           "#19d3f3",
           "#FF6692",
           "#B6E880",
           "#FF97FF",
           "#FECB52"
          ],
          "font": {
           "color": "#f2f5fa"
          },
          "geo": {
           "bgcolor": "rgb(17,17,17)",
           "lakecolor": "rgb(17,17,17)",
           "landcolor": "rgb(17,17,17)",
           "showlakes": true,
           "showland": true,
           "subunitcolor": "#506784"
          },
          "hoverlabel": {
           "align": "left"
          },
          "hovermode": "closest",
          "mapbox": {
           "style": "dark"
          },
          "paper_bgcolor": "rgb(17,17,17)",
          "plot_bgcolor": "rgb(17,17,17)",
          "polar": {
           "angularaxis": {
            "gridcolor": "#506784",
            "linecolor": "#506784",
            "ticks": ""
           },
           "bgcolor": "rgb(17,17,17)",
           "radialaxis": {
            "gridcolor": "#506784",
            "linecolor": "#506784",
            "ticks": ""
           }
          },
          "scene": {
           "xaxis": {
            "backgroundcolor": "rgb(17,17,17)",
            "gridcolor": "#506784",
            "gridwidth": 2,
            "linecolor": "#506784",
            "showbackground": true,
            "ticks": "",
            "zerolinecolor": "#C8D4E3"
           },
           "yaxis": {
            "backgroundcolor": "rgb(17,17,17)",
            "gridcolor": "#506784",
            "gridwidth": 2,
            "linecolor": "#506784",
            "showbackground": true,
            "ticks": "",
            "zerolinecolor": "#C8D4E3"
           },
           "zaxis": {
            "backgroundcolor": "rgb(17,17,17)",
            "gridcolor": "#506784",
            "gridwidth": 2,
            "linecolor": "#506784",
            "showbackground": true,
            "ticks": "",
            "zerolinecolor": "#C8D4E3"
           }
          },
          "shapedefaults": {
           "line": {
            "color": "#f2f5fa"
           }
          },
          "sliderdefaults": {
           "bgcolor": "#C8D4E3",
           "bordercolor": "rgb(17,17,17)",
           "borderwidth": 1,
           "tickwidth": 0
          },
          "ternary": {
           "aaxis": {
            "gridcolor": "#506784",
            "linecolor": "#506784",
            "ticks": ""
           },
           "baxis": {
            "gridcolor": "#506784",
            "linecolor": "#506784",
            "ticks": ""
           },
           "bgcolor": "rgb(17,17,17)",
           "caxis": {
            "gridcolor": "#506784",
            "linecolor": "#506784",
            "ticks": ""
           }
          },
          "title": {
           "x": 0.05
          },
          "updatemenudefaults": {
           "bgcolor": "#506784",
           "borderwidth": 0
          },
          "xaxis": {
           "automargin": true,
           "gridcolor": "#283442",
           "linecolor": "#506784",
           "ticks": "",
           "title": {
            "standoff": 15
           },
           "zerolinecolor": "#283442",
           "zerolinewidth": 2
          },
          "yaxis": {
           "automargin": true,
           "gridcolor": "#283442",
           "linecolor": "#506784",
           "ticks": "",
           "title": {
            "standoff": 15
           },
           "zerolinecolor": "#283442",
           "zerolinewidth": 2
          }
         }
        },
        "title": {
         "text": "Credit Card Fraud Class - data unbalance (Not fraud = 0, Fraud = 1)"
        },
        "width": 600,
        "xaxis": {
         "showticklabels": true,
         "title": {
          "text": "Class"
         }
        },
        "yaxis": {
         "title": {
          "text": "Number of transactions"
         }
        }
       },
       "config": {
        "showLink": false,
        "linkText": "Export to plot.ly",
        "plotlyServerURL": "https://plot.ly"
       }
      },
      "text/html": [
       "<div>                            <div id=\"491337aa-2947-4d35-93a5-0d537e068dbc\" class=\"plotly-graph-div\" style=\"height:525px; width:600px;\"></div>            <script type=\"text/javascript\">                require([\"plotly\"], function(Plotly) {                    window.PLOTLYENV=window.PLOTLYENV || {};                                    if (document.getElementById(\"491337aa-2947-4d35-93a5-0d537e068dbc\")) {                    Plotly.newPlot(                        \"491337aa-2947-4d35-93a5-0d537e068dbc\",                        [{\"marker\":{\"color\":\"Green\"},\"name\":\"Credit Card Fraud Class - data unbalance (Not fraud = 0, Fraud = 1)\",\"text\":[492.0,473.0],\"x\":[1,0],\"y\":[492,473],\"type\":\"bar\"}],                        {\"hovermode\":\"closest\",\"template\":{\"data\":{\"barpolar\":[{\"marker\":{\"line\":{\"color\":\"rgb(17,17,17)\",\"width\":0.5},\"pattern\":{\"fillmode\":\"overlay\",\"size\":10,\"solidity\":0.2}},\"type\":\"barpolar\"}],\"bar\":[{\"error_x\":{\"color\":\"#f2f5fa\"},\"error_y\":{\"color\":\"#f2f5fa\"},\"marker\":{\"line\":{\"color\":\"rgb(17,17,17)\",\"width\":0.5},\"pattern\":{\"fillmode\":\"overlay\",\"size\":10,\"solidity\":0.2}},\"type\":\"bar\"}],\"carpet\":[{\"aaxis\":{\"endlinecolor\":\"#A2B1C6\",\"gridcolor\":\"#506784\",\"linecolor\":\"#506784\",\"minorgridcolor\":\"#506784\",\"startlinecolor\":\"#A2B1C6\"},\"baxis\":{\"endlinecolor\":\"#A2B1C6\",\"gridcolor\":\"#506784\",\"linecolor\":\"#506784\",\"minorgridcolor\":\"#506784\",\"startlinecolor\":\"#A2B1C6\"},\"type\":\"carpet\"}],\"choropleth\":[{\"colorbar\":{\"outlinewidth\":0,\"ticks\":\"\"},\"type\":\"choropleth\"}],\"contourcarpet\":[{\"colorbar\":{\"outlinewidth\":0,\"ticks\":\"\"},\"type\":\"contourcarpet\"}],\"contour\":[{\"colorbar\":{\"outlinewidth\":0,\"ticks\":\"\"},\"colorscale\":[[0.0,\"#0d0887\"],[0.1111111111111111,\"#46039f\"],[0.2222222222222222,\"#7201a8\"],[0.3333333333333333,\"#9c179e\"],[0.4444444444444444,\"#bd3786\"],[0.5555555555555556,\"#d8576b\"],[0.6666666666666666,\"#ed7953\"],[0.7777777777777778,\"#fb9f3a\"],[0.8888888888888888,\"#fdca26\"],[1.0,\"#f0f921\"]],\"type\":\"contour\"}],\"heatmapgl\":[{\"colorbar\":{\"outlinewidth\":0,\"ticks\":\"\"},\"colorscale\":[[0.0,\"#0d0887\"],[0.1111111111111111,\"#46039f\"],[0.2222222222222222,\"#7201a8\"],[0.3333333333333333,\"#9c179e\"],[0.4444444444444444,\"#bd3786\"],[0.5555555555555556,\"#d8576b\"],[0.6666666666666666,\"#ed7953\"],[0.7777777777777778,\"#fb9f3a\"],[0.8888888888888888,\"#fdca26\"],[1.0,\"#f0f921\"]],\"type\":\"heatmapgl\"}],\"heatmap\":[{\"colorbar\":{\"outlinewidth\":0,\"ticks\":\"\"},\"colorscale\":[[0.0,\"#0d0887\"],[0.1111111111111111,\"#46039f\"],[0.2222222222222222,\"#7201a8\"],[0.3333333333333333,\"#9c179e\"],[0.4444444444444444,\"#bd3786\"],[0.5555555555555556,\"#d8576b\"],[0.6666666666666666,\"#ed7953\"],[0.7777777777777778,\"#fb9f3a\"],[0.8888888888888888,\"#fdca26\"],[1.0,\"#f0f921\"]],\"type\":\"heatmap\"}],\"histogram2dcontour\":[{\"colorbar\":{\"outlinewidth\":0,\"ticks\":\"\"},\"colorscale\":[[0.0,\"#0d0887\"],[0.1111111111111111,\"#46039f\"],[0.2222222222222222,\"#7201a8\"],[0.3333333333333333,\"#9c179e\"],[0.4444444444444444,\"#bd3786\"],[0.5555555555555556,\"#d8576b\"],[0.6666666666666666,\"#ed7953\"],[0.7777777777777778,\"#fb9f3a\"],[0.8888888888888888,\"#fdca26\"],[1.0,\"#f0f921\"]],\"type\":\"histogram2dcontour\"}],\"histogram2d\":[{\"colorbar\":{\"outlinewidth\":0,\"ticks\":\"\"},\"colorscale\":[[0.0,\"#0d0887\"],[0.1111111111111111,\"#46039f\"],[0.2222222222222222,\"#7201a8\"],[0.3333333333333333,\"#9c179e\"],[0.4444444444444444,\"#bd3786\"],[0.5555555555555556,\"#d8576b\"],[0.6666666666666666,\"#ed7953\"],[0.7777777777777778,\"#fb9f3a\"],[0.8888888888888888,\"#fdca26\"],[1.0,\"#f0f921\"]],\"type\":\"histogram2d\"}],\"histogram\":[{\"marker\":{\"pattern\":{\"fillmode\":\"overlay\",\"size\":10,\"solidity\":0.2}},\"type\":\"histogram\"}],\"mesh3d\":[{\"colorbar\":{\"outlinewidth\":0,\"ticks\":\"\"},\"type\":\"mesh3d\"}],\"parcoords\":[{\"line\":{\"colorbar\":{\"outlinewidth\":0,\"ticks\":\"\"}},\"type\":\"parcoords\"}],\"pie\":[{\"automargin\":true,\"type\":\"pie\"}],\"scatter3d\":[{\"line\":{\"colorbar\":{\"outlinewidth\":0,\"ticks\":\"\"}},\"marker\":{\"colorbar\":{\"outlinewidth\":0,\"ticks\":\"\"}},\"type\":\"scatter3d\"}],\"scattercarpet\":[{\"marker\":{\"colorbar\":{\"outlinewidth\":0,\"ticks\":\"\"}},\"type\":\"scattercarpet\"}],\"scattergeo\":[{\"marker\":{\"colorbar\":{\"outlinewidth\":0,\"ticks\":\"\"}},\"type\":\"scattergeo\"}],\"scattergl\":[{\"marker\":{\"line\":{\"color\":\"#283442\"}},\"type\":\"scattergl\"}],\"scattermapbox\":[{\"marker\":{\"colorbar\":{\"outlinewidth\":0,\"ticks\":\"\"}},\"type\":\"scattermapbox\"}],\"scatterpolargl\":[{\"marker\":{\"colorbar\":{\"outlinewidth\":0,\"ticks\":\"\"}},\"type\":\"scatterpolargl\"}],\"scatterpolar\":[{\"marker\":{\"colorbar\":{\"outlinewidth\":0,\"ticks\":\"\"}},\"type\":\"scatterpolar\"}],\"scatter\":[{\"marker\":{\"line\":{\"color\":\"#283442\"}},\"type\":\"scatter\"}],\"scatterternary\":[{\"marker\":{\"colorbar\":{\"outlinewidth\":0,\"ticks\":\"\"}},\"type\":\"scatterternary\"}],\"surface\":[{\"colorbar\":{\"outlinewidth\":0,\"ticks\":\"\"},\"colorscale\":[[0.0,\"#0d0887\"],[0.1111111111111111,\"#46039f\"],[0.2222222222222222,\"#7201a8\"],[0.3333333333333333,\"#9c179e\"],[0.4444444444444444,\"#bd3786\"],[0.5555555555555556,\"#d8576b\"],[0.6666666666666666,\"#ed7953\"],[0.7777777777777778,\"#fb9f3a\"],[0.8888888888888888,\"#fdca26\"],[1.0,\"#f0f921\"]],\"type\":\"surface\"}],\"table\":[{\"cells\":{\"fill\":{\"color\":\"#506784\"},\"line\":{\"color\":\"rgb(17,17,17)\"}},\"header\":{\"fill\":{\"color\":\"#2a3f5f\"},\"line\":{\"color\":\"rgb(17,17,17)\"}},\"type\":\"table\"}]},\"layout\":{\"annotationdefaults\":{\"arrowcolor\":\"#f2f5fa\",\"arrowhead\":0,\"arrowwidth\":1},\"autotypenumbers\":\"strict\",\"coloraxis\":{\"colorbar\":{\"outlinewidth\":0,\"ticks\":\"\"}},\"colorscale\":{\"diverging\":[[0,\"#8e0152\"],[0.1,\"#c51b7d\"],[0.2,\"#de77ae\"],[0.3,\"#f1b6da\"],[0.4,\"#fde0ef\"],[0.5,\"#f7f7f7\"],[0.6,\"#e6f5d0\"],[0.7,\"#b8e186\"],[0.8,\"#7fbc41\"],[0.9,\"#4d9221\"],[1,\"#276419\"]],\"sequential\":[[0.0,\"#0d0887\"],[0.1111111111111111,\"#46039f\"],[0.2222222222222222,\"#7201a8\"],[0.3333333333333333,\"#9c179e\"],[0.4444444444444444,\"#bd3786\"],[0.5555555555555556,\"#d8576b\"],[0.6666666666666666,\"#ed7953\"],[0.7777777777777778,\"#fb9f3a\"],[0.8888888888888888,\"#fdca26\"],[1.0,\"#f0f921\"]],\"sequentialminus\":[[0.0,\"#0d0887\"],[0.1111111111111111,\"#46039f\"],[0.2222222222222222,\"#7201a8\"],[0.3333333333333333,\"#9c179e\"],[0.4444444444444444,\"#bd3786\"],[0.5555555555555556,\"#d8576b\"],[0.6666666666666666,\"#ed7953\"],[0.7777777777777778,\"#fb9f3a\"],[0.8888888888888888,\"#fdca26\"],[1.0,\"#f0f921\"]]},\"colorway\":[\"#636efa\",\"#EF553B\",\"#00cc96\",\"#ab63fa\",\"#FFA15A\",\"#19d3f3\",\"#FF6692\",\"#B6E880\",\"#FF97FF\",\"#FECB52\"],\"font\":{\"color\":\"#f2f5fa\"},\"geo\":{\"bgcolor\":\"rgb(17,17,17)\",\"lakecolor\":\"rgb(17,17,17)\",\"landcolor\":\"rgb(17,17,17)\",\"showlakes\":true,\"showland\":true,\"subunitcolor\":\"#506784\"},\"hoverlabel\":{\"align\":\"left\"},\"hovermode\":\"closest\",\"mapbox\":{\"style\":\"dark\"},\"paper_bgcolor\":\"rgb(17,17,17)\",\"plot_bgcolor\":\"rgb(17,17,17)\",\"polar\":{\"angularaxis\":{\"gridcolor\":\"#506784\",\"linecolor\":\"#506784\",\"ticks\":\"\"},\"bgcolor\":\"rgb(17,17,17)\",\"radialaxis\":{\"gridcolor\":\"#506784\",\"linecolor\":\"#506784\",\"ticks\":\"\"}},\"scene\":{\"xaxis\":{\"backgroundcolor\":\"rgb(17,17,17)\",\"gridcolor\":\"#506784\",\"gridwidth\":2,\"linecolor\":\"#506784\",\"showbackground\":true,\"ticks\":\"\",\"zerolinecolor\":\"#C8D4E3\"},\"yaxis\":{\"backgroundcolor\":\"rgb(17,17,17)\",\"gridcolor\":\"#506784\",\"gridwidth\":2,\"linecolor\":\"#506784\",\"showbackground\":true,\"ticks\":\"\",\"zerolinecolor\":\"#C8D4E3\"},\"zaxis\":{\"backgroundcolor\":\"rgb(17,17,17)\",\"gridcolor\":\"#506784\",\"gridwidth\":2,\"linecolor\":\"#506784\",\"showbackground\":true,\"ticks\":\"\",\"zerolinecolor\":\"#C8D4E3\"}},\"shapedefaults\":{\"line\":{\"color\":\"#f2f5fa\"}},\"sliderdefaults\":{\"bgcolor\":\"#C8D4E3\",\"bordercolor\":\"rgb(17,17,17)\",\"borderwidth\":1,\"tickwidth\":0},\"ternary\":{\"aaxis\":{\"gridcolor\":\"#506784\",\"linecolor\":\"#506784\",\"ticks\":\"\"},\"baxis\":{\"gridcolor\":\"#506784\",\"linecolor\":\"#506784\",\"ticks\":\"\"},\"bgcolor\":\"rgb(17,17,17)\",\"caxis\":{\"gridcolor\":\"#506784\",\"linecolor\":\"#506784\",\"ticks\":\"\"}},\"title\":{\"x\":0.05},\"updatemenudefaults\":{\"bgcolor\":\"#506784\",\"borderwidth\":0},\"xaxis\":{\"automargin\":true,\"gridcolor\":\"#283442\",\"linecolor\":\"#506784\",\"ticks\":\"\",\"title\":{\"standoff\":15},\"zerolinecolor\":\"#283442\",\"zerolinewidth\":2},\"yaxis\":{\"automargin\":true,\"gridcolor\":\"#283442\",\"linecolor\":\"#506784\",\"ticks\":\"\",\"title\":{\"standoff\":15},\"zerolinecolor\":\"#283442\",\"zerolinewidth\":2}}},\"title\":{\"text\":\"Credit Card Fraud Class - data unbalance (Not fraud = 0, Fraud = 1)\"},\"width\":600,\"xaxis\":{\"showticklabels\":true,\"title\":{\"text\":\"Class\"}},\"yaxis\":{\"title\":{\"text\":\"Number of transactions\"}}},                        {\"responsive\": true}                    ).then(function(){\n",
       "                            \n",
       "var gd = document.getElementById('491337aa-2947-4d35-93a5-0d537e068dbc');\n",
       "var x = new MutationObserver(function (mutations, observer) {{\n",
       "        var display = window.getComputedStyle(gd).display;\n",
       "        if (!display || display === 'none') {{\n",
       "            console.log([gd, 'removed!']);\n",
       "            Plotly.purge(gd);\n",
       "            observer.disconnect();\n",
       "        }}\n",
       "}});\n",
       "\n",
       "// Listen for the removal of the full notebook cells\n",
       "var notebookContainer = gd.closest('#notebook-container');\n",
       "if (notebookContainer) {{\n",
       "    x.observe(notebookContainer, {childList: true});\n",
       "}}\n",
       "\n",
       "// Listen for the clearing of the current output cell\n",
       "var outputEl = gd.closest('.output');\n",
       "if (outputEl) {{\n",
       "    x.observe(outputEl, {childList: true});\n",
       "}}\n",
       "\n",
       "                        })                };                });            </script>        </div>"
      ]
     },
     "metadata": {},
     "output_type": "display_data"
    }
   ],
   "execution_count": 96
  },
  {
   "cell_type": "code",
   "source": "fig, (ax1, ax2) = plt.subplots(ncols=2, figsize=(12,6))\ns = sns.boxplot(ax = ax1, x=\"Class\", y=\"Amount\", hue=\"Class\",data=dt_sample, palette=\"PRGn\",showfliers=True)\ns = sns.boxplot(ax = ax2, x=\"Class\", y=\"Amount\", hue=\"Class\",data=dt_sample, palette=\"PRGn\",showfliers=False)\nplt.show();",
   "metadata": {
    "trusted": true,
    "execution": {
     "iopub.status.busy": "2024-12-25T15:00:30.082380Z",
     "iopub.execute_input": "2024-12-25T15:00:30.082939Z",
     "iopub.status.idle": "2024-12-25T15:00:30.430959Z",
     "shell.execute_reply.started": "2024-12-25T15:00:30.082900Z",
     "shell.execute_reply": "2024-12-25T15:00:30.429741Z"
    },
    "ExecuteTime": {
     "end_time": "2024-12-26T01:39:52.880138Z",
     "start_time": "2024-12-26T01:39:52.373001Z"
    }
   },
   "outputs": [
    {
     "data": {
      "text/plain": [
       "<Figure size 1200x600 with 2 Axes>"
      ],
      "image/png": "[encoded data removed]"
     },
     "metadata": {},
     "output_type": "display_data"
    }
   ],
   "execution_count": 97
  },
  {
   "cell_type": "code",
   "source": "dt_sample",
   "metadata": {
    "trusted": true,
    "execution": {
     "iopub.status.busy": "2024-12-25T15:00:31.988130Z",
     "iopub.execute_input": "2024-12-25T15:00:31.988465Z",
     "iopub.status.idle": "2024-12-25T15:00:32.021973Z",
     "shell.execute_reply.started": "2024-12-25T15:00:31.988438Z",
     "shell.execute_reply": "2024-12-25T15:00:32.020541Z"
    },
    "ExecuteTime": {
     "end_time": "2024-12-26T01:39:53.040484Z",
     "start_time": "2024-12-26T01:39:52.934584Z"
    }
   },
   "outputs": [
    {
     "data": {
      "text/plain": [
       "           V1        V2        V3        V4        V5        V6        V7  \\\n",
       "0    1.528098 -1.215243 -1.044582 -0.082178  0.247343  1.867128 -0.725718   \n",
       "1    2.106911 -0.055489 -1.378199  0.227106  0.288465 -0.685444  0.177045   \n",
       "2    2.127342 -0.985106 -2.642821 -1.226925  1.894141  3.532282 -0.918524   \n",
       "3   -0.350214  0.948981  2.397142  4.554145 -0.170784  0.899240 -0.460957   \n",
       "4    1.011290 -0.639840  0.277260  0.651296 -1.072497 -1.042796  0.041717   \n",
       "..        ...       ...       ...       ...       ...       ...       ...   \n",
       "960 -1.927883  1.125653 -4.518331  1.749293 -1.566487 -2.010494 -0.882850   \n",
       "961  1.378559  1.289381 -5.004247  1.411850  0.442581 -1.326536 -1.413170   \n",
       "962 -0.676143  1.126366 -2.213700  0.468308 -1.120541 -0.003346 -2.234739   \n",
       "963 -3.113832  0.585864 -5.399730  1.817092 -0.840618 -2.943548 -2.208002   \n",
       "964  1.991976  0.158476 -2.583441  0.408670  1.151147 -0.096695  0.223050   \n",
       "\n",
       "           V8        V9       V10       V11       V12       V13       V14  \\\n",
       "0    0.539660  0.796085 -0.003482  0.924519  0.992734  0.370734  0.155411   \n",
       "1   -0.279667  0.540941  0.055904 -1.313578  0.387261  0.531492  0.168204   \n",
       "2    0.784548 -0.168647  0.686446 -0.577523  0.216885 -0.052374  0.172821   \n",
       "3    0.454855 -1.024312  1.562301 -1.422292 -1.225788 -0.858847 -0.077833   \n",
       "4   -0.320749 -1.132992  0.741836 -0.304339  0.080963  0.402424  0.265452   \n",
       "..        ...       ...       ...       ...       ...       ...       ...   \n",
       "960  0.697211 -2.064945 -5.587794  2.115795 -5.417424 -1.235123 -6.665177   \n",
       "961  0.248525 -1.127396 -3.232153  2.858466 -3.096915 -0.792532 -5.210141   \n",
       "962  1.210158 -0.652250 -3.463891  1.794969 -2.775022 -0.418950 -4.057162   \n",
       "963  1.058733 -1.632333 -5.245984  1.933520 -5.030465 -1.127455 -6.416628   \n",
       "964 -0.068384  0.577829 -0.888722  0.491140  0.728903  0.380428 -1.948883   \n",
       "\n",
       "          V15       V16       V17       V18       V19       V20       V21  \\\n",
       "0    1.040859  0.102921 -0.343489 -0.509179 -0.946560  0.186622  0.377079   \n",
       "1    0.105965  0.042299 -0.527630 -0.751741  0.358687 -0.183986 -0.329417   \n",
       "2   -0.267051 -2.344252  0.119985  0.876348 -0.724164 -0.584228 -0.202012   \n",
       "3    1.013106  0.280624  0.112166  0.563928  0.915420  0.324472  0.082458   \n",
       "4    0.748946 -1.535669 -0.054289  1.102138 -1.308966 -0.212864 -0.210765   \n",
       "..        ...       ...       ...       ...       ...       ...       ...   \n",
       "960  0.401701 -2.897825 -4.570529 -1.315147  0.391167  1.252967  0.778584   \n",
       "961 -0.613803 -2.155297 -3.267116 -0.688505  0.737657  0.226138  0.370612   \n",
       "962 -0.712616 -1.603015 -5.035326 -0.507000  0.266272  0.247968  0.751826   \n",
       "963  0.141237 -2.549498 -4.614717 -1.478138 -0.035480  0.306271  0.583276   \n",
       "964 -0.832498  0.519436  0.903562  1.197315  0.593509 -0.017652 -0.164350   \n",
       "\n",
       "          V22       V23       V24       V25       V26       V27       V28  \\\n",
       "0    0.835370  0.043433 -0.878826 -0.550259  0.712189 -0.030826 -0.035430   \n",
       "1   -0.788008  0.248655 -0.766063 -0.200525  0.247097 -0.066382 -0.067455   \n",
       "2    0.103763  0.072179  0.715778  0.312266 -0.034087  0.036369 -0.062140   \n",
       "3    0.361202  0.098813 -0.070926 -0.950211  0.253753  0.488939  0.273428   \n",
       "4   -0.463320 -0.124757  0.692987  0.477346 -0.365182  0.009661  0.057693   \n",
       "..        ...       ...       ...       ...       ...       ...       ...   \n",
       "960 -0.319189  0.639419 -0.294885  0.537503  0.788395  0.292680  0.147968   \n",
       "961  0.028234 -0.145640 -0.081049  0.521875  0.739467  0.389152  0.186637   \n",
       "962  0.834108  0.190944  0.032070 -0.739695  0.471111  0.385107  0.194361   \n",
       "963 -0.269209 -0.456108 -0.183659 -0.328168  0.606116  0.884876 -0.253700   \n",
       "964 -0.295135 -0.072173 -0.450261  0.313267 -0.289617  0.002988 -0.015309   \n",
       "\n",
       "     Amount  Class  \n",
       "0    199.50      0  \n",
       "1      1.98      0  \n",
       "2     11.50      0  \n",
       "3     13.65      0  \n",
       "4    170.93      0  \n",
       "..      ...    ...  \n",
       "960  390.00      1  \n",
       "961    0.76      1  \n",
       "962   77.89      1  \n",
       "963  245.00      1  \n",
       "964   42.53      1  \n",
       "\n",
       "[965 rows x 30 columns]"
      ],
      "text/html": [
       "<div>\n",
       "<style scoped>\n",
       "    .dataframe tbody tr th:only-of-type {\n",
       "        vertical-align: middle;\n",
       "    }\n",
       "\n",
       "    .dataframe tbody tr th {\n",
       "        vertical-align: top;\n",
       "    }\n",
       "\n",
       "    .dataframe thead th {\n",
       "        text-align: right;\n",
       "    }\n",
       "</style>\n",
       "<table border=\"1\" class=\"dataframe\">\n",
       "  <thead>\n",
       "    <tr style=\"text-align: right;\">\n",
       "      <th></th>\n",
       "      <th>V1</th>\n",
       "      <th>V2</th>\n",
       "      <th>V3</th>\n",
       "      <th>V4</th>\n",
       "      <th>V5</th>\n",
       "      <th>V6</th>\n",
       "      <th>V7</th>\n",
       "      <th>V8</th>\n",
       "      <th>V9</th>\n",
       "      <th>V10</th>\n",
       "      <th>V11</th>\n",
       "      <th>V12</th>\n",
       "      <th>V13</th>\n",
       "      <th>V14</th>\n",
       "      <th>V15</th>\n",
       "      <th>V16</th>\n",
       "      <th>V17</th>\n",
       "      <th>V18</th>\n",
       "      <th>V19</th>\n",
       "      <th>V20</th>\n",
       "      <th>V21</th>\n",
       "      <th>V22</th>\n",
       "      <th>V23</th>\n",
       "      <th>V24</th>\n",
       "      <th>V25</th>\n",
       "      <th>V26</th>\n",
       "      <th>V27</th>\n",
       "      <th>V28</th>\n",
       "      <th>Amount</th>\n",
       "      <th>Class</th>\n",
       "    </tr>\n",
       "  </thead>\n",
       "  <tbody>\n",
       "    <tr>\n",
       "      <th>0</th>\n",
       "      <td>1.528098</td>\n",
       "      <td>-1.215243</td>\n",
       "      <td>-1.044582</td>\n",
       "      <td>-0.082178</td>\n",
       "      <td>0.247343</td>\n",
       "      <td>1.867128</td>\n",
       "      <td>-0.725718</td>\n",
       "      <td>0.539660</td>\n",
       "      <td>0.796085</td>\n",
       "      <td>-0.003482</td>\n",
       "      <td>0.924519</td>\n",
       "      <td>0.992734</td>\n",
       "      <td>0.370734</td>\n",
       "      <td>0.155411</td>\n",
       "      <td>1.040859</td>\n",
       "      <td>0.102921</td>\n",
       "      <td>-0.343489</td>\n",
       "      <td>-0.509179</td>\n",
       "      <td>-0.946560</td>\n",
       "      <td>0.186622</td>\n",
       "      <td>0.377079</td>\n",
       "      <td>0.835370</td>\n",
       "      <td>0.043433</td>\n",
       "      <td>-0.878826</td>\n",
       "      <td>-0.550259</td>\n",
       "      <td>0.712189</td>\n",
       "      <td>-0.030826</td>\n",
       "      <td>-0.035430</td>\n",
       "      <td>199.50</td>\n",
       "      <td>0</td>\n",
       "    </tr>\n",
       "    <tr>\n",
       "      <th>1</th>\n",
       "      <td>2.106911</td>\n",
       "      <td>-0.055489</td>\n",
       "      <td>-1.378199</td>\n",
       "      <td>0.227106</td>\n",
       "      <td>0.288465</td>\n",
       "      <td>-0.685444</td>\n",
       "      <td>0.177045</td>\n",
       "      <td>-0.279667</td>\n",
       "      <td>0.540941</td>\n",
       "      <td>0.055904</td>\n",
       "      <td>-1.313578</td>\n",
       "      <td>0.387261</td>\n",
       "      <td>0.531492</td>\n",
       "      <td>0.168204</td>\n",
       "      <td>0.105965</td>\n",
       "      <td>0.042299</td>\n",
       "      <td>-0.527630</td>\n",
       "      <td>-0.751741</td>\n",
       "      <td>0.358687</td>\n",
       "      <td>-0.183986</td>\n",
       "      <td>-0.329417</td>\n",
       "      <td>-0.788008</td>\n",
       "      <td>0.248655</td>\n",
       "      <td>-0.766063</td>\n",
       "      <td>-0.200525</td>\n",
       "      <td>0.247097</td>\n",
       "      <td>-0.066382</td>\n",
       "      <td>-0.067455</td>\n",
       "      <td>1.98</td>\n",
       "      <td>0</td>\n",
       "    </tr>\n",
       "    <tr>\n",
       "      <th>2</th>\n",
       "      <td>2.127342</td>\n",
       "      <td>-0.985106</td>\n",
       "      <td>-2.642821</td>\n",
       "      <td>-1.226925</td>\n",
       "      <td>1.894141</td>\n",
       "      <td>3.532282</td>\n",
       "      <td>-0.918524</td>\n",
       "      <td>0.784548</td>\n",
       "      <td>-0.168647</td>\n",
       "      <td>0.686446</td>\n",
       "      <td>-0.577523</td>\n",
       "      <td>0.216885</td>\n",
       "      <td>-0.052374</td>\n",
       "      <td>0.172821</td>\n",
       "      <td>-0.267051</td>\n",
       "      <td>-2.344252</td>\n",
       "      <td>0.119985</td>\n",
       "      <td>0.876348</td>\n",
       "      <td>-0.724164</td>\n",
       "      <td>-0.584228</td>\n",
       "      <td>-0.202012</td>\n",
       "      <td>0.103763</td>\n",
       "      <td>0.072179</td>\n",
       "      <td>0.715778</td>\n",
       "      <td>0.312266</td>\n",
       "      <td>-0.034087</td>\n",
       "      <td>0.036369</td>\n",
       "      <td>-0.062140</td>\n",
       "      <td>11.50</td>\n",
       "      <td>0</td>\n",
       "    </tr>\n",
       "    <tr>\n",
       "      <th>3</th>\n",
       "      <td>-0.350214</td>\n",
       "      <td>0.948981</td>\n",
       "      <td>2.397142</td>\n",
       "      <td>4.554145</td>\n",
       "      <td>-0.170784</td>\n",
       "      <td>0.899240</td>\n",
       "      <td>-0.460957</td>\n",
       "      <td>0.454855</td>\n",
       "      <td>-1.024312</td>\n",
       "      <td>1.562301</td>\n",
       "      <td>-1.422292</td>\n",
       "      <td>-1.225788</td>\n",
       "      <td>-0.858847</td>\n",
       "      <td>-0.077833</td>\n",
       "      <td>1.013106</td>\n",
       "      <td>0.280624</td>\n",
       "      <td>0.112166</td>\n",
       "      <td>0.563928</td>\n",
       "      <td>0.915420</td>\n",
       "      <td>0.324472</td>\n",
       "      <td>0.082458</td>\n",
       "      <td>0.361202</td>\n",
       "      <td>0.098813</td>\n",
       "      <td>-0.070926</td>\n",
       "      <td>-0.950211</td>\n",
       "      <td>0.253753</td>\n",
       "      <td>0.488939</td>\n",
       "      <td>0.273428</td>\n",
       "      <td>13.65</td>\n",
       "      <td>0</td>\n",
       "    </tr>\n",
       "    <tr>\n",
       "      <th>4</th>\n",
       "      <td>1.011290</td>\n",
       "      <td>-0.639840</td>\n",
       "      <td>0.277260</td>\n",
       "      <td>0.651296</td>\n",
       "      <td>-1.072497</td>\n",
       "      <td>-1.042796</td>\n",
       "      <td>0.041717</td>\n",
       "      <td>-0.320749</td>\n",
       "      <td>-1.132992</td>\n",
       "      <td>0.741836</td>\n",
       "      <td>-0.304339</td>\n",
       "      <td>0.080963</td>\n",
       "      <td>0.402424</td>\n",
       "      <td>0.265452</td>\n",
       "      <td>0.748946</td>\n",
       "      <td>-1.535669</td>\n",
       "      <td>-0.054289</td>\n",
       "      <td>1.102138</td>\n",
       "      <td>-1.308966</td>\n",
       "      <td>-0.212864</td>\n",
       "      <td>-0.210765</td>\n",
       "      <td>-0.463320</td>\n",
       "      <td>-0.124757</td>\n",
       "      <td>0.692987</td>\n",
       "      <td>0.477346</td>\n",
       "      <td>-0.365182</td>\n",
       "      <td>0.009661</td>\n",
       "      <td>0.057693</td>\n",
       "      <td>170.93</td>\n",
       "      <td>0</td>\n",
       "    </tr>\n",
       "    <tr>\n",
       "      <th>...</th>\n",
       "      <td>...</td>\n",
       "      <td>...</td>\n",
       "      <td>...</td>\n",
       "      <td>...</td>\n",
       "      <td>...</td>\n",
       "      <td>...</td>\n",
       "      <td>...</td>\n",
       "      <td>...</td>\n",
       "      <td>...</td>\n",
       "      <td>...</td>\n",
       "      <td>...</td>\n",
       "      <td>...</td>\n",
       "      <td>...</td>\n",
       "      <td>...</td>\n",
       "      <td>...</td>\n",
       "      <td>...</td>\n",
       "      <td>...</td>\n",
       "      <td>...</td>\n",
       "      <td>...</td>\n",
       "      <td>...</td>\n",
       "      <td>...</td>\n",
       "      <td>...</td>\n",
       "      <td>...</td>\n",
       "      <td>...</td>\n",
       "      <td>...</td>\n",
       "      <td>...</td>\n",
       "      <td>...</td>\n",
       "      <td>...</td>\n",
       "      <td>...</td>\n",
       "      <td>...</td>\n",
       "    </tr>\n",
       "    <tr>\n",
       "      <th>960</th>\n",
       "      <td>-1.927883</td>\n",
       "      <td>1.125653</td>\n",
       "      <td>-4.518331</td>\n",
       "      <td>1.749293</td>\n",
       "      <td>-1.566487</td>\n",
       "      <td>-2.010494</td>\n",
       "      <td>-0.882850</td>\n",
       "      <td>0.697211</td>\n",
       "      <td>-2.064945</td>\n",
       "      <td>-5.587794</td>\n",
       "      <td>2.115795</td>\n",
       "      <td>-5.417424</td>\n",
       "      <td>-1.235123</td>\n",
       "      <td>-6.665177</td>\n",
       "      <td>0.401701</td>\n",
       "      <td>-2.897825</td>\n",
       "      <td>-4.570529</td>\n",
       "      <td>-1.315147</td>\n",
       "      <td>0.391167</td>\n",
       "      <td>1.252967</td>\n",
       "      <td>0.778584</td>\n",
       "      <td>-0.319189</td>\n",
       "      <td>0.639419</td>\n",
       "      <td>-0.294885</td>\n",
       "      <td>0.537503</td>\n",
       "      <td>0.788395</td>\n",
       "      <td>0.292680</td>\n",
       "      <td>0.147968</td>\n",
       "      <td>390.00</td>\n",
       "      <td>1</td>\n",
       "    </tr>\n",
       "    <tr>\n",
       "      <th>961</th>\n",
       "      <td>1.378559</td>\n",
       "      <td>1.289381</td>\n",
       "      <td>-5.004247</td>\n",
       "      <td>1.411850</td>\n",
       "      <td>0.442581</td>\n",
       "      <td>-1.326536</td>\n",
       "      <td>-1.413170</td>\n",
       "      <td>0.248525</td>\n",
       "      <td>-1.127396</td>\n",
       "      <td>-3.232153</td>\n",
       "      <td>2.858466</td>\n",
       "      <td>-3.096915</td>\n",
       "      <td>-0.792532</td>\n",
       "      <td>-5.210141</td>\n",
       "      <td>-0.613803</td>\n",
       "      <td>-2.155297</td>\n",
       "      <td>-3.267116</td>\n",
       "      <td>-0.688505</td>\n",
       "      <td>0.737657</td>\n",
       "      <td>0.226138</td>\n",
       "      <td>0.370612</td>\n",
       "      <td>0.028234</td>\n",
       "      <td>-0.145640</td>\n",
       "      <td>-0.081049</td>\n",
       "      <td>0.521875</td>\n",
       "      <td>0.739467</td>\n",
       "      <td>0.389152</td>\n",
       "      <td>0.186637</td>\n",
       "      <td>0.76</td>\n",
       "      <td>1</td>\n",
       "    </tr>\n",
       "    <tr>\n",
       "      <th>962</th>\n",
       "      <td>-0.676143</td>\n",
       "      <td>1.126366</td>\n",
       "      <td>-2.213700</td>\n",
       "      <td>0.468308</td>\n",
       "      <td>-1.120541</td>\n",
       "      <td>-0.003346</td>\n",
       "      <td>-2.234739</td>\n",
       "      <td>1.210158</td>\n",
       "      <td>-0.652250</td>\n",
       "      <td>-3.463891</td>\n",
       "      <td>1.794969</td>\n",
       "      <td>-2.775022</td>\n",
       "      <td>-0.418950</td>\n",
       "      <td>-4.057162</td>\n",
       "      <td>-0.712616</td>\n",
       "      <td>-1.603015</td>\n",
       "      <td>-5.035326</td>\n",
       "      <td>-0.507000</td>\n",
       "      <td>0.266272</td>\n",
       "      <td>0.247968</td>\n",
       "      <td>0.751826</td>\n",
       "      <td>0.834108</td>\n",
       "      <td>0.190944</td>\n",
       "      <td>0.032070</td>\n",
       "      <td>-0.739695</td>\n",
       "      <td>0.471111</td>\n",
       "      <td>0.385107</td>\n",
       "      <td>0.194361</td>\n",
       "      <td>77.89</td>\n",
       "      <td>1</td>\n",
       "    </tr>\n",
       "    <tr>\n",
       "      <th>963</th>\n",
       "      <td>-3.113832</td>\n",
       "      <td>0.585864</td>\n",
       "      <td>-5.399730</td>\n",
       "      <td>1.817092</td>\n",
       "      <td>-0.840618</td>\n",
       "      <td>-2.943548</td>\n",
       "      <td>-2.208002</td>\n",
       "      <td>1.058733</td>\n",
       "      <td>-1.632333</td>\n",
       "      <td>-5.245984</td>\n",
       "      <td>1.933520</td>\n",
       "      <td>-5.030465</td>\n",
       "      <td>-1.127455</td>\n",
       "      <td>-6.416628</td>\n",
       "      <td>0.141237</td>\n",
       "      <td>-2.549498</td>\n",
       "      <td>-4.614717</td>\n",
       "      <td>-1.478138</td>\n",
       "      <td>-0.035480</td>\n",
       "      <td>0.306271</td>\n",
       "      <td>0.583276</td>\n",
       "      <td>-0.269209</td>\n",
       "      <td>-0.456108</td>\n",
       "      <td>-0.183659</td>\n",
       "      <td>-0.328168</td>\n",
       "      <td>0.606116</td>\n",
       "      <td>0.884876</td>\n",
       "      <td>-0.253700</td>\n",
       "      <td>245.00</td>\n",
       "      <td>1</td>\n",
       "    </tr>\n",
       "    <tr>\n",
       "      <th>964</th>\n",
       "      <td>1.991976</td>\n",
       "      <td>0.158476</td>\n",
       "      <td>-2.583441</td>\n",
       "      <td>0.408670</td>\n",
       "      <td>1.151147</td>\n",
       "      <td>-0.096695</td>\n",
       "      <td>0.223050</td>\n",
       "      <td>-0.068384</td>\n",
       "      <td>0.577829</td>\n",
       "      <td>-0.888722</td>\n",
       "      <td>0.491140</td>\n",
       "      <td>0.728903</td>\n",
       "      <td>0.380428</td>\n",
       "      <td>-1.948883</td>\n",
       "      <td>-0.832498</td>\n",
       "      <td>0.519436</td>\n",
       "      <td>0.903562</td>\n",
       "      <td>1.197315</td>\n",
       "      <td>0.593509</td>\n",
       "      <td>-0.017652</td>\n",
       "      <td>-0.164350</td>\n",
       "      <td>-0.295135</td>\n",
       "      <td>-0.072173</td>\n",
       "      <td>-0.450261</td>\n",
       "      <td>0.313267</td>\n",
       "      <td>-0.289617</td>\n",
       "      <td>0.002988</td>\n",
       "      <td>-0.015309</td>\n",
       "      <td>42.53</td>\n",
       "      <td>1</td>\n",
       "    </tr>\n",
       "  </tbody>\n",
       "</table>\n",
       "<p>965 rows × 30 columns</p>\n",
       "</div>"
      ]
     },
     "execution_count": 98,
     "metadata": {},
     "output_type": "execute_result"
    }
   ],
   "execution_count": 98
  },
  {
   "cell_type": "code",
   "source": [
    "X = dt_sample.drop('Class', axis = 1)\n",
    "y = dt_sample['Class']"
   ],
   "metadata": {
    "trusted": true,
    "execution": {
     "iopub.status.busy": "2024-12-25T15:00:34.840216Z",
     "iopub.execute_input": "2024-12-25T15:00:34.840594Z",
     "iopub.status.idle": "2024-12-25T15:00:34.846917Z",
     "shell.execute_reply.started": "2024-12-25T15:00:34.840547Z",
     "shell.execute_reply": "2024-12-25T15:00:34.845482Z"
    },
    "ExecuteTime": {
     "end_time": "2024-12-26T01:39:53.647229Z",
     "start_time": "2024-12-26T01:39:53.633123Z"
    }
   },
   "outputs": [],
   "execution_count": 99
  },
  {
   "cell_type": "code",
   "source": "X.shape",
   "metadata": {
    "trusted": true,
    "execution": {
     "iopub.status.busy": "2024-12-25T15:00:35.603240Z",
     "iopub.execute_input": "2024-12-25T15:00:35.603563Z",
     "iopub.status.idle": "2024-12-25T15:00:35.609793Z",
     "shell.execute_reply.started": "2024-12-25T15:00:35.603536Z",
     "shell.execute_reply": "2024-12-25T15:00:35.608438Z"
    },
    "ExecuteTime": {
     "end_time": "2024-12-26T01:39:56.060204Z",
     "start_time": "2024-12-26T01:39:56.053024Z"
    }
   },
   "outputs": [
    {
     "data": {
      "text/plain": [
       "(965, 29)"
      ]
     },
     "execution_count": 100,
     "metadata": {},
     "output_type": "execute_result"
    }
   ],
   "execution_count": 100
  },
  {
   "cell_type": "code",
   "source": "X_res, y_res = SMOTE().fit_resample(X, y)",
   "metadata": {
    "trusted": true,
    "execution": {
     "iopub.status.busy": "2024-12-25T15:00:36.173269Z",
     "iopub.execute_input": "2024-12-25T15:00:36.173616Z",
     "iopub.status.idle": "2024-12-25T15:00:36.192315Z",
     "shell.execute_reply.started": "2024-12-25T15:00:36.173583Z",
     "shell.execute_reply": "2024-12-25T15:00:36.189804Z"
    },
    "ExecuteTime": {
     "end_time": "2024-12-26T01:39:57.204236Z",
     "start_time": "2024-12-26T01:39:56.526144Z"
    }
   },
   "outputs": [],
   "execution_count": 101
  },
  {
   "cell_type": "code",
   "source": "y_res.value_counts()",
   "metadata": {
    "trusted": true,
    "execution": {
     "iopub.status.busy": "2024-12-25T15:00:37.904627Z",
     "iopub.execute_input": "2024-12-25T15:00:37.905049Z",
     "iopub.status.idle": "2024-12-25T15:00:37.912191Z",
     "shell.execute_reply.started": "2024-12-25T15:00:37.905014Z",
     "shell.execute_reply": "2024-12-25T15:00:37.911164Z"
    },
    "ExecuteTime": {
     "end_time": "2024-12-26T01:39:57.432123Z",
     "start_time": "2024-12-26T01:39:57.419298Z"
    }
   },
   "outputs": [
    {
     "data": {
      "text/plain": [
       "Class\n",
       "0    492\n",
       "1    492\n",
       "Name: count, dtype: int64"
      ]
     },
     "execution_count": 102,
     "metadata": {},
     "output_type": "execute_result"
    }
   ],
   "execution_count": 102
  },
  {
   "cell_type": "code",
   "source": "X_train, X_test, y_train, y_test = train_test_split(X_res, y_res, test_size = 0.2, random_state = 42)",
   "metadata": {
    "trusted": true,
    "execution": {
     "iopub.status.busy": "2024-12-25T15:00:38.896321Z",
     "iopub.execute_input": "2024-12-25T15:00:38.896691Z",
     "iopub.status.idle": "2024-12-25T15:00:38.906432Z",
     "shell.execute_reply.started": "2024-12-25T15:00:38.896658Z",
     "shell.execute_reply": "2024-12-25T15:00:38.905431Z"
    },
    "ExecuteTime": {
     "end_time": "2024-12-26T01:39:58.075681Z",
     "start_time": "2024-12-26T01:39:58.057015Z"
    }
   },
   "outputs": [],
   "execution_count": 103
  },
  {
   "cell_type": "code",
   "source": [
    "algoritm = {\n",
    "    'Logistic Regresion': LogisticRegression(),\n",
    "    'Decision Tree Classifire': DecisionTreeClassifier(),\n",
    "}\n",
    "\n",
    "for name, clf in algoritm.items():\n",
    "    print(f\"------- {name} -------\")\n",
    "    clf.fit(X_train, y_train)\n",
    "    y_pred = clf.predict(X_test)\n",
    "    print(f\"accuracy {round(accuracy_score(y_test, y_pred) * 100, 2)}\")\n",
    "    print(f\"precision {round(precision_score(y_test, y_pred) * 100, 2)}\")\n",
    "    print(f\"recall {round(recall_score(y_test, y_pred) * 100, 2)}\")\n",
    "    print(f\"F1 score {round(f1_score(y_test, y_pred) * 100, 2)}\")"
   ],
   "metadata": {
    "trusted": true,
    "execution": {
     "iopub.status.busy": "2024-12-25T15:00:39.748526Z",
     "iopub.execute_input": "2024-12-25T15:00:39.749066Z",
     "iopub.status.idle": "2024-12-25T15:00:39.876988Z",
     "shell.execute_reply.started": "2024-12-25T15:00:39.749032Z",
     "shell.execute_reply": "2024-12-25T15:00:39.871372Z"
    },
    "ExecuteTime": {
     "end_time": "2024-12-26T01:40:19.445574Z",
     "start_time": "2024-12-26T01:40:19.305320Z"
    }
   },
   "outputs": [
    {
     "name": "stdout",
     "output_type": "stream",
     "text": [
      "------- Logistic Regresion -------\n",
      "accuracy 94.92\n",
      "precision 96.91\n",
      "recall 93.07\n",
      "F1 score 94.95\n",
      "------- Decision Tree Classifire -------\n",
      "accuracy 86.29\n",
      "precision 93.02\n",
      "recall 79.21\n",
      "F1 score 85.56\n"
     ]
    },
    {
     "name": "stderr",
     "output_type": "stream",
     "text": [
      "C:\\Users\\Rafli\\miniconda3\\Lib\\site-packages\\sklearn\\linear_model\\_logistic.py:469: ConvergenceWarning:\n",
      "\n",
      "lbfgs failed to converge (status=1):\n",
      "STOP: TOTAL NO. of ITERATIONS REACHED LIMIT.\n",
      "\n",
      "Increase the number of iterations (max_iter) or scale the data as shown in:\n",
      "    https://scikit-learn.org/stable/modules/preprocessing.html\n",
      "Please also refer to the documentation for alternative solver options:\n",
      "    https://scikit-learn.org/stable/modules/linear_model.html#logistic-regression\n",
      "\n"
     ]
    }
   ],
   "execution_count": 105
  },
  {
   "cell_type": "code",
   "source": "X_res",
   "metadata": {
    "trusted": true,
    "execution": {
     "iopub.status.busy": "2024-12-25T15:00:43.112752Z",
     "iopub.execute_input": "2024-12-25T15:00:43.113138Z",
     "iopub.status.idle": "2024-12-25T15:00:43.150339Z",
     "shell.execute_reply.started": "2024-12-25T15:00:43.113104Z",
     "shell.execute_reply": "2024-12-25T15:00:43.149042Z"
    },
    "ExecuteTime": {
     "end_time": "2024-12-26T01:40:20.099925Z",
     "start_time": "2024-12-26T01:40:20.030877Z"
    }
   },
   "outputs": [
    {
     "data": {
      "text/plain": [
       "           V1        V2        V3        V4        V5        V6        V7  \\\n",
       "0    1.528098 -1.215243 -1.044582 -0.082178  0.247343  1.867128 -0.725718   \n",
       "1    2.106911 -0.055489 -1.378199  0.227106  0.288465 -0.685444  0.177045   \n",
       "2    2.127342 -0.985106 -2.642821 -1.226925  1.894141  3.532282 -0.918524   \n",
       "3   -0.350214  0.948981  2.397142  4.554145 -0.170784  0.899240 -0.460957   \n",
       "4    1.011290 -0.639840  0.277260  0.651296 -1.072497 -1.042796  0.041717   \n",
       "..        ...       ...       ...       ...       ...       ...       ...   \n",
       "979  0.521441  1.375184 -1.027315  1.454679  0.444858 -1.293480  0.429260   \n",
       "980  0.874483  0.011906 -1.056653 -0.309879  1.795378  3.693577 -0.910350   \n",
       "981 -1.051033  1.589334 -0.275728  0.306659  0.110445 -0.235448 -0.659399   \n",
       "982  1.178440 -1.331471 -1.037323 -0.092426 -0.795303 -0.363122 -0.053108   \n",
       "983  0.409454 -0.357762  0.978562 -1.115491 -0.158704  0.761999 -0.313531   \n",
       "\n",
       "           V8        V9       V10       V11       V12       V13       V14  \\\n",
       "0    0.539660  0.796085 -0.003482  0.924519  0.992734  0.370734  0.155411   \n",
       "1   -0.279667  0.540941  0.055904 -1.313578  0.387261  0.531492  0.168204   \n",
       "2    0.784548 -0.168647  0.686446 -0.577523  0.216885 -0.052374  0.172821   \n",
       "3    0.454855 -1.024312  1.562301 -1.422292 -1.225788 -0.858847 -0.077833   \n",
       "4   -0.320749 -1.132992  0.741836 -0.304339  0.080963  0.402424  0.265452   \n",
       "..        ...       ...       ...       ...       ...       ...       ...   \n",
       "979 -0.059838 -0.543397 -1.071399  0.123766 -0.134588  0.604355 -1.922965   \n",
       "980  0.505320  0.212239 -0.284170 -0.479219  0.319090 -0.151493  0.244659   \n",
       "981 -3.344598 -0.097190  0.072123 -1.001536  0.226818 -0.252878  0.651860   \n",
       "982 -0.173429 -0.085816  0.367531 -0.942365  0.192979  0.636188 -0.470876   \n",
       "983  0.386985  1.068991 -0.913535  1.698658  1.503155 -0.217239 -0.039929   \n",
       "\n",
       "          V15       V16       V17       V18       V19       V20       V21  \\\n",
       "0    1.040859  0.102921 -0.343489 -0.509179 -0.946560  0.186622  0.377079   \n",
       "1    0.105965  0.042299 -0.527630 -0.751741  0.358687 -0.183986 -0.329417   \n",
       "2   -0.267051 -2.344252  0.119985  0.876348 -0.724164 -0.584228 -0.202012   \n",
       "3    1.013106  0.280624  0.112166  0.563928  0.915420  0.324472  0.082458   \n",
       "4    0.748946 -1.535669 -0.054289  1.102138 -1.308966 -0.212864 -0.210765   \n",
       "..        ...       ...       ...       ...       ...       ...       ...   \n",
       "979  1.707382  0.058062  2.113901  1.334724  1.041287  0.092279  0.183308   \n",
       "980  0.144636  0.196913 -0.443004 -0.171356  0.577486  0.124561 -0.527045   \n",
       "981  0.425515 -0.710081  0.592438 -0.463720  1.452277 -0.705641  3.169312   \n",
       "982 -1.300820 -0.043827  0.660020 -1.292843  0.867196  0.497827  0.531416   \n",
       "983  0.236849 -1.204264  0.516707 -0.986318 -0.250629 -0.053905  0.116765   \n",
       "\n",
       "          V22       V23       V24       V25       V26       V27       V28  \\\n",
       "0    0.835370  0.043433 -0.878826 -0.550259  0.712189 -0.030826 -0.035430   \n",
       "1   -0.788008  0.248655 -0.766063 -0.200525  0.247097 -0.066382 -0.067455   \n",
       "2    0.103763  0.072179  0.715778  0.312266 -0.034087  0.036369 -0.062140   \n",
       "3    0.361202  0.098813 -0.070926 -0.950211  0.253753  0.488939  0.273428   \n",
       "4   -0.463320 -0.124757  0.692987  0.477346 -0.365182  0.009661  0.057693   \n",
       "..        ...       ...       ...       ...       ...       ...       ...   \n",
       "979  0.675731 -0.135786 -0.028510 -0.372383 -0.010816  0.166092  0.186864   \n",
       "980 -0.818710  0.068095  1.014000  0.422022  0.138655 -0.077489  0.013507   \n",
       "981 -1.335995  0.725529 -0.097393 -1.285575  0.312783  0.305123  0.250312   \n",
       "982  1.342393 -0.254243 -0.126513  0.359092  0.192127 -0.002519 -0.009887   \n",
       "983  0.692711 -0.087621 -0.465782  0.198195  0.200797  0.104628 -0.022972   \n",
       "\n",
       "         Amount  \n",
       "0    199.500000  \n",
       "1      1.980000  \n",
       "2     11.500000  \n",
       "3     13.650000  \n",
       "4    170.930000  \n",
       "..          ...  \n",
       "979    1.000000  \n",
       "980   24.286436  \n",
       "981    2.312002  \n",
       "982  249.978831  \n",
       "983   27.895373  \n",
       "\n",
       "[984 rows x 29 columns]"
      ],
      "text/html": [
       "<div>\n",
       "<style scoped>\n",
       "    .dataframe tbody tr th:only-of-type {\n",
       "        vertical-align: middle;\n",
       "    }\n",
       "\n",
       "    .dataframe tbody tr th {\n",
       "        vertical-align: top;\n",
       "    }\n",
       "\n",
       "    .dataframe thead th {\n",
       "        text-align: right;\n",
       "    }\n",
       "</style>\n",
       "<table border=\"1\" class=\"dataframe\">\n",
       "  <thead>\n",
       "    <tr style=\"text-align: right;\">\n",
       "      <th></th>\n",
       "      <th>V1</th>\n",
       "      <th>V2</th>\n",
       "      <th>V3</th>\n",
       "      <th>V4</th>\n",
       "      <th>V5</th>\n",
       "      <th>V6</th>\n",
       "      <th>V7</th>\n",
       "      <th>V8</th>\n",
       "      <th>V9</th>\n",
       "      <th>V10</th>\n",
       "      <th>V11</th>\n",
       "      <th>V12</th>\n",
       "      <th>V13</th>\n",
       "      <th>V14</th>\n",
       "      <th>V15</th>\n",
       "      <th>V16</th>\n",
       "      <th>V17</th>\n",
       "      <th>V18</th>\n",
       "      <th>V19</th>\n",
       "      <th>V20</th>\n",
       "      <th>V21</th>\n",
       "      <th>V22</th>\n",
       "      <th>V23</th>\n",
       "      <th>V24</th>\n",
       "      <th>V25</th>\n",
       "      <th>V26</th>\n",
       "      <th>V27</th>\n",
       "      <th>V28</th>\n",
       "      <th>Amount</th>\n",
       "    </tr>\n",
       "  </thead>\n",
       "  <tbody>\n",
       "    <tr>\n",
       "      <th>0</th>\n",
       "      <td>1.528098</td>\n",
       "      <td>-1.215243</td>\n",
       "      <td>-1.044582</td>\n",
       "      <td>-0.082178</td>\n",
       "      <td>0.247343</td>\n",
       "      <td>1.867128</td>\n",
       "      <td>-0.725718</td>\n",
       "      <td>0.539660</td>\n",
       "      <td>0.796085</td>\n",
       "      <td>-0.003482</td>\n",
       "      <td>0.924519</td>\n",
       "      <td>0.992734</td>\n",
       "      <td>0.370734</td>\n",
       "      <td>0.155411</td>\n",
       "      <td>1.040859</td>\n",
       "      <td>0.102921</td>\n",
       "      <td>-0.343489</td>\n",
       "      <td>-0.509179</td>\n",
       "      <td>-0.946560</td>\n",
       "      <td>0.186622</td>\n",
       "      <td>0.377079</td>\n",
       "      <td>0.835370</td>\n",
       "      <td>0.043433</td>\n",
       "      <td>-0.878826</td>\n",
       "      <td>-0.550259</td>\n",
       "      <td>0.712189</td>\n",
       "      <td>-0.030826</td>\n",
       "      <td>-0.035430</td>\n",
       "      <td>199.500000</td>\n",
       "    </tr>\n",
       "    <tr>\n",
       "      <th>1</th>\n",
       "      <td>2.106911</td>\n",
       "      <td>-0.055489</td>\n",
       "      <td>-1.378199</td>\n",
       "      <td>0.227106</td>\n",
       "      <td>0.288465</td>\n",
       "      <td>-0.685444</td>\n",
       "      <td>0.177045</td>\n",
       "      <td>-0.279667</td>\n",
       "      <td>0.540941</td>\n",
       "      <td>0.055904</td>\n",
       "      <td>-1.313578</td>\n",
       "      <td>0.387261</td>\n",
       "      <td>0.531492</td>\n",
       "      <td>0.168204</td>\n",
       "      <td>0.105965</td>\n",
       "      <td>0.042299</td>\n",
       "      <td>-0.527630</td>\n",
       "      <td>-0.751741</td>\n",
       "      <td>0.358687</td>\n",
       "      <td>-0.183986</td>\n",
       "      <td>-0.329417</td>\n",
       "      <td>-0.788008</td>\n",
       "      <td>0.248655</td>\n",
       "      <td>-0.766063</td>\n",
       "      <td>-0.200525</td>\n",
       "      <td>0.247097</td>\n",
       "      <td>-0.066382</td>\n",
       "      <td>-0.067455</td>\n",
       "      <td>1.980000</td>\n",
       "    </tr>\n",
       "    <tr>\n",
       "      <th>2</th>\n",
       "      <td>2.127342</td>\n",
       "      <td>-0.985106</td>\n",
       "      <td>-2.642821</td>\n",
       "      <td>-1.226925</td>\n",
       "      <td>1.894141</td>\n",
       "      <td>3.532282</td>\n",
       "      <td>-0.918524</td>\n",
       "      <td>0.784548</td>\n",
       "      <td>-0.168647</td>\n",
       "      <td>0.686446</td>\n",
       "      <td>-0.577523</td>\n",
       "      <td>0.216885</td>\n",
       "      <td>-0.052374</td>\n",
       "      <td>0.172821</td>\n",
       "      <td>-0.267051</td>\n",
       "      <td>-2.344252</td>\n",
       "      <td>0.119985</td>\n",
       "      <td>0.876348</td>\n",
       "      <td>-0.724164</td>\n",
       "      <td>-0.584228</td>\n",
       "      <td>-0.202012</td>\n",
       "      <td>0.103763</td>\n",
       "      <td>0.072179</td>\n",
       "      <td>0.715778</td>\n",
       "      <td>0.312266</td>\n",
       "      <td>-0.034087</td>\n",
       "      <td>0.036369</td>\n",
       "      <td>-0.062140</td>\n",
       "      <td>11.500000</td>\n",
       "    </tr>\n",
       "    <tr>\n",
       "      <th>3</th>\n",
       "      <td>-0.350214</td>\n",
       "      <td>0.948981</td>\n",
       "      <td>2.397142</td>\n",
       "      <td>4.554145</td>\n",
       "      <td>-0.170784</td>\n",
       "      <td>0.899240</td>\n",
       "      <td>-0.460957</td>\n",
       "      <td>0.454855</td>\n",
       "      <td>-1.024312</td>\n",
       "      <td>1.562301</td>\n",
       "      <td>-1.422292</td>\n",
       "      <td>-1.225788</td>\n",
       "      <td>-0.858847</td>\n",
       "      <td>-0.077833</td>\n",
       "      <td>1.013106</td>\n",
       "      <td>0.280624</td>\n",
       "      <td>0.112166</td>\n",
       "      <td>0.563928</td>\n",
       "      <td>0.915420</td>\n",
       "      <td>0.324472</td>\n",
       "      <td>0.082458</td>\n",
       "      <td>0.361202</td>\n",
       "      <td>0.098813</td>\n",
       "      <td>-0.070926</td>\n",
       "      <td>-0.950211</td>\n",
       "      <td>0.253753</td>\n",
       "      <td>0.488939</td>\n",
       "      <td>0.273428</td>\n",
       "      <td>13.650000</td>\n",
       "    </tr>\n",
       "    <tr>\n",
       "      <th>4</th>\n",
       "      <td>1.011290</td>\n",
       "      <td>-0.639840</td>\n",
       "      <td>0.277260</td>\n",
       "      <td>0.651296</td>\n",
       "      <td>-1.072497</td>\n",
       "      <td>-1.042796</td>\n",
       "      <td>0.041717</td>\n",
       "      <td>-0.320749</td>\n",
       "      <td>-1.132992</td>\n",
       "      <td>0.741836</td>\n",
       "      <td>-0.304339</td>\n",
       "      <td>0.080963</td>\n",
       "      <td>0.402424</td>\n",
       "      <td>0.265452</td>\n",
       "      <td>0.748946</td>\n",
       "      <td>-1.535669</td>\n",
       "      <td>-0.054289</td>\n",
       "      <td>1.102138</td>\n",
       "      <td>-1.308966</td>\n",
       "      <td>-0.212864</td>\n",
       "      <td>-0.210765</td>\n",
       "      <td>-0.463320</td>\n",
       "      <td>-0.124757</td>\n",
       "      <td>0.692987</td>\n",
       "      <td>0.477346</td>\n",
       "      <td>-0.365182</td>\n",
       "      <td>0.009661</td>\n",
       "      <td>0.057693</td>\n",
       "      <td>170.930000</td>\n",
       "    </tr>\n",
       "    <tr>\n",
       "      <th>...</th>\n",
       "      <td>...</td>\n",
       "      <td>...</td>\n",
       "      <td>...</td>\n",
       "      <td>...</td>\n",
       "      <td>...</td>\n",
       "      <td>...</td>\n",
       "      <td>...</td>\n",
       "      <td>...</td>\n",
       "      <td>...</td>\n",
       "      <td>...</td>\n",
       "      <td>...</td>\n",
       "      <td>...</td>\n",
       "      <td>...</td>\n",
       "      <td>...</td>\n",
       "      <td>...</td>\n",
       "      <td>...</td>\n",
       "      <td>...</td>\n",
       "      <td>...</td>\n",
       "      <td>...</td>\n",
       "      <td>...</td>\n",
       "      <td>...</td>\n",
       "      <td>...</td>\n",
       "      <td>...</td>\n",
       "      <td>...</td>\n",
       "      <td>...</td>\n",
       "      <td>...</td>\n",
       "      <td>...</td>\n",
       "      <td>...</td>\n",
       "      <td>...</td>\n",
       "    </tr>\n",
       "    <tr>\n",
       "      <th>979</th>\n",
       "      <td>0.521441</td>\n",
       "      <td>1.375184</td>\n",
       "      <td>-1.027315</td>\n",
       "      <td>1.454679</td>\n",
       "      <td>0.444858</td>\n",
       "      <td>-1.293480</td>\n",
       "      <td>0.429260</td>\n",
       "      <td>-0.059838</td>\n",
       "      <td>-0.543397</td>\n",
       "      <td>-1.071399</td>\n",
       "      <td>0.123766</td>\n",
       "      <td>-0.134588</td>\n",
       "      <td>0.604355</td>\n",
       "      <td>-1.922965</td>\n",
       "      <td>1.707382</td>\n",
       "      <td>0.058062</td>\n",
       "      <td>2.113901</td>\n",
       "      <td>1.334724</td>\n",
       "      <td>1.041287</td>\n",
       "      <td>0.092279</td>\n",
       "      <td>0.183308</td>\n",
       "      <td>0.675731</td>\n",
       "      <td>-0.135786</td>\n",
       "      <td>-0.028510</td>\n",
       "      <td>-0.372383</td>\n",
       "      <td>-0.010816</td>\n",
       "      <td>0.166092</td>\n",
       "      <td>0.186864</td>\n",
       "      <td>1.000000</td>\n",
       "    </tr>\n",
       "    <tr>\n",
       "      <th>980</th>\n",
       "      <td>0.874483</td>\n",
       "      <td>0.011906</td>\n",
       "      <td>-1.056653</td>\n",
       "      <td>-0.309879</td>\n",
       "      <td>1.795378</td>\n",
       "      <td>3.693577</td>\n",
       "      <td>-0.910350</td>\n",
       "      <td>0.505320</td>\n",
       "      <td>0.212239</td>\n",
       "      <td>-0.284170</td>\n",
       "      <td>-0.479219</td>\n",
       "      <td>0.319090</td>\n",
       "      <td>-0.151493</td>\n",
       "      <td>0.244659</td>\n",
       "      <td>0.144636</td>\n",
       "      <td>0.196913</td>\n",
       "      <td>-0.443004</td>\n",
       "      <td>-0.171356</td>\n",
       "      <td>0.577486</td>\n",
       "      <td>0.124561</td>\n",
       "      <td>-0.527045</td>\n",
       "      <td>-0.818710</td>\n",
       "      <td>0.068095</td>\n",
       "      <td>1.014000</td>\n",
       "      <td>0.422022</td>\n",
       "      <td>0.138655</td>\n",
       "      <td>-0.077489</td>\n",
       "      <td>0.013507</td>\n",
       "      <td>24.286436</td>\n",
       "    </tr>\n",
       "    <tr>\n",
       "      <th>981</th>\n",
       "      <td>-1.051033</td>\n",
       "      <td>1.589334</td>\n",
       "      <td>-0.275728</td>\n",
       "      <td>0.306659</td>\n",
       "      <td>0.110445</td>\n",
       "      <td>-0.235448</td>\n",
       "      <td>-0.659399</td>\n",
       "      <td>-3.344598</td>\n",
       "      <td>-0.097190</td>\n",
       "      <td>0.072123</td>\n",
       "      <td>-1.001536</td>\n",
       "      <td>0.226818</td>\n",
       "      <td>-0.252878</td>\n",
       "      <td>0.651860</td>\n",
       "      <td>0.425515</td>\n",
       "      <td>-0.710081</td>\n",
       "      <td>0.592438</td>\n",
       "      <td>-0.463720</td>\n",
       "      <td>1.452277</td>\n",
       "      <td>-0.705641</td>\n",
       "      <td>3.169312</td>\n",
       "      <td>-1.335995</td>\n",
       "      <td>0.725529</td>\n",
       "      <td>-0.097393</td>\n",
       "      <td>-1.285575</td>\n",
       "      <td>0.312783</td>\n",
       "      <td>0.305123</td>\n",
       "      <td>0.250312</td>\n",
       "      <td>2.312002</td>\n",
       "    </tr>\n",
       "    <tr>\n",
       "      <th>982</th>\n",
       "      <td>1.178440</td>\n",
       "      <td>-1.331471</td>\n",
       "      <td>-1.037323</td>\n",
       "      <td>-0.092426</td>\n",
       "      <td>-0.795303</td>\n",
       "      <td>-0.363122</td>\n",
       "      <td>-0.053108</td>\n",
       "      <td>-0.173429</td>\n",
       "      <td>-0.085816</td>\n",
       "      <td>0.367531</td>\n",
       "      <td>-0.942365</td>\n",
       "      <td>0.192979</td>\n",
       "      <td>0.636188</td>\n",
       "      <td>-0.470876</td>\n",
       "      <td>-1.300820</td>\n",
       "      <td>-0.043827</td>\n",
       "      <td>0.660020</td>\n",
       "      <td>-1.292843</td>\n",
       "      <td>0.867196</td>\n",
       "      <td>0.497827</td>\n",
       "      <td>0.531416</td>\n",
       "      <td>1.342393</td>\n",
       "      <td>-0.254243</td>\n",
       "      <td>-0.126513</td>\n",
       "      <td>0.359092</td>\n",
       "      <td>0.192127</td>\n",
       "      <td>-0.002519</td>\n",
       "      <td>-0.009887</td>\n",
       "      <td>249.978831</td>\n",
       "    </tr>\n",
       "    <tr>\n",
       "      <th>983</th>\n",
       "      <td>0.409454</td>\n",
       "      <td>-0.357762</td>\n",
       "      <td>0.978562</td>\n",
       "      <td>-1.115491</td>\n",
       "      <td>-0.158704</td>\n",
       "      <td>0.761999</td>\n",
       "      <td>-0.313531</td>\n",
       "      <td>0.386985</td>\n",
       "      <td>1.068991</td>\n",
       "      <td>-0.913535</td>\n",
       "      <td>1.698658</td>\n",
       "      <td>1.503155</td>\n",
       "      <td>-0.217239</td>\n",
       "      <td>-0.039929</td>\n",
       "      <td>0.236849</td>\n",
       "      <td>-1.204264</td>\n",
       "      <td>0.516707</td>\n",
       "      <td>-0.986318</td>\n",
       "      <td>-0.250629</td>\n",
       "      <td>-0.053905</td>\n",
       "      <td>0.116765</td>\n",
       "      <td>0.692711</td>\n",
       "      <td>-0.087621</td>\n",
       "      <td>-0.465782</td>\n",
       "      <td>0.198195</td>\n",
       "      <td>0.200797</td>\n",
       "      <td>0.104628</td>\n",
       "      <td>-0.022972</td>\n",
       "      <td>27.895373</td>\n",
       "    </tr>\n",
       "  </tbody>\n",
       "</table>\n",
       "<p>984 rows × 29 columns</p>\n",
       "</div>"
      ]
     },
     "execution_count": 106,
     "metadata": {},
     "output_type": "execute_result"
    }
   ],
   "execution_count": 106
  },
  {
   "cell_type": "code",
   "source": "dtc = DecisionTreeClassifier()\ndtc.fit(X_res, y_res)",
   "metadata": {
    "trusted": true,
    "execution": {
     "iopub.status.busy": "2024-12-25T15:00:44.110188Z",
     "iopub.execute_input": "2024-12-25T15:00:44.110513Z",
     "iopub.status.idle": "2024-12-25T15:00:44.147374Z",
     "shell.execute_reply.started": "2024-12-25T15:00:44.110486Z",
     "shell.execute_reply": "2024-12-25T15:00:44.146310Z"
    },
    "ExecuteTime": {
     "end_time": "2024-12-26T01:40:21.054395Z",
     "start_time": "2024-12-26T01:40:21.005285Z"
    }
   },
   "outputs": [
    {
     "data": {
      "text/plain": [
       "DecisionTreeClassifier()"
      ],
      "text/html": [
       "<style>#sk-container-id-3 {\n",
       "  /* Definition of color scheme common for light and dark mode */\n",
       "  --sklearn-color-text: black;\n",
       "  --sklearn-color-line: gray;\n",
       "  /* Definition of color scheme for unfitted estimators */\n",
       "  --sklearn-color-unfitted-level-0: #fff5e6;\n",
       "  --sklearn-color-unfitted-level-1: #f6e4d2;\n",
       "  --sklearn-color-unfitted-level-2: #ffe0b3;\n",
       "  --sklearn-color-unfitted-level-3: chocolate;\n",
       "  /* Definition of color scheme for fitted estimators */\n",
       "  --sklearn-color-fitted-level-0: #f0f8ff;\n",
       "  --sklearn-color-fitted-level-1: #d4ebff;\n",
       "  --sklearn-color-fitted-level-2: #b3dbfd;\n",
       "  --sklearn-color-fitted-level-3: cornflowerblue;\n",
       "\n",
       "  /* Specific color for light theme */\n",
       "  --sklearn-color-text-on-default-background: var(--sg-text-color, var(--theme-code-foreground, var(--jp-content-font-color1, black)));\n",
       "  --sklearn-color-background: var(--sg-background-color, var(--theme-background, var(--jp-layout-color0, white)));\n",
       "  --sklearn-color-border-box: var(--sg-text-color, var(--theme-code-foreground, var(--jp-content-font-color1, black)));\n",
       "  --sklearn-color-icon: #696969;\n",
       "\n",
       "  @media (prefers-color-scheme: dark) {\n",
       "    /* Redefinition of color scheme for dark theme */\n",
       "    --sklearn-color-text-on-default-background: var(--sg-text-color, var(--theme-code-foreground, var(--jp-content-font-color1, white)));\n",
       "    --sklearn-color-background: var(--sg-background-color, var(--theme-background, var(--jp-layout-color0, #111)));\n",
       "    --sklearn-color-border-box: var(--sg-text-color, var(--theme-code-foreground, var(--jp-content-font-color1, white)));\n",
       "    --sklearn-color-icon: #878787;\n",
       "  }\n",
       "}\n",
       "\n",
       "#sk-container-id-3 {\n",
       "  color: var(--sklearn-color-text);\n",
       "}\n",
       "\n",
       "#sk-container-id-3 pre {\n",
       "  padding: 0;\n",
       "}\n",
       "\n",
       "#sk-container-id-3 input.sk-hidden--visually {\n",
       "  border: 0;\n",
       "  clip: rect(1px 1px 1px 1px);\n",
       "  clip: rect(1px, 1px, 1px, 1px);\n",
       "  height: 1px;\n",
       "  margin: -1px;\n",
       "  overflow: hidden;\n",
       "  padding: 0;\n",
       "  position: absolute;\n",
       "  width: 1px;\n",
       "}\n",
       "\n",
       "#sk-container-id-3 div.sk-dashed-wrapped {\n",
       "  border: 1px dashed var(--sklearn-color-line);\n",
       "  margin: 0 0.4em 0.5em 0.4em;\n",
       "  box-sizing: border-box;\n",
       "  padding-bottom: 0.4em;\n",
       "  background-color: var(--sklearn-color-background);\n",
       "}\n",
       "\n",
       "#sk-container-id-3 div.sk-container {\n",
       "  /* jupyter's `normalize.less` sets `[hidden] { display: none; }`\n",
       "     but bootstrap.min.css set `[hidden] { display: none !important; }`\n",
       "     so we also need the `!important` here to be able to override the\n",
       "     default hidden behavior on the sphinx rendered scikit-learn.org.\n",
       "     See: https://github.com/scikit-learn/scikit-learn/issues/21755 */\n",
       "  display: inline-block !important;\n",
       "  position: relative;\n",
       "}\n",
       "\n",
       "#sk-container-id-3 div.sk-text-repr-fallback {\n",
       "  display: none;\n",
       "}\n",
       "\n",
       "div.sk-parallel-item,\n",
       "div.sk-serial,\n",
       "div.sk-item {\n",
       "  /* draw centered vertical line to link estimators */\n",
       "  background-image: linear-gradient(var(--sklearn-color-text-on-default-background), var(--sklearn-color-text-on-default-background));\n",
       "  background-size: 2px 100%;\n",
       "  background-repeat: no-repeat;\n",
       "  background-position: center center;\n",
       "}\n",
       "\n",
       "/* Parallel-specific style estimator block */\n",
       "\n",
       "#sk-container-id-3 div.sk-parallel-item::after {\n",
       "  content: \"\";\n",
       "  width: 100%;\n",
       "  border-bottom: 2px solid var(--sklearn-color-text-on-default-background);\n",
       "  flex-grow: 1;\n",
       "}\n",
       "\n",
       "#sk-container-id-3 div.sk-parallel {\n",
       "  display: flex;\n",
       "  align-items: stretch;\n",
       "  justify-content: center;\n",
       "  background-color: var(--sklearn-color-background);\n",
       "  position: relative;\n",
       "}\n",
       "\n",
       "#sk-container-id-3 div.sk-parallel-item {\n",
       "  display: flex;\n",
       "  flex-direction: column;\n",
       "}\n",
       "\n",
       "#sk-container-id-3 div.sk-parallel-item:first-child::after {\n",
       "  align-self: flex-end;\n",
       "  width: 50%;\n",
       "}\n",
       "\n",
       "#sk-container-id-3 div.sk-parallel-item:last-child::after {\n",
       "  align-self: flex-start;\n",
       "  width: 50%;\n",
       "}\n",
       "\n",
       "#sk-container-id-3 div.sk-parallel-item:only-child::after {\n",
       "  width: 0;\n",
       "}\n",
       "\n",
       "/* Serial-specific style estimator block */\n",
       "\n",
       "#sk-container-id-3 div.sk-serial {\n",
       "  display: flex;\n",
       "  flex-direction: column;\n",
       "  align-items: center;\n",
       "  background-color: var(--sklearn-color-background);\n",
       "  padding-right: 1em;\n",
       "  padding-left: 1em;\n",
       "}\n",
       "\n",
       "\n",
       "/* Toggleable style: style used for estimator/Pipeline/ColumnTransformer box that is\n",
       "clickable and can be expanded/collapsed.\n",
       "- Pipeline and ColumnTransformer use this feature and define the default style\n",
       "- Estimators will overwrite some part of the style using the `sk-estimator` class\n",
       "*/\n",
       "\n",
       "/* Pipeline and ColumnTransformer style (default) */\n",
       "\n",
       "#sk-container-id-3 div.sk-toggleable {\n",
       "  /* Default theme specific background. It is overwritten whether we have a\n",
       "  specific estimator or a Pipeline/ColumnTransformer */\n",
       "  background-color: var(--sklearn-color-background);\n",
       "}\n",
       "\n",
       "/* Toggleable label */\n",
       "#sk-container-id-3 label.sk-toggleable__label {\n",
       "  cursor: pointer;\n",
       "  display: block;\n",
       "  width: 100%;\n",
       "  margin-bottom: 0;\n",
       "  padding: 0.5em;\n",
       "  box-sizing: border-box;\n",
       "  text-align: center;\n",
       "}\n",
       "\n",
       "#sk-container-id-3 label.sk-toggleable__label-arrow:before {\n",
       "  /* Arrow on the left of the label */\n",
       "  content: \"▸\";\n",
       "  float: left;\n",
       "  margin-right: 0.25em;\n",
       "  color: var(--sklearn-color-icon);\n",
       "}\n",
       "\n",
       "#sk-container-id-3 label.sk-toggleable__label-arrow:hover:before {\n",
       "  color: var(--sklearn-color-text);\n",
       "}\n",
       "\n",
       "/* Toggleable content - dropdown */\n",
       "\n",
       "#sk-container-id-3 div.sk-toggleable__content {\n",
       "  max-height: 0;\n",
       "  max-width: 0;\n",
       "  overflow: hidden;\n",
       "  text-align: left;\n",
       "  /* unfitted */\n",
       "  background-color: var(--sklearn-color-unfitted-level-0);\n",
       "}\n",
       "\n",
       "#sk-container-id-3 div.sk-toggleable__content.fitted {\n",
       "  /* fitted */\n",
       "  background-color: var(--sklearn-color-fitted-level-0);\n",
       "}\n",
       "\n",
       "#sk-container-id-3 div.sk-toggleable__content pre {\n",
       "  margin: 0.2em;\n",
       "  border-radius: 0.25em;\n",
       "  color: var(--sklearn-color-text);\n",
       "  /* unfitted */\n",
       "  background-color: var(--sklearn-color-unfitted-level-0);\n",
       "}\n",
       "\n",
       "#sk-container-id-3 div.sk-toggleable__content.fitted pre {\n",
       "  /* unfitted */\n",
       "  background-color: var(--sklearn-color-fitted-level-0);\n",
       "}\n",
       "\n",
       "#sk-container-id-3 input.sk-toggleable__control:checked~div.sk-toggleable__content {\n",
       "  /* Expand drop-down */\n",
       "  max-height: 200px;\n",
       "  max-width: 100%;\n",
       "  overflow: auto;\n",
       "}\n",
       "\n",
       "#sk-container-id-3 input.sk-toggleable__control:checked~label.sk-toggleable__label-arrow:before {\n",
       "  content: \"▾\";\n",
       "}\n",
       "\n",
       "/* Pipeline/ColumnTransformer-specific style */\n",
       "\n",
       "#sk-container-id-3 div.sk-label input.sk-toggleable__control:checked~label.sk-toggleable__label {\n",
       "  color: var(--sklearn-color-text);\n",
       "  background-color: var(--sklearn-color-unfitted-level-2);\n",
       "}\n",
       "\n",
       "#sk-container-id-3 div.sk-label.fitted input.sk-toggleable__control:checked~label.sk-toggleable__label {\n",
       "  background-color: var(--sklearn-color-fitted-level-2);\n",
       "}\n",
       "\n",
       "/* Estimator-specific style */\n",
       "\n",
       "/* Colorize estimator box */\n",
       "#sk-container-id-3 div.sk-estimator input.sk-toggleable__control:checked~label.sk-toggleable__label {\n",
       "  /* unfitted */\n",
       "  background-color: var(--sklearn-color-unfitted-level-2);\n",
       "}\n",
       "\n",
       "#sk-container-id-3 div.sk-estimator.fitted input.sk-toggleable__control:checked~label.sk-toggleable__label {\n",
       "  /* fitted */\n",
       "  background-color: var(--sklearn-color-fitted-level-2);\n",
       "}\n",
       "\n",
       "#sk-container-id-3 div.sk-label label.sk-toggleable__label,\n",
       "#sk-container-id-3 div.sk-label label {\n",
       "  /* The background is the default theme color */\n",
       "  color: var(--sklearn-color-text-on-default-background);\n",
       "}\n",
       "\n",
       "/* On hover, darken the color of the background */\n",
       "#sk-container-id-3 div.sk-label:hover label.sk-toggleable__label {\n",
       "  color: var(--sklearn-color-text);\n",
       "  background-color: var(--sklearn-color-unfitted-level-2);\n",
       "}\n",
       "\n",
       "/* Label box, darken color on hover, fitted */\n",
       "#sk-container-id-3 div.sk-label.fitted:hover label.sk-toggleable__label.fitted {\n",
       "  color: var(--sklearn-color-text);\n",
       "  background-color: var(--sklearn-color-fitted-level-2);\n",
       "}\n",
       "\n",
       "/* Estimator label */\n",
       "\n",
       "#sk-container-id-3 div.sk-label label {\n",
       "  font-family: monospace;\n",
       "  font-weight: bold;\n",
       "  display: inline-block;\n",
       "  line-height: 1.2em;\n",
       "}\n",
       "\n",
       "#sk-container-id-3 div.sk-label-container {\n",
       "  text-align: center;\n",
       "}\n",
       "\n",
       "/* Estimator-specific */\n",
       "#sk-container-id-3 div.sk-estimator {\n",
       "  font-family: monospace;\n",
       "  border: 1px dotted var(--sklearn-color-border-box);\n",
       "  border-radius: 0.25em;\n",
       "  box-sizing: border-box;\n",
       "  margin-bottom: 0.5em;\n",
       "  /* unfitted */\n",
       "  background-color: var(--sklearn-color-unfitted-level-0);\n",
       "}\n",
       "\n",
       "#sk-container-id-3 div.sk-estimator.fitted {\n",
       "  /* fitted */\n",
       "  background-color: var(--sklearn-color-fitted-level-0);\n",
       "}\n",
       "\n",
       "/* on hover */\n",
       "#sk-container-id-3 div.sk-estimator:hover {\n",
       "  /* unfitted */\n",
       "  background-color: var(--sklearn-color-unfitted-level-2);\n",
       "}\n",
       "\n",
       "#sk-container-id-3 div.sk-estimator.fitted:hover {\n",
       "  /* fitted */\n",
       "  background-color: var(--sklearn-color-fitted-level-2);\n",
       "}\n",
       "\n",
       "/* Specification for estimator info (e.g. \"i\" and \"?\") */\n",
       "\n",
       "/* Common style for \"i\" and \"?\" */\n",
       "\n",
       ".sk-estimator-doc-link,\n",
       "a:link.sk-estimator-doc-link,\n",
       "a:visited.sk-estimator-doc-link {\n",
       "  float: right;\n",
       "  font-size: smaller;\n",
       "  line-height: 1em;\n",
       "  font-family: monospace;\n",
       "  background-color: var(--sklearn-color-background);\n",
       "  border-radius: 1em;\n",
       "  height: 1em;\n",
       "  width: 1em;\n",
       "  text-decoration: none !important;\n",
       "  margin-left: 1ex;\n",
       "  /* unfitted */\n",
       "  border: var(--sklearn-color-unfitted-level-1) 1pt solid;\n",
       "  color: var(--sklearn-color-unfitted-level-1);\n",
       "}\n",
       "\n",
       ".sk-estimator-doc-link.fitted,\n",
       "a:link.sk-estimator-doc-link.fitted,\n",
       "a:visited.sk-estimator-doc-link.fitted {\n",
       "  /* fitted */\n",
       "  border: var(--sklearn-color-fitted-level-1) 1pt solid;\n",
       "  color: var(--sklearn-color-fitted-level-1);\n",
       "}\n",
       "\n",
       "/* On hover */\n",
       "div.sk-estimator:hover .sk-estimator-doc-link:hover,\n",
       ".sk-estimator-doc-link:hover,\n",
       "div.sk-label-container:hover .sk-estimator-doc-link:hover,\n",
       ".sk-estimator-doc-link:hover {\n",
       "  /* unfitted */\n",
       "  background-color: var(--sklearn-color-unfitted-level-3);\n",
       "  color: var(--sklearn-color-background);\n",
       "  text-decoration: none;\n",
       "}\n",
       "\n",
       "div.sk-estimator.fitted:hover .sk-estimator-doc-link.fitted:hover,\n",
       ".sk-estimator-doc-link.fitted:hover,\n",
       "div.sk-label-container:hover .sk-estimator-doc-link.fitted:hover,\n",
       ".sk-estimator-doc-link.fitted:hover {\n",
       "  /* fitted */\n",
       "  background-color: var(--sklearn-color-fitted-level-3);\n",
       "  color: var(--sklearn-color-background);\n",
       "  text-decoration: none;\n",
       "}\n",
       "\n",
       "/* Span, style for the box shown on hovering the info icon */\n",
       ".sk-estimator-doc-link span {\n",
       "  display: none;\n",
       "  z-index: 9999;\n",
       "  position: relative;\n",
       "  font-weight: normal;\n",
       "  right: .2ex;\n",
       "  padding: .5ex;\n",
       "  margin: .5ex;\n",
       "  width: min-content;\n",
       "  min-width: 20ex;\n",
       "  max-width: 50ex;\n",
       "  color: var(--sklearn-color-text);\n",
       "  box-shadow: 2pt 2pt 4pt #999;\n",
       "  /* unfitted */\n",
       "  background: var(--sklearn-color-unfitted-level-0);\n",
       "  border: .5pt solid var(--sklearn-color-unfitted-level-3);\n",
       "}\n",
       "\n",
       ".sk-estimator-doc-link.fitted span {\n",
       "  /* fitted */\n",
       "  background: var(--sklearn-color-fitted-level-0);\n",
       "  border: var(--sklearn-color-fitted-level-3);\n",
       "}\n",
       "\n",
       ".sk-estimator-doc-link:hover span {\n",
       "  display: block;\n",
       "}\n",
       "\n",
       "/* \"?\"-specific style due to the `<a>` HTML tag */\n",
       "\n",
       "#sk-container-id-3 a.estimator_doc_link {\n",
       "  float: right;\n",
       "  font-size: 1rem;\n",
       "  line-height: 1em;\n",
       "  font-family: monospace;\n",
       "  background-color: var(--sklearn-color-background);\n",
       "  border-radius: 1rem;\n",
       "  height: 1rem;\n",
       "  width: 1rem;\n",
       "  text-decoration: none;\n",
       "  /* unfitted */\n",
       "  color: var(--sklearn-color-unfitted-level-1);\n",
       "  border: var(--sklearn-color-unfitted-level-1) 1pt solid;\n",
       "}\n",
       "\n",
       "#sk-container-id-3 a.estimator_doc_link.fitted {\n",
       "  /* fitted */\n",
       "  border: var(--sklearn-color-fitted-level-1) 1pt solid;\n",
       "  color: var(--sklearn-color-fitted-level-1);\n",
       "}\n",
       "\n",
       "/* On hover */\n",
       "#sk-container-id-3 a.estimator_doc_link:hover {\n",
       "  /* unfitted */\n",
       "  background-color: var(--sklearn-color-unfitted-level-3);\n",
       "  color: var(--sklearn-color-background);\n",
       "  text-decoration: none;\n",
       "}\n",
       "\n",
       "#sk-container-id-3 a.estimator_doc_link.fitted:hover {\n",
       "  /* fitted */\n",
       "  background-color: var(--sklearn-color-fitted-level-3);\n",
       "}\n",
       "</style><div id=\"sk-container-id-3\" class=\"sk-top-container\"><div class=\"sk-text-repr-fallback\"><pre>DecisionTreeClassifier()</pre><b>In a Jupyter environment, please rerun this cell to show the HTML representation or trust the notebook. <br />On GitHub, the HTML representation is unable to render, please try loading this page with nbviewer.org.</b></div><div class=\"sk-container\" hidden><div class=\"sk-item\"><div class=\"sk-estimator fitted sk-toggleable\"><input class=\"sk-toggleable__control sk-hidden--visually\" id=\"sk-estimator-id-3\" type=\"checkbox\" checked><label for=\"sk-estimator-id-3\" class=\"sk-toggleable__label fitted sk-toggleable__label-arrow fitted\">&nbsp;&nbsp;DecisionTreeClassifier<a class=\"sk-estimator-doc-link fitted\" rel=\"noreferrer\" target=\"_blank\" href=\"https://scikit-learn.org/1.5/modules/generated/sklearn.tree.DecisionTreeClassifier.html\">?<span>Documentation for DecisionTreeClassifier</span></a><span class=\"sk-estimator-doc-link fitted\">i<span>Fitted</span></span></label><div class=\"sk-toggleable__content fitted\"><pre>DecisionTreeClassifier()</pre></div> </div></div></div></div>"
      ]
     },
     "execution_count": 107,
     "metadata": {},
     "output_type": "execute_result"
    }
   ],
   "execution_count": 107
  },
  {
   "cell_type": "code",
   "source": "joblib.dump(dtc, \"model_balance.pkl\")",
   "metadata": {
    "trusted": true,
    "execution": {
     "iopub.status.busy": "2024-12-25T15:00:46.749139Z",
     "iopub.execute_input": "2024-12-25T15:00:46.749507Z",
     "iopub.status.idle": "2024-12-25T15:00:46.758448Z",
     "shell.execute_reply.started": "2024-12-25T15:00:46.749465Z",
     "shell.execute_reply": "2024-12-25T15:00:46.757474Z"
    },
    "ExecuteTime": {
     "end_time": "2024-12-26T01:40:22.726839Z",
     "start_time": "2024-12-26T01:40:22.716052Z"
    }
   },
   "outputs": [
    {
     "data": {
      "text/plain": [
       "['model_balance.pkl']"
      ]
     },
     "execution_count": 108,
     "metadata": {},
     "output_type": "execute_result"
    }
   ],
   "execution_count": 108
  },
  {
   "cell_type": "code",
   "source": "model = joblib.load('model_balance.pkl')",
   "metadata": {
    "trusted": true,
    "execution": {
     "iopub.status.busy": "2024-12-25T15:00:47.700379Z",
     "iopub.execute_input": "2024-12-25T15:00:47.700871Z",
     "iopub.status.idle": "2024-12-25T15:00:47.708421Z",
     "shell.execute_reply.started": "2024-12-25T15:00:47.700833Z",
     "shell.execute_reply": "2024-12-25T15:00:47.707305Z"
    },
    "ExecuteTime": {
     "end_time": "2024-12-26T01:40:23.276361Z",
     "start_time": "2024-12-26T01:40:23.253043Z"
    }
   },
   "outputs": [],
   "execution_count": 109
  },
  {
   "cell_type": "code",
   "source": "pred = model.predict([[-1.3598071336738,-0.0727811733098497,2.53634673796914,1.37815522427443,-0.338320769942518,0.462387777762292,0.239598554061257,0.0986979012610507,0.363786969611213,0.0907941719789316,-0.551599533260813,-0.617800855762348,-0.991389847235408,-0.311169353699879,1.46817697209427,-0.470400525259478,0.207971241929242,0.0257905801985591,0.403992960255733,0.251412098239705,-0.018306777944153,0.277837575558899,-0.110473910188767,0.0669280749146731,0.128539358273528,-0.189114843888824,0.133558376740387,-0.0210530534538215,149.62]])",
   "metadata": {
    "trusted": true,
    "execution": {
     "iopub.status.busy": "2024-12-25T15:00:48.862374Z",
     "iopub.execute_input": "2024-12-25T15:00:48.862803Z",
     "iopub.status.idle": "2024-12-25T15:00:48.869341Z",
     "shell.execute_reply.started": "2024-12-25T15:00:48.862759Z",
     "shell.execute_reply": "2024-12-25T15:00:48.868099Z"
    },
    "ExecuteTime": {
     "end_time": "2024-12-26T01:40:24.953989Z",
     "start_time": "2024-12-26T01:40:24.941410Z"
    }
   },
   "outputs": [
    {
     "name": "stderr",
     "output_type": "stream",
     "text": [
      "C:\\Users\\Rafli\\miniconda3\\Lib\\site-packages\\sklearn\\base.py:493: UserWarning:\n",
      "\n",
      "X does not have valid feature names, but DecisionTreeClassifier was fitted with feature names\n",
      "\n"
     ]
    }
   ],
   "execution_count": 110
  },
  {
   "cell_type": "code",
   "source": "pred[0]",
   "metadata": {
    "trusted": true,
    "execution": {
     "iopub.status.busy": "2024-12-25T15:01:06.891390Z",
     "iopub.execute_input": "2024-12-25T15:01:06.891868Z",
     "iopub.status.idle": "2024-12-25T15:01:06.898464Z",
     "shell.execute_reply.started": "2024-12-25T15:01:06.891831Z",
     "shell.execute_reply": "2024-12-25T15:01:06.897340Z"
    },
    "ExecuteTime": {
     "end_time": "2024-12-26T01:40:25.614942Z",
     "start_time": "2024-12-26T01:40:25.607141Z"
    }
   },
   "outputs": [
    {
     "data": {
      "text/plain": [
       "0"
      ]
     },
     "execution_count": 111,
     "metadata": {},
     "output_type": "execute_result"
    }
   ],
   "execution_count": 111
  },
  {
   "cell_type": "code",
   "source": "if pred[0] == 0:\n    print(\"Normal Transcation\")\nelse:\n    print(\"Fraud Transcation\")",
   "metadata": {
    "trusted": true,
    "execution": {
     "iopub.status.busy": "2024-12-25T15:01:24.030255Z",
     "iopub.execute_input": "2024-12-25T15:01:24.030598Z",
     "iopub.status.idle": "2024-12-25T15:01:24.035644Z",
     "shell.execute_reply.started": "2024-12-25T15:01:24.030570Z",
     "shell.execute_reply": "2024-12-25T15:01:24.034446Z"
    },
    "ExecuteTime": {
     "end_time": "2024-12-26T01:40:26.190046Z",
     "start_time": "2024-12-26T01:40:26.184667Z"
    }
   },
   "outputs": [
    {
     "name": "stdout",
     "output_type": "stream",
     "text": [
      "Normal Transcation\n"
     ]
    }
   ],
   "execution_count": 112
  },
  {
   "cell_type": "code",
   "source": "",
   "metadata": {
    "trusted": true
   },
   "outputs": [],
   "execution_count": null
  }
 ]
}
